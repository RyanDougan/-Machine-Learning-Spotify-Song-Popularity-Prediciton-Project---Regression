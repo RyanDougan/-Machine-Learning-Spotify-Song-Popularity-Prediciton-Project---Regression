{
 "cells": [
  {
   "cell_type": "markdown",
   "id": "ac452375",
   "metadata": {},
   "source": [
    "# Table of Contents"
   ]
  },
  {
   "cell_type": "markdown",
   "id": "3a0cc763",
   "metadata": {},
   "source": [
    "#### Introduction\n",
    "\n",
    "#### Required libraries\n",
    "\n",
    "#### The problem domain\n",
    "\n",
    "#### Getting the data\n",
    "\n",
    "#### Exploring the data\n",
    "\n",
    "#### Tidying the data\n",
    "\n",
    "####  Discover & Visualise the Data to Gain Insights\n",
    "\n",
    "#### Create Train and Test Set\n",
    "\n",
    "#### Select and Train Model\n",
    "\n",
    "#### Final Four Models\n",
    "\n",
    "#### Other Models Attempted\n",
    "\n",
    "####  Performance of Models - MSE and RMSE for Final Four Models and Other Models Attempted\n",
    "\n",
    "#### Peformance on Kaggle\n"
   ]
  },
  {
   "cell_type": "markdown",
   "id": "58910246",
   "metadata": {},
   "source": [
    "# Introduction"
   ]
  },
  {
   "cell_type": "markdown",
   "id": "ec3eaac8",
   "metadata": {},
   "source": [
    "This document deals with predicting the \"popularity\" of a song, given various attributes of the song. Both Training dataset and test dataset are available which consists of various attributes of different songs.\n",
    "\n",
    "The Training dataset consists of total of 15 columns out of which 12 columns are numeric values and the remaining 3 columns are string values. The Test dataset conists of all columns present in the training dataset, except for the \"popularity\" column."
   ]
  },
  {
   "cell_type": "markdown",
   "id": "bdc42c33",
   "metadata": {},
   "source": [
    "# Required libraries"
   ]
  },
  {
   "cell_type": "markdown",
   "id": "cb69b434",
   "metadata": {},
   "source": [
    "This notebook uses several Python packages that come standard with the Anaconda Python distribution. The primary libraries that are used are mentioned below:\n",
    "\n",
    "NumPy: Provides a fast numerical array structure and helper functions.\n",
    "\n",
    "pandas: Provides a DataFrame structure to store data in memory and work with it easily and efficiently.\n",
    "\n",
    "scikit-learn: The essential Machine Learning package in Python.\n",
    "\n",
    "matplotlib: Basic plotting library in Python; most other Python plotting libraries are built on top of it.\n",
    "\n",
    "Seaborn: Advanced statistical plotting library."
   ]
  },
  {
   "cell_type": "markdown",
   "id": "5cc20450",
   "metadata": {},
   "source": [
    "# The problem domain"
   ]
  },
  {
   "cell_type": "markdown",
   "id": "ff1977ea",
   "metadata": {},
   "source": [
    "The problem deals with predictinng the popularity of a song by using regression analysis. This will be done by using independent values within our dataset in order to predict our depedent value (popularity)."
   ]
  },
  {
   "cell_type": "markdown",
   "id": "0cc992c3",
   "metadata": {},
   "source": [
    "In order to measure the performance of the regression models, we will use Root Mean Square Error (RMSE). This performace measures, gives an idea of how much errors the system makes when predicitng."
   ]
  },
  {
   "cell_type": "markdown",
   "id": "7f4ee4d3",
   "metadata": {},
   "source": [
    "# Getting the Data"
   ]
  },
  {
   "cell_type": "markdown",
   "id": "af888541",
   "metadata": {},
   "source": [
    "Before we model the data, it is important to gain an understanding of the data. This allows us to rectify any problems within the dataset."
   ]
  },
  {
   "cell_type": "markdown",
   "id": "b9e70b3f",
   "metadata": {},
   "source": [
    "We will explore the data through various methods. Let's start by loading the train and test data into our notebook."
   ]
  },
  {
   "cell_type": "code",
   "execution_count": 20,
   "id": "488c25ff",
   "metadata": {},
   "outputs": [],
   "source": [
    "import pandas as pd\n",
    "import matplotlib.pyplot as plt\n",
    "import numpy as np\n",
    "\n"
   ]
  },
  {
   "cell_type": "code",
   "execution_count": 21,
   "id": "038a207a",
   "metadata": {},
   "outputs": [],
   "source": [
    "train = pd.read_csv(\"CS98XRegressionTrain.csv\") \n",
    "test = pd.read_csv(\"CS98XRegressionTest.csv\")"
   ]
  },
  {
   "cell_type": "markdown",
   "id": "6fb1f86b",
   "metadata": {},
   "source": [
    "# Exploring the Data"
   ]
  },
  {
   "cell_type": "code",
   "execution_count": 22,
   "id": "6256d2da",
   "metadata": {},
   "outputs": [
    {
     "data": {
      "text/html": [
       "<div>\n",
       "<style scoped>\n",
       "    .dataframe tbody tr th:only-of-type {\n",
       "        vertical-align: middle;\n",
       "    }\n",
       "\n",
       "    .dataframe tbody tr th {\n",
       "        vertical-align: top;\n",
       "    }\n",
       "\n",
       "    .dataframe thead th {\n",
       "        text-align: right;\n",
       "    }\n",
       "</style>\n",
       "<table border=\"1\" class=\"dataframe\">\n",
       "  <thead>\n",
       "    <tr style=\"text-align: right;\">\n",
       "      <th></th>\n",
       "      <th>Id</th>\n",
       "      <th>title</th>\n",
       "      <th>artist</th>\n",
       "      <th>top genre</th>\n",
       "      <th>year</th>\n",
       "      <th>bpm</th>\n",
       "      <th>nrgy</th>\n",
       "      <th>dnce</th>\n",
       "      <th>dB</th>\n",
       "      <th>live</th>\n",
       "      <th>val</th>\n",
       "      <th>dur</th>\n",
       "      <th>acous</th>\n",
       "      <th>spch</th>\n",
       "      <th>pop</th>\n",
       "    </tr>\n",
       "  </thead>\n",
       "  <tbody>\n",
       "    <tr>\n",
       "      <th>0</th>\n",
       "      <td>1</td>\n",
       "      <td>My Happiness</td>\n",
       "      <td>Connie Francis</td>\n",
       "      <td>adult standards</td>\n",
       "      <td>1996</td>\n",
       "      <td>107</td>\n",
       "      <td>31</td>\n",
       "      <td>45</td>\n",
       "      <td>-8</td>\n",
       "      <td>13</td>\n",
       "      <td>28</td>\n",
       "      <td>150</td>\n",
       "      <td>75</td>\n",
       "      <td>3</td>\n",
       "      <td>44</td>\n",
       "    </tr>\n",
       "    <tr>\n",
       "      <th>1</th>\n",
       "      <td>2</td>\n",
       "      <td>Unchained Melody</td>\n",
       "      <td>The Teddy Bears</td>\n",
       "      <td>NaN</td>\n",
       "      <td>2011</td>\n",
       "      <td>114</td>\n",
       "      <td>44</td>\n",
       "      <td>53</td>\n",
       "      <td>-8</td>\n",
       "      <td>13</td>\n",
       "      <td>47</td>\n",
       "      <td>139</td>\n",
       "      <td>49</td>\n",
       "      <td>3</td>\n",
       "      <td>37</td>\n",
       "    </tr>\n",
       "    <tr>\n",
       "      <th>2</th>\n",
       "      <td>3</td>\n",
       "      <td>How Deep Is Your Love</td>\n",
       "      <td>Bee Gees</td>\n",
       "      <td>adult standards</td>\n",
       "      <td>1979</td>\n",
       "      <td>105</td>\n",
       "      <td>36</td>\n",
       "      <td>63</td>\n",
       "      <td>-9</td>\n",
       "      <td>13</td>\n",
       "      <td>67</td>\n",
       "      <td>245</td>\n",
       "      <td>11</td>\n",
       "      <td>3</td>\n",
       "      <td>77</td>\n",
       "    </tr>\n",
       "    <tr>\n",
       "      <th>3</th>\n",
       "      <td>4</td>\n",
       "      <td>Woman in Love</td>\n",
       "      <td>Barbra Streisand</td>\n",
       "      <td>adult standards</td>\n",
       "      <td>1980</td>\n",
       "      <td>170</td>\n",
       "      <td>28</td>\n",
       "      <td>47</td>\n",
       "      <td>-16</td>\n",
       "      <td>13</td>\n",
       "      <td>33</td>\n",
       "      <td>232</td>\n",
       "      <td>25</td>\n",
       "      <td>3</td>\n",
       "      <td>67</td>\n",
       "    </tr>\n",
       "    <tr>\n",
       "      <th>4</th>\n",
       "      <td>5</td>\n",
       "      <td>Goodbye Yellow Brick Road - Remastered 2014</td>\n",
       "      <td>Elton John</td>\n",
       "      <td>glam rock</td>\n",
       "      <td>1973</td>\n",
       "      <td>121</td>\n",
       "      <td>47</td>\n",
       "      <td>56</td>\n",
       "      <td>-8</td>\n",
       "      <td>15</td>\n",
       "      <td>40</td>\n",
       "      <td>193</td>\n",
       "      <td>45</td>\n",
       "      <td>3</td>\n",
       "      <td>63</td>\n",
       "    </tr>\n",
       "  </tbody>\n",
       "</table>\n",
       "</div>"
      ],
      "text/plain": [
       "   Id                                        title            artist  \\\n",
       "0   1                                 My Happiness    Connie Francis   \n",
       "1   2                             Unchained Melody   The Teddy Bears   \n",
       "2   3                        How Deep Is Your Love          Bee Gees   \n",
       "3   4                                Woman in Love  Barbra Streisand   \n",
       "4   5  Goodbye Yellow Brick Road - Remastered 2014        Elton John   \n",
       "\n",
       "         top genre  year  bpm  nrgy  dnce  dB  live  val  dur  acous  spch  \\\n",
       "0  adult standards  1996  107    31    45  -8    13   28  150     75     3   \n",
       "1              NaN  2011  114    44    53  -8    13   47  139     49     3   \n",
       "2  adult standards  1979  105    36    63  -9    13   67  245     11     3   \n",
       "3  adult standards  1980  170    28    47 -16    13   33  232     25     3   \n",
       "4        glam rock  1973  121    47    56  -8    15   40  193     45     3   \n",
       "\n",
       "   pop  \n",
       "0   44  \n",
       "1   37  \n",
       "2   77  \n",
       "3   67  \n",
       "4   63  "
      ]
     },
     "execution_count": 22,
     "metadata": {},
     "output_type": "execute_result"
    }
   ],
   "source": [
    "#We can take a look at the first few lines of the file by using head()\n",
    "train.head(5)"
   ]
  },
  {
   "cell_type": "code",
   "execution_count": 23,
   "id": "3b395da0",
   "metadata": {
    "scrolled": true
   },
   "outputs": [
    {
     "name": "stdout",
     "output_type": "stream",
     "text": [
      "<class 'pandas.core.frame.DataFrame'>\n",
      "RangeIndex: 453 entries, 0 to 452\n",
      "Data columns (total 15 columns):\n",
      " #   Column     Non-Null Count  Dtype \n",
      "---  ------     --------------  ----- \n",
      " 0   Id         453 non-null    int64 \n",
      " 1   title      453 non-null    object\n",
      " 2   artist     453 non-null    object\n",
      " 3   top genre  438 non-null    object\n",
      " 4   year       453 non-null    int64 \n",
      " 5   bpm        453 non-null    int64 \n",
      " 6   nrgy       453 non-null    int64 \n",
      " 7   dnce       453 non-null    int64 \n",
      " 8   dB         453 non-null    int64 \n",
      " 9   live       453 non-null    int64 \n",
      " 10  val        453 non-null    int64 \n",
      " 11  dur        453 non-null    int64 \n",
      " 12  acous      453 non-null    int64 \n",
      " 13  spch       453 non-null    int64 \n",
      " 14  pop        453 non-null    int64 \n",
      "dtypes: int64(12), object(3)\n",
      "memory usage: 53.2+ KB\n"
     ]
    }
   ],
   "source": [
    "#info() provides us with details about the number of columns in the data frame, size (number of rows), and the type of the data\n",
    "train.info()"
   ]
  },
  {
   "cell_type": "markdown",
   "id": "7da527fc",
   "metadata": {},
   "source": [
    "There are 12 integer columns and 3 text columns. Top Genre appears to be missing values."
   ]
  },
  {
   "cell_type": "code",
   "execution_count": 24,
   "id": "ed299fc2",
   "metadata": {},
   "outputs": [
    {
     "data": {
      "text/plain": [
       "(453, 15)"
      ]
     },
     "execution_count": 24,
     "metadata": {},
     "output_type": "execute_result"
    }
   ],
   "source": [
    "train.shape"
   ]
  },
  {
   "cell_type": "code",
   "execution_count": 25,
   "id": "6f127fe4",
   "metadata": {},
   "outputs": [
    {
     "data": {
      "text/plain": [
       "(114, 14)"
      ]
     },
     "execution_count": 25,
     "metadata": {},
     "output_type": "execute_result"
    }
   ],
   "source": [
    "test.shape"
   ]
  },
  {
   "cell_type": "markdown",
   "id": "3abc74e6",
   "metadata": {},
   "source": [
    "453 entries for train, 114 for test. That is a 79.8% training size which is good."
   ]
  },
  {
   "cell_type": "markdown",
   "id": "08f32f53",
   "metadata": {},
   "source": [
    "# Tidying The Data"
   ]
  },
  {
   "cell_type": "markdown",
   "id": "e2476386",
   "metadata": {},
   "source": [
    "# Remove Missing Values"
   ]
  },
  {
   "cell_type": "code",
   "execution_count": 26,
   "id": "394b960c",
   "metadata": {
    "scrolled": true
   },
   "outputs": [
    {
     "data": {
      "text/plain": [
       "Id           False\n",
       "title        False\n",
       "artist       False\n",
       "top genre     True\n",
       "year         False\n",
       "bpm          False\n",
       "nrgy         False\n",
       "dnce         False\n",
       "dB           False\n",
       "live         False\n",
       "val          False\n",
       "dur          False\n",
       "acous        False\n",
       "spch         False\n",
       "pop          False\n",
       "dtype: bool"
      ]
     },
     "execution_count": 26,
     "metadata": {},
     "output_type": "execute_result"
    }
   ],
   "source": [
    "train.isnull().any() #Identifies features which contain missing values."
   ]
  },
  {
   "cell_type": "code",
   "execution_count": 27,
   "id": "a9a6f52e",
   "metadata": {},
   "outputs": [
    {
     "data": {
      "text/plain": [
       "Id           False\n",
       "title        False\n",
       "artist       False\n",
       "top genre     True\n",
       "year         False\n",
       "bpm          False\n",
       "nrgy         False\n",
       "dnce         False\n",
       "dB           False\n",
       "live         False\n",
       "val          False\n",
       "dur          False\n",
       "acous        False\n",
       "spch         False\n",
       "dtype: bool"
      ]
     },
     "execution_count": 27,
     "metadata": {},
     "output_type": "execute_result"
    }
   ],
   "source": [
    "test.isnull().any() #Identifies features which contain missing values."
   ]
  },
  {
   "cell_type": "markdown",
   "id": "338232d3",
   "metadata": {},
   "source": [
    "It can be observed, for both the training and test dataset, that the only feature with missing values is 'top genre."
   ]
  },
  {
   "cell_type": "code",
   "execution_count": 28,
   "id": "bd4c61dc",
   "metadata": {
    "scrolled": true
   },
   "outputs": [
    {
     "data": {
      "text/html": [
       "<div>\n",
       "<style scoped>\n",
       "    .dataframe tbody tr th:only-of-type {\n",
       "        vertical-align: middle;\n",
       "    }\n",
       "\n",
       "    .dataframe tbody tr th {\n",
       "        vertical-align: top;\n",
       "    }\n",
       "\n",
       "    .dataframe thead th {\n",
       "        text-align: right;\n",
       "    }\n",
       "</style>\n",
       "<table border=\"1\" class=\"dataframe\">\n",
       "  <thead>\n",
       "    <tr style=\"text-align: right;\">\n",
       "      <th></th>\n",
       "      <th>Id</th>\n",
       "      <th>title</th>\n",
       "      <th>artist</th>\n",
       "      <th>top genre</th>\n",
       "      <th>year</th>\n",
       "      <th>bpm</th>\n",
       "      <th>nrgy</th>\n",
       "      <th>dnce</th>\n",
       "      <th>dB</th>\n",
       "      <th>live</th>\n",
       "      <th>val</th>\n",
       "      <th>dur</th>\n",
       "      <th>acous</th>\n",
       "      <th>spch</th>\n",
       "      <th>pop</th>\n",
       "    </tr>\n",
       "  </thead>\n",
       "  <tbody>\n",
       "    <tr>\n",
       "      <th>1</th>\n",
       "      <td>2</td>\n",
       "      <td>Unchained Melody</td>\n",
       "      <td>The Teddy Bears</td>\n",
       "      <td>NaN</td>\n",
       "      <td>2011</td>\n",
       "      <td>114</td>\n",
       "      <td>44</td>\n",
       "      <td>53</td>\n",
       "      <td>-8</td>\n",
       "      <td>13</td>\n",
       "      <td>47</td>\n",
       "      <td>139</td>\n",
       "      <td>49</td>\n",
       "      <td>3</td>\n",
       "      <td>37</td>\n",
       "    </tr>\n",
       "    <tr>\n",
       "      <th>8</th>\n",
       "      <td>9</td>\n",
       "      <td>Someone Elses Roses</td>\n",
       "      <td>Joan Regan</td>\n",
       "      <td>NaN</td>\n",
       "      <td>2019</td>\n",
       "      <td>100</td>\n",
       "      <td>14</td>\n",
       "      <td>29</td>\n",
       "      <td>-10</td>\n",
       "      <td>15</td>\n",
       "      <td>32</td>\n",
       "      <td>143</td>\n",
       "      <td>89</td>\n",
       "      <td>3</td>\n",
       "      <td>34</td>\n",
       "    </tr>\n",
       "    <tr>\n",
       "      <th>26</th>\n",
       "      <td>27</td>\n",
       "      <td>Drinks On The House</td>\n",
       "      <td>Green Martini Keys</td>\n",
       "      <td>NaN</td>\n",
       "      <td>2016</td>\n",
       "      <td>97</td>\n",
       "      <td>16</td>\n",
       "      <td>57</td>\n",
       "      <td>-16</td>\n",
       "      <td>11</td>\n",
       "      <td>15</td>\n",
       "      <td>181</td>\n",
       "      <td>100</td>\n",
       "      <td>5</td>\n",
       "      <td>28</td>\n",
       "    </tr>\n",
       "    <tr>\n",
       "      <th>72</th>\n",
       "      <td>73</td>\n",
       "      <td>Pachuko Hop</td>\n",
       "      <td>Ike Carpenter Orchestra</td>\n",
       "      <td>NaN</td>\n",
       "      <td>2006</td>\n",
       "      <td>83</td>\n",
       "      <td>53</td>\n",
       "      <td>48</td>\n",
       "      <td>-9</td>\n",
       "      <td>34</td>\n",
       "      <td>80</td>\n",
       "      <td>135</td>\n",
       "      <td>59</td>\n",
       "      <td>3</td>\n",
       "      <td>28</td>\n",
       "    </tr>\n",
       "    <tr>\n",
       "      <th>90</th>\n",
       "      <td>91</td>\n",
       "      <td>Little Things Means A Lot</td>\n",
       "      <td>Jayne Mansfield</td>\n",
       "      <td>NaN</td>\n",
       "      <td>2008</td>\n",
       "      <td>109</td>\n",
       "      <td>29</td>\n",
       "      <td>70</td>\n",
       "      <td>-15</td>\n",
       "      <td>16</td>\n",
       "      <td>63</td>\n",
       "      <td>172</td>\n",
       "      <td>36</td>\n",
       "      <td>4</td>\n",
       "      <td>29</td>\n",
       "    </tr>\n",
       "    <tr>\n",
       "      <th>98</th>\n",
       "      <td>99</td>\n",
       "      <td>The Lady Is A Tramp</td>\n",
       "      <td>Mel Torme &amp; the Mel-Tones</td>\n",
       "      <td>NaN</td>\n",
       "      <td>2016</td>\n",
       "      <td>138</td>\n",
       "      <td>60</td>\n",
       "      <td>41</td>\n",
       "      <td>-8</td>\n",
       "      <td>41</td>\n",
       "      <td>54</td>\n",
       "      <td>170</td>\n",
       "      <td>81</td>\n",
       "      <td>6</td>\n",
       "      <td>40</td>\n",
       "    </tr>\n",
       "    <tr>\n",
       "      <th>220</th>\n",
       "      <td>221</td>\n",
       "      <td>If I Give My Heart To You</td>\n",
       "      <td>The Teddy Bears</td>\n",
       "      <td>NaN</td>\n",
       "      <td>2011</td>\n",
       "      <td>113</td>\n",
       "      <td>29</td>\n",
       "      <td>49</td>\n",
       "      <td>-10</td>\n",
       "      <td>12</td>\n",
       "      <td>29</td>\n",
       "      <td>118</td>\n",
       "      <td>86</td>\n",
       "      <td>3</td>\n",
       "      <td>40</td>\n",
       "    </tr>\n",
       "    <tr>\n",
       "      <th>252</th>\n",
       "      <td>253</td>\n",
       "      <td>Happy Days And Lonely Nights</td>\n",
       "      <td>Suzi Miller And Johnson Brothers</td>\n",
       "      <td>NaN</td>\n",
       "      <td>2012</td>\n",
       "      <td>142</td>\n",
       "      <td>38</td>\n",
       "      <td>65</td>\n",
       "      <td>-8</td>\n",
       "      <td>13</td>\n",
       "      <td>69</td>\n",
       "      <td>146</td>\n",
       "      <td>43</td>\n",
       "      <td>3</td>\n",
       "      <td>27</td>\n",
       "    </tr>\n",
       "    <tr>\n",
       "      <th>265</th>\n",
       "      <td>266</td>\n",
       "      <td>Stairway Of Love</td>\n",
       "      <td>Terry Dene</td>\n",
       "      <td>NaN</td>\n",
       "      <td>2015</td>\n",
       "      <td>93</td>\n",
       "      <td>62</td>\n",
       "      <td>62</td>\n",
       "      <td>-7</td>\n",
       "      <td>25</td>\n",
       "      <td>86</td>\n",
       "      <td>120</td>\n",
       "      <td>55</td>\n",
       "      <td>4</td>\n",
       "      <td>27</td>\n",
       "    </tr>\n",
       "    <tr>\n",
       "      <th>266</th>\n",
       "      <td>267</td>\n",
       "      <td>You</td>\n",
       "      <td>Ten Sharp</td>\n",
       "      <td>NaN</td>\n",
       "      <td>1991</td>\n",
       "      <td>174</td>\n",
       "      <td>90</td>\n",
       "      <td>41</td>\n",
       "      <td>-8</td>\n",
       "      <td>19</td>\n",
       "      <td>67</td>\n",
       "      <td>273</td>\n",
       "      <td>43</td>\n",
       "      <td>3</td>\n",
       "      <td>61</td>\n",
       "    </tr>\n",
       "    <tr>\n",
       "      <th>314</th>\n",
       "      <td>315</td>\n",
       "      <td>No Other Love</td>\n",
       "      <td>Bob Sharples &amp; His Music</td>\n",
       "      <td>NaN</td>\n",
       "      <td>2014</td>\n",
       "      <td>97</td>\n",
       "      <td>31</td>\n",
       "      <td>37</td>\n",
       "      <td>-10</td>\n",
       "      <td>27</td>\n",
       "      <td>10</td>\n",
       "      <td>171</td>\n",
       "      <td>69</td>\n",
       "      <td>3</td>\n",
       "      <td>31</td>\n",
       "    </tr>\n",
       "    <tr>\n",
       "      <th>330</th>\n",
       "      <td>331</td>\n",
       "      <td>I've Waited So Long</td>\n",
       "      <td>Anthony Newley</td>\n",
       "      <td>NaN</td>\n",
       "      <td>2012</td>\n",
       "      <td>137</td>\n",
       "      <td>36</td>\n",
       "      <td>27</td>\n",
       "      <td>-15</td>\n",
       "      <td>25</td>\n",
       "      <td>28</td>\n",
       "      <td>165</td>\n",
       "      <td>64</td>\n",
       "      <td>4</td>\n",
       "      <td>26</td>\n",
       "    </tr>\n",
       "    <tr>\n",
       "      <th>362</th>\n",
       "      <td>363</td>\n",
       "      <td>Hot Diggity</td>\n",
       "      <td>Stargazers</td>\n",
       "      <td>NaN</td>\n",
       "      <td>2001</td>\n",
       "      <td>109</td>\n",
       "      <td>64</td>\n",
       "      <td>88</td>\n",
       "      <td>-9</td>\n",
       "      <td>60</td>\n",
       "      <td>96</td>\n",
       "      <td>134</td>\n",
       "      <td>61</td>\n",
       "      <td>11</td>\n",
       "      <td>31</td>\n",
       "    </tr>\n",
       "    <tr>\n",
       "      <th>380</th>\n",
       "      <td>381</td>\n",
       "      <td>Ain't That Just the Way</td>\n",
       "      <td>Lutricia McNeal</td>\n",
       "      <td>NaN</td>\n",
       "      <td>1996</td>\n",
       "      <td>174</td>\n",
       "      <td>65</td>\n",
       "      <td>74</td>\n",
       "      <td>-9</td>\n",
       "      <td>19</td>\n",
       "      <td>77</td>\n",
       "      <td>215</td>\n",
       "      <td>6</td>\n",
       "      <td>22</td>\n",
       "      <td>55</td>\n",
       "    </tr>\n",
       "    <tr>\n",
       "      <th>443</th>\n",
       "      <td>444</td>\n",
       "      <td>I Promised Myself</td>\n",
       "      <td>Nick Kamen</td>\n",
       "      <td>NaN</td>\n",
       "      <td>1990</td>\n",
       "      <td>128</td>\n",
       "      <td>80</td>\n",
       "      <td>58</td>\n",
       "      <td>-12</td>\n",
       "      <td>3</td>\n",
       "      <td>69</td>\n",
       "      <td>241</td>\n",
       "      <td>0</td>\n",
       "      <td>3</td>\n",
       "      <td>61</td>\n",
       "    </tr>\n",
       "  </tbody>\n",
       "</table>\n",
       "</div>"
      ],
      "text/plain": [
       "      Id                         title                            artist  \\\n",
       "1      2              Unchained Melody                   The Teddy Bears   \n",
       "8      9           Someone Elses Roses                        Joan Regan   \n",
       "26    27           Drinks On The House                Green Martini Keys   \n",
       "72    73                   Pachuko Hop           Ike Carpenter Orchestra   \n",
       "90    91     Little Things Means A Lot                   Jayne Mansfield   \n",
       "98    99           The Lady Is A Tramp         Mel Torme & the Mel-Tones   \n",
       "220  221     If I Give My Heart To You                   The Teddy Bears   \n",
       "252  253  Happy Days And Lonely Nights  Suzi Miller And Johnson Brothers   \n",
       "265  266              Stairway Of Love                        Terry Dene   \n",
       "266  267                           You                         Ten Sharp   \n",
       "314  315                 No Other Love          Bob Sharples & His Music   \n",
       "330  331           I've Waited So Long                    Anthony Newley   \n",
       "362  363                   Hot Diggity                        Stargazers   \n",
       "380  381       Ain't That Just the Way                   Lutricia McNeal   \n",
       "443  444             I Promised Myself                        Nick Kamen   \n",
       "\n",
       "    top genre  year  bpm  nrgy  dnce  dB  live  val  dur  acous  spch  pop  \n",
       "1         NaN  2011  114    44    53  -8    13   47  139     49     3   37  \n",
       "8         NaN  2019  100    14    29 -10    15   32  143     89     3   34  \n",
       "26        NaN  2016   97    16    57 -16    11   15  181    100     5   28  \n",
       "72        NaN  2006   83    53    48  -9    34   80  135     59     3   28  \n",
       "90        NaN  2008  109    29    70 -15    16   63  172     36     4   29  \n",
       "98        NaN  2016  138    60    41  -8    41   54  170     81     6   40  \n",
       "220       NaN  2011  113    29    49 -10    12   29  118     86     3   40  \n",
       "252       NaN  2012  142    38    65  -8    13   69  146     43     3   27  \n",
       "265       NaN  2015   93    62    62  -7    25   86  120     55     4   27  \n",
       "266       NaN  1991  174    90    41  -8    19   67  273     43     3   61  \n",
       "314       NaN  2014   97    31    37 -10    27   10  171     69     3   31  \n",
       "330       NaN  2012  137    36    27 -15    25   28  165     64     4   26  \n",
       "362       NaN  2001  109    64    88  -9    60   96  134     61    11   31  \n",
       "380       NaN  1996  174    65    74  -9    19   77  215      6    22   55  \n",
       "443       NaN  1990  128    80    58 -12     3   69  241      0     3   61  "
      ]
     },
     "execution_count": 28,
     "metadata": {},
     "output_type": "execute_result"
    }
   ],
   "source": [
    "train_incomplete_rows = train[train.isnull().any(axis=1)].head(50)\n",
    "train_incomplete_rows"
   ]
  },
  {
   "cell_type": "code",
   "execution_count": 29,
   "id": "12087b7b",
   "metadata": {},
   "outputs": [
    {
     "data": {
      "text/html": [
       "<div>\n",
       "<style scoped>\n",
       "    .dataframe tbody tr th:only-of-type {\n",
       "        vertical-align: middle;\n",
       "    }\n",
       "\n",
       "    .dataframe tbody tr th {\n",
       "        vertical-align: top;\n",
       "    }\n",
       "\n",
       "    .dataframe thead th {\n",
       "        text-align: right;\n",
       "    }\n",
       "</style>\n",
       "<table border=\"1\" class=\"dataframe\">\n",
       "  <thead>\n",
       "    <tr style=\"text-align: right;\">\n",
       "      <th></th>\n",
       "      <th>Id</th>\n",
       "      <th>title</th>\n",
       "      <th>artist</th>\n",
       "      <th>top genre</th>\n",
       "      <th>year</th>\n",
       "      <th>bpm</th>\n",
       "      <th>nrgy</th>\n",
       "      <th>dnce</th>\n",
       "      <th>dB</th>\n",
       "      <th>live</th>\n",
       "      <th>val</th>\n",
       "      <th>dur</th>\n",
       "      <th>acous</th>\n",
       "      <th>spch</th>\n",
       "    </tr>\n",
       "  </thead>\n",
       "  <tbody>\n",
       "    <tr>\n",
       "      <th>66</th>\n",
       "      <td>520</td>\n",
       "      <td>We Are The World</td>\n",
       "      <td>U.S.A. For Africa</td>\n",
       "      <td>NaN</td>\n",
       "      <td>1985</td>\n",
       "      <td>73</td>\n",
       "      <td>45</td>\n",
       "      <td>53</td>\n",
       "      <td>-15</td>\n",
       "      <td>7</td>\n",
       "      <td>29</td>\n",
       "      <td>427</td>\n",
       "      <td>19</td>\n",
       "      <td>4</td>\n",
       "    </tr>\n",
       "  </tbody>\n",
       "</table>\n",
       "</div>"
      ],
      "text/plain": [
       "     Id             title             artist top genre  year  bpm  nrgy  dnce  \\\n",
       "66  520  We Are The World  U.S.A. For Africa       NaN  1985   73    45    53   \n",
       "\n",
       "    dB  live  val  dur  acous  spch  \n",
       "66 -15     7   29  427     19     4  "
      ]
     },
     "execution_count": 29,
     "metadata": {},
     "output_type": "execute_result"
    }
   ],
   "source": [
    "test_incomplete_rows = test[test.isnull().any(axis=1)].head(50)\n",
    "test_incomplete_rows"
   ]
  },
  {
   "cell_type": "markdown",
   "id": "e75c24e5",
   "metadata": {},
   "source": [
    "Train Top Gengre is missing 15 values"
   ]
  },
  {
   "cell_type": "code",
   "execution_count": 30,
   "id": "ec6a63e7",
   "metadata": {},
   "outputs": [],
   "source": [
    "train = train.dropna() #drop 15 missing values"
   ]
  },
  {
   "cell_type": "markdown",
   "id": "f94dc41b",
   "metadata": {},
   "source": [
    "Let's now confirm that the missing values have sucessfully been removed."
   ]
  },
  {
   "cell_type": "code",
   "execution_count": 31,
   "id": "81fcc33a",
   "metadata": {},
   "outputs": [
    {
     "data": {
      "text/plain": [
       "Id           False\n",
       "title        False\n",
       "artist       False\n",
       "top genre    False\n",
       "year         False\n",
       "bpm          False\n",
       "nrgy         False\n",
       "dnce         False\n",
       "dB           False\n",
       "live         False\n",
       "val          False\n",
       "dur          False\n",
       "acous        False\n",
       "spch         False\n",
       "pop          False\n",
       "dtype: bool"
      ]
     },
     "execution_count": 31,
     "metadata": {},
     "output_type": "execute_result"
    }
   ],
   "source": [
    "train.isnull().any()"
   ]
  },
  {
   "cell_type": "code",
   "execution_count": 32,
   "id": "90651d6a",
   "metadata": {},
   "outputs": [
    {
     "data": {
      "text/plain": [
       "Id           False\n",
       "title        False\n",
       "artist       False\n",
       "top genre     True\n",
       "year         False\n",
       "bpm          False\n",
       "nrgy         False\n",
       "dnce         False\n",
       "dB           False\n",
       "live         False\n",
       "val          False\n",
       "dur          False\n",
       "acous        False\n",
       "spch         False\n",
       "dtype: bool"
      ]
     },
     "execution_count": 32,
     "metadata": {},
     "output_type": "execute_result"
    }
   ],
   "source": [
    "test.isnull().any()"
   ]
  },
  {
   "cell_type": "markdown",
   "id": "f54baa4f",
   "metadata": {},
   "source": [
    "Missing values for train have been removed. Test missing values must remain because kaggle requires all 114 rows uploaded."
   ]
  },
  {
   "cell_type": "code",
   "execution_count": 33,
   "id": "52829be0",
   "metadata": {},
   "outputs": [
    {
     "data": {
      "text/plain": [
       "adult standards          68\n",
       "album rock               66\n",
       "dance pop                61\n",
       "glam rock                16\n",
       "brill building pop       16\n",
       "                         ..\n",
       "latin                     1\n",
       "american folk revival     1\n",
       "rock-and-roll             1\n",
       "mellow gold               1\n",
       "louisiana blues           1\n",
       "Name: top genre, Length: 86, dtype: int64"
      ]
     },
     "execution_count": 33,
     "metadata": {},
     "output_type": "execute_result"
    }
   ],
   "source": [
    "train[\"top genre\"].value_counts()"
   ]
  },
  {
   "cell_type": "markdown",
   "id": "c51009cb",
   "metadata": {},
   "source": [
    "86 different top genre categories. I think its best if we drop this column from regression analysis. would need to 1 hot encode 86 more columns which would slow down our models. this will also avoid 15 missing value issue"
   ]
  },
  {
   "cell_type": "code",
   "execution_count": 34,
   "id": "bd1b0592",
   "metadata": {},
   "outputs": [
    {
     "data": {
      "text/plain": [
       "Elton John             9\n",
       "ABBA                   7\n",
       "Queen                  7\n",
       "The Beatles            6\n",
       "Whitney Houston        5\n",
       "                      ..\n",
       "The Doobie Brothers    1\n",
       "Lasgo                  1\n",
       "Yazoo                  1\n",
       "Daddy Yankee           1\n",
       "David Archuleta        1\n",
       "Name: artist, Length: 331, dtype: int64"
      ]
     },
     "execution_count": 34,
     "metadata": {},
     "output_type": "execute_result"
    }
   ],
   "source": [
    "train[\"artist\"].value_counts()"
   ]
  },
  {
   "cell_type": "code",
   "execution_count": 35,
   "id": "02b5fc02",
   "metadata": {
    "scrolled": true
   },
   "outputs": [
    {
     "data": {
      "text/html": [
       "<div>\n",
       "<style scoped>\n",
       "    .dataframe tbody tr th:only-of-type {\n",
       "        vertical-align: middle;\n",
       "    }\n",
       "\n",
       "    .dataframe tbody tr th {\n",
       "        vertical-align: top;\n",
       "    }\n",
       "\n",
       "    .dataframe thead th {\n",
       "        text-align: right;\n",
       "    }\n",
       "</style>\n",
       "<table border=\"1\" class=\"dataframe\">\n",
       "  <thead>\n",
       "    <tr style=\"text-align: right;\">\n",
       "      <th></th>\n",
       "      <th>Id</th>\n",
       "      <th>year</th>\n",
       "      <th>bpm</th>\n",
       "      <th>nrgy</th>\n",
       "      <th>dnce</th>\n",
       "      <th>dB</th>\n",
       "      <th>live</th>\n",
       "      <th>val</th>\n",
       "      <th>dur</th>\n",
       "      <th>acous</th>\n",
       "      <th>spch</th>\n",
       "      <th>pop</th>\n",
       "    </tr>\n",
       "  </thead>\n",
       "  <tbody>\n",
       "    <tr>\n",
       "      <th>count</th>\n",
       "      <td>438.000000</td>\n",
       "      <td>438.000000</td>\n",
       "      <td>438.000000</td>\n",
       "      <td>438.000000</td>\n",
       "      <td>438.000000</td>\n",
       "      <td>438.000000</td>\n",
       "      <td>438.000000</td>\n",
       "      <td>438.000000</td>\n",
       "      <td>438.000000</td>\n",
       "      <td>438.000000</td>\n",
       "      <td>438.000000</td>\n",
       "      <td>438.000000</td>\n",
       "    </tr>\n",
       "    <tr>\n",
       "      <th>mean</th>\n",
       "      <td>227.600457</td>\n",
       "      <td>1990.881279</td>\n",
       "      <td>118.326484</td>\n",
       "      <td>60.504566</td>\n",
       "      <td>59.780822</td>\n",
       "      <td>-8.787671</td>\n",
       "      <td>17.605023</td>\n",
       "      <td>59.625571</td>\n",
       "      <td>228.267123</td>\n",
       "      <td>32.191781</td>\n",
       "      <td>5.671233</td>\n",
       "      <td>61.557078</td>\n",
       "    </tr>\n",
       "    <tr>\n",
       "      <th>std</th>\n",
       "      <td>130.463047</td>\n",
       "      <td>16.697047</td>\n",
       "      <td>25.175735</td>\n",
       "      <td>22.089660</td>\n",
       "      <td>15.404757</td>\n",
       "      <td>3.591005</td>\n",
       "      <td>13.807492</td>\n",
       "      <td>24.480160</td>\n",
       "      <td>63.426812</td>\n",
       "      <td>29.279912</td>\n",
       "      <td>5.571392</td>\n",
       "      <td>12.759353</td>\n",
       "    </tr>\n",
       "    <tr>\n",
       "      <th>min</th>\n",
       "      <td>1.000000</td>\n",
       "      <td>1948.000000</td>\n",
       "      <td>62.000000</td>\n",
       "      <td>7.000000</td>\n",
       "      <td>18.000000</td>\n",
       "      <td>-24.000000</td>\n",
       "      <td>2.000000</td>\n",
       "      <td>6.000000</td>\n",
       "      <td>98.000000</td>\n",
       "      <td>0.000000</td>\n",
       "      <td>2.000000</td>\n",
       "      <td>26.000000</td>\n",
       "    </tr>\n",
       "    <tr>\n",
       "      <th>25%</th>\n",
       "      <td>116.250000</td>\n",
       "      <td>1976.000000</td>\n",
       "      <td>100.000000</td>\n",
       "      <td>44.000000</td>\n",
       "      <td>50.000000</td>\n",
       "      <td>-11.000000</td>\n",
       "      <td>9.000000</td>\n",
       "      <td>42.250000</td>\n",
       "      <td>184.500000</td>\n",
       "      <td>7.000000</td>\n",
       "      <td>3.000000</td>\n",
       "      <td>54.000000</td>\n",
       "    </tr>\n",
       "    <tr>\n",
       "      <th>50%</th>\n",
       "      <td>226.500000</td>\n",
       "      <td>1993.000000</td>\n",
       "      <td>120.000000</td>\n",
       "      <td>64.000000</td>\n",
       "      <td>62.000000</td>\n",
       "      <td>-8.000000</td>\n",
       "      <td>13.000000</td>\n",
       "      <td>61.000000</td>\n",
       "      <td>224.000000</td>\n",
       "      <td>23.000000</td>\n",
       "      <td>4.000000</td>\n",
       "      <td>64.000000</td>\n",
       "    </tr>\n",
       "    <tr>\n",
       "      <th>75%</th>\n",
       "      <td>340.750000</td>\n",
       "      <td>2006.000000</td>\n",
       "      <td>133.000000</td>\n",
       "      <td>78.000000</td>\n",
       "      <td>70.750000</td>\n",
       "      <td>-6.000000</td>\n",
       "      <td>23.000000</td>\n",
       "      <td>80.000000</td>\n",
       "      <td>264.000000</td>\n",
       "      <td>57.000000</td>\n",
       "      <td>6.000000</td>\n",
       "      <td>72.000000</td>\n",
       "    </tr>\n",
       "    <tr>\n",
       "      <th>max</th>\n",
       "      <td>453.000000</td>\n",
       "      <td>2019.000000</td>\n",
       "      <td>199.000000</td>\n",
       "      <td>100.000000</td>\n",
       "      <td>96.000000</td>\n",
       "      <td>-1.000000</td>\n",
       "      <td>93.000000</td>\n",
       "      <td>99.000000</td>\n",
       "      <td>511.000000</td>\n",
       "      <td>99.000000</td>\n",
       "      <td>47.000000</td>\n",
       "      <td>84.000000</td>\n",
       "    </tr>\n",
       "  </tbody>\n",
       "</table>\n",
       "</div>"
      ],
      "text/plain": [
       "               Id         year         bpm        nrgy        dnce  \\\n",
       "count  438.000000   438.000000  438.000000  438.000000  438.000000   \n",
       "mean   227.600457  1990.881279  118.326484   60.504566   59.780822   \n",
       "std    130.463047    16.697047   25.175735   22.089660   15.404757   \n",
       "min      1.000000  1948.000000   62.000000    7.000000   18.000000   \n",
       "25%    116.250000  1976.000000  100.000000   44.000000   50.000000   \n",
       "50%    226.500000  1993.000000  120.000000   64.000000   62.000000   \n",
       "75%    340.750000  2006.000000  133.000000   78.000000   70.750000   \n",
       "max    453.000000  2019.000000  199.000000  100.000000   96.000000   \n",
       "\n",
       "               dB        live         val         dur       acous        spch  \\\n",
       "count  438.000000  438.000000  438.000000  438.000000  438.000000  438.000000   \n",
       "mean    -8.787671   17.605023   59.625571  228.267123   32.191781    5.671233   \n",
       "std      3.591005   13.807492   24.480160   63.426812   29.279912    5.571392   \n",
       "min    -24.000000    2.000000    6.000000   98.000000    0.000000    2.000000   \n",
       "25%    -11.000000    9.000000   42.250000  184.500000    7.000000    3.000000   \n",
       "50%     -8.000000   13.000000   61.000000  224.000000   23.000000    4.000000   \n",
       "75%     -6.000000   23.000000   80.000000  264.000000   57.000000    6.000000   \n",
       "max     -1.000000   93.000000   99.000000  511.000000   99.000000   47.000000   \n",
       "\n",
       "              pop  \n",
       "count  438.000000  \n",
       "mean    61.557078  \n",
       "std     12.759353  \n",
       "min     26.000000  \n",
       "25%     54.000000  \n",
       "50%     64.000000  \n",
       "75%     72.000000  \n",
       "max     84.000000  "
      ]
     },
     "execution_count": 35,
     "metadata": {},
     "output_type": "execute_result"
    }
   ],
   "source": [
    "train.describe() #describe() gives us a summary of the numeric attributed - their mean, standard deviation, quartiles etc."
   ]
  },
  {
   "cell_type": "code",
   "execution_count": 36,
   "id": "ff4664e1",
   "metadata": {},
   "outputs": [
    {
     "data": {
      "text/html": [
       "<div>\n",
       "<style scoped>\n",
       "    .dataframe tbody tr th:only-of-type {\n",
       "        vertical-align: middle;\n",
       "    }\n",
       "\n",
       "    .dataframe tbody tr th {\n",
       "        vertical-align: top;\n",
       "    }\n",
       "\n",
       "    .dataframe thead th {\n",
       "        text-align: right;\n",
       "    }\n",
       "</style>\n",
       "<table border=\"1\" class=\"dataframe\">\n",
       "  <thead>\n",
       "    <tr style=\"text-align: right;\">\n",
       "      <th></th>\n",
       "      <th>Id</th>\n",
       "      <th>year</th>\n",
       "      <th>bpm</th>\n",
       "      <th>nrgy</th>\n",
       "      <th>dnce</th>\n",
       "      <th>dB</th>\n",
       "      <th>live</th>\n",
       "      <th>val</th>\n",
       "      <th>dur</th>\n",
       "      <th>acous</th>\n",
       "      <th>spch</th>\n",
       "    </tr>\n",
       "  </thead>\n",
       "  <tbody>\n",
       "    <tr>\n",
       "      <th>count</th>\n",
       "      <td>114.000000</td>\n",
       "      <td>114.000000</td>\n",
       "      <td>114.000000</td>\n",
       "      <td>114.000000</td>\n",
       "      <td>114.000000</td>\n",
       "      <td>114.000000</td>\n",
       "      <td>114.000000</td>\n",
       "      <td>114.000000</td>\n",
       "      <td>114.000000</td>\n",
       "      <td>114.000000</td>\n",
       "      <td>114.000000</td>\n",
       "    </tr>\n",
       "    <tr>\n",
       "      <th>mean</th>\n",
       "      <td>510.500000</td>\n",
       "      <td>1990.596491</td>\n",
       "      <td>122.342105</td>\n",
       "      <td>60.877193</td>\n",
       "      <td>58.921053</td>\n",
       "      <td>-8.964912</td>\n",
       "      <td>20.131579</td>\n",
       "      <td>58.368421</td>\n",
       "      <td>227.973684</td>\n",
       "      <td>31.078947</td>\n",
       "      <td>6.263158</td>\n",
       "    </tr>\n",
       "    <tr>\n",
       "      <th>std</th>\n",
       "      <td>33.052988</td>\n",
       "      <td>16.545844</td>\n",
       "      <td>26.322650</td>\n",
       "      <td>22.950173</td>\n",
       "      <td>15.022782</td>\n",
       "      <td>3.957584</td>\n",
       "      <td>16.786801</td>\n",
       "      <td>24.286368</td>\n",
       "      <td>63.482345</td>\n",
       "      <td>29.963738</td>\n",
       "      <td>6.594517</td>\n",
       "    </tr>\n",
       "    <tr>\n",
       "      <th>min</th>\n",
       "      <td>454.000000</td>\n",
       "      <td>1945.000000</td>\n",
       "      <td>64.000000</td>\n",
       "      <td>6.000000</td>\n",
       "      <td>26.000000</td>\n",
       "      <td>-22.000000</td>\n",
       "      <td>2.000000</td>\n",
       "      <td>11.000000</td>\n",
       "      <td>112.000000</td>\n",
       "      <td>0.000000</td>\n",
       "      <td>3.000000</td>\n",
       "    </tr>\n",
       "    <tr>\n",
       "      <th>25%</th>\n",
       "      <td>482.250000</td>\n",
       "      <td>1978.250000</td>\n",
       "      <td>106.000000</td>\n",
       "      <td>44.000000</td>\n",
       "      <td>50.250000</td>\n",
       "      <td>-11.750000</td>\n",
       "      <td>10.000000</td>\n",
       "      <td>36.750000</td>\n",
       "      <td>184.250000</td>\n",
       "      <td>5.250000</td>\n",
       "      <td>3.000000</td>\n",
       "    </tr>\n",
       "    <tr>\n",
       "      <th>50%</th>\n",
       "      <td>510.500000</td>\n",
       "      <td>1991.000000</td>\n",
       "      <td>120.000000</td>\n",
       "      <td>59.500000</td>\n",
       "      <td>57.500000</td>\n",
       "      <td>-8.000000</td>\n",
       "      <td>14.000000</td>\n",
       "      <td>61.500000</td>\n",
       "      <td>215.500000</td>\n",
       "      <td>19.500000</td>\n",
       "      <td>4.000000</td>\n",
       "    </tr>\n",
       "    <tr>\n",
       "      <th>75%</th>\n",
       "      <td>538.750000</td>\n",
       "      <td>2005.750000</td>\n",
       "      <td>136.750000</td>\n",
       "      <td>80.000000</td>\n",
       "      <td>69.000000</td>\n",
       "      <td>-6.000000</td>\n",
       "      <td>24.000000</td>\n",
       "      <td>79.750000</td>\n",
       "      <td>264.000000</td>\n",
       "      <td>50.250000</td>\n",
       "      <td>6.000000</td>\n",
       "    </tr>\n",
       "    <tr>\n",
       "      <th>max</th>\n",
       "      <td>567.000000</td>\n",
       "      <td>2019.000000</td>\n",
       "      <td>191.000000</td>\n",
       "      <td>98.000000</td>\n",
       "      <td>94.000000</td>\n",
       "      <td>-1.000000</td>\n",
       "      <td>90.000000</td>\n",
       "      <td>98.000000</td>\n",
       "      <td>444.000000</td>\n",
       "      <td>97.000000</td>\n",
       "      <td>47.000000</td>\n",
       "    </tr>\n",
       "  </tbody>\n",
       "</table>\n",
       "</div>"
      ],
      "text/plain": [
       "               Id         year         bpm        nrgy        dnce  \\\n",
       "count  114.000000   114.000000  114.000000  114.000000  114.000000   \n",
       "mean   510.500000  1990.596491  122.342105   60.877193   58.921053   \n",
       "std     33.052988    16.545844   26.322650   22.950173   15.022782   \n",
       "min    454.000000  1945.000000   64.000000    6.000000   26.000000   \n",
       "25%    482.250000  1978.250000  106.000000   44.000000   50.250000   \n",
       "50%    510.500000  1991.000000  120.000000   59.500000   57.500000   \n",
       "75%    538.750000  2005.750000  136.750000   80.000000   69.000000   \n",
       "max    567.000000  2019.000000  191.000000   98.000000   94.000000   \n",
       "\n",
       "               dB        live         val         dur       acous        spch  \n",
       "count  114.000000  114.000000  114.000000  114.000000  114.000000  114.000000  \n",
       "mean    -8.964912   20.131579   58.368421  227.973684   31.078947    6.263158  \n",
       "std      3.957584   16.786801   24.286368   63.482345   29.963738    6.594517  \n",
       "min    -22.000000    2.000000   11.000000  112.000000    0.000000    3.000000  \n",
       "25%    -11.750000   10.000000   36.750000  184.250000    5.250000    3.000000  \n",
       "50%     -8.000000   14.000000   61.500000  215.500000   19.500000    4.000000  \n",
       "75%     -6.000000   24.000000   79.750000  264.000000   50.250000    6.000000  \n",
       "max     -1.000000   90.000000   98.000000  444.000000   97.000000   47.000000  "
      ]
     },
     "execution_count": 36,
     "metadata": {},
     "output_type": "execute_result"
    }
   ],
   "source": [
    "test.describe() #describe() gives us a summary of the numeric attributed - their mean, standard deviation, quartiles etc."
   ]
  },
  {
   "cell_type": "markdown",
   "id": "7cd366c9",
   "metadata": {},
   "source": [
    "Clearly many different means and standard deviation so we should scale our data for certain algorithms to improve performance"
   ]
  },
  {
   "cell_type": "markdown",
   "id": "5508ee81",
   "metadata": {},
   "source": [
    "# Discover & Visualise the Data to Gain Insights"
   ]
  },
  {
   "cell_type": "markdown",
   "id": "7364d18f",
   "metadata": {},
   "source": [
    "We can carry out a correlation matrix to gain a better understanding of the data. Correlation values indicate the strength of a linear relationship between values. "
   ]
  },
  {
   "cell_type": "code",
   "execution_count": 37,
   "id": "27a159d3",
   "metadata": {},
   "outputs": [
    {
     "data": {
      "text/plain": [
       "pop      1.000000\n",
       "dur      0.321028\n",
       "dB       0.312952\n",
       "nrgy     0.274006\n",
       "dnce     0.256099\n",
       "spch     0.130346\n",
       "Id       0.072073\n",
       "bpm      0.042695\n",
       "year     0.018926\n",
       "live    -0.025493\n",
       "val     -0.040035\n",
       "acous   -0.443763\n",
       "Name: pop, dtype: float64"
      ]
     },
     "execution_count": 37,
     "metadata": {},
     "output_type": "execute_result"
    }
   ],
   "source": [
    "corr_matrix = train.corr()\n",
    "corr_matrix\n",
    "corr_matrix[\"pop\"].sort_values(ascending=False)"
   ]
  },
  {
   "cell_type": "markdown",
   "id": "1aa80075",
   "metadata": {},
   "source": [
    "From our correlation matrix, it can be observed that \"acous\", \"dur\", \"dB\", \"nrgy\", \"dnce\" have the strongest correlations with song popularity. This indicates that these features should be used when building our models."
   ]
  },
  {
   "cell_type": "code",
   "execution_count": 95,
   "id": "bc14cad2",
   "metadata": {},
   "outputs": [
    {
     "data": {
      "text/plain": [
       "<AxesSubplot:>"
      ]
     },
     "execution_count": 95,
     "metadata": {},
     "output_type": "execute_result"
    },
    {
     "data": {
      "image/png": "[encoded data removed]",
      "text/plain": [
       "<Figure size 720x432 with 2 Axes>"
      ]
     },
     "metadata": {
      "needs_background": "light"
     },
     "output_type": "display_data"
    }
   ],
   "source": [
    "import seaborn as sns\n",
    "\n",
    "corr = train.corr() # The correlation between scaled numeric columns is plotted using a heatmap as shown below :\n",
    "plt.figure(figsize=(10,6))\n",
    "sns.heatmap(corr,annot=True)"
   ]
  },
  {
   "cell_type": "markdown",
   "id": "2a652712",
   "metadata": {},
   "source": [
    "Correlation coefficient values above 0.5 or below -0.5 are considered to inidcate strong value of correlation between the features"
   ]
  },
  {
   "cell_type": "code",
   "execution_count": 96,
   "id": "929d527b",
   "metadata": {},
   "outputs": [],
   "source": [
    "u = corr[corr > 0.5]\n",
    "v = corr[corr < -0.5]"
   ]
  },
  {
   "cell_type": "code",
   "execution_count": 97,
   "id": "ece02504",
   "metadata": {},
   "outputs": [
    {
     "data": {
      "text/html": [
       "<div>\n",
       "<style scoped>\n",
       "    .dataframe tbody tr th:only-of-type {\n",
       "        vertical-align: middle;\n",
       "    }\n",
       "\n",
       "    .dataframe tbody tr th {\n",
       "        vertical-align: top;\n",
       "    }\n",
       "\n",
       "    .dataframe thead th {\n",
       "        text-align: right;\n",
       "    }\n",
       "</style>\n",
       "<table border=\"1\" class=\"dataframe\">\n",
       "  <thead>\n",
       "    <tr style=\"text-align: right;\">\n",
       "      <th></th>\n",
       "      <th>Id</th>\n",
       "      <th>year</th>\n",
       "      <th>bpm</th>\n",
       "      <th>nrgy</th>\n",
       "      <th>dnce</th>\n",
       "      <th>dB</th>\n",
       "      <th>live</th>\n",
       "      <th>val</th>\n",
       "      <th>dur</th>\n",
       "      <th>acous</th>\n",
       "      <th>spch</th>\n",
       "      <th>pop</th>\n",
       "    </tr>\n",
       "  </thead>\n",
       "  <tbody>\n",
       "    <tr>\n",
       "      <th>Id</th>\n",
       "      <td>1.0</td>\n",
       "      <td>NaN</td>\n",
       "      <td>NaN</td>\n",
       "      <td>NaN</td>\n",
       "      <td>NaN</td>\n",
       "      <td>NaN</td>\n",
       "      <td>NaN</td>\n",
       "      <td>NaN</td>\n",
       "      <td>NaN</td>\n",
       "      <td>NaN</td>\n",
       "      <td>NaN</td>\n",
       "      <td>NaN</td>\n",
       "    </tr>\n",
       "    <tr>\n",
       "      <th>year</th>\n",
       "      <td>NaN</td>\n",
       "      <td>1.0</td>\n",
       "      <td>NaN</td>\n",
       "      <td>NaN</td>\n",
       "      <td>NaN</td>\n",
       "      <td>NaN</td>\n",
       "      <td>NaN</td>\n",
       "      <td>NaN</td>\n",
       "      <td>NaN</td>\n",
       "      <td>NaN</td>\n",
       "      <td>NaN</td>\n",
       "      <td>NaN</td>\n",
       "    </tr>\n",
       "    <tr>\n",
       "      <th>bpm</th>\n",
       "      <td>NaN</td>\n",
       "      <td>NaN</td>\n",
       "      <td>1.0</td>\n",
       "      <td>NaN</td>\n",
       "      <td>NaN</td>\n",
       "      <td>NaN</td>\n",
       "      <td>NaN</td>\n",
       "      <td>NaN</td>\n",
       "      <td>NaN</td>\n",
       "      <td>NaN</td>\n",
       "      <td>NaN</td>\n",
       "      <td>NaN</td>\n",
       "    </tr>\n",
       "    <tr>\n",
       "      <th>nrgy</th>\n",
       "      <td>NaN</td>\n",
       "      <td>NaN</td>\n",
       "      <td>NaN</td>\n",
       "      <td>1.000000</td>\n",
       "      <td>NaN</td>\n",
       "      <td>0.687504</td>\n",
       "      <td>NaN</td>\n",
       "      <td>NaN</td>\n",
       "      <td>NaN</td>\n",
       "      <td>NaN</td>\n",
       "      <td>NaN</td>\n",
       "      <td>NaN</td>\n",
       "    </tr>\n",
       "    <tr>\n",
       "      <th>dnce</th>\n",
       "      <td>NaN</td>\n",
       "      <td>NaN</td>\n",
       "      <td>NaN</td>\n",
       "      <td>NaN</td>\n",
       "      <td>1.0</td>\n",
       "      <td>NaN</td>\n",
       "      <td>NaN</td>\n",
       "      <td>NaN</td>\n",
       "      <td>NaN</td>\n",
       "      <td>NaN</td>\n",
       "      <td>NaN</td>\n",
       "      <td>NaN</td>\n",
       "    </tr>\n",
       "    <tr>\n",
       "      <th>dB</th>\n",
       "      <td>NaN</td>\n",
       "      <td>NaN</td>\n",
       "      <td>NaN</td>\n",
       "      <td>0.687504</td>\n",
       "      <td>NaN</td>\n",
       "      <td>1.000000</td>\n",
       "      <td>NaN</td>\n",
       "      <td>NaN</td>\n",
       "      <td>NaN</td>\n",
       "      <td>NaN</td>\n",
       "      <td>NaN</td>\n",
       "      <td>NaN</td>\n",
       "    </tr>\n",
       "    <tr>\n",
       "      <th>live</th>\n",
       "      <td>NaN</td>\n",
       "      <td>NaN</td>\n",
       "      <td>NaN</td>\n",
       "      <td>NaN</td>\n",
       "      <td>NaN</td>\n",
       "      <td>NaN</td>\n",
       "      <td>1.0</td>\n",
       "      <td>NaN</td>\n",
       "      <td>NaN</td>\n",
       "      <td>NaN</td>\n",
       "      <td>NaN</td>\n",
       "      <td>NaN</td>\n",
       "    </tr>\n",
       "    <tr>\n",
       "      <th>val</th>\n",
       "      <td>NaN</td>\n",
       "      <td>NaN</td>\n",
       "      <td>NaN</td>\n",
       "      <td>NaN</td>\n",
       "      <td>NaN</td>\n",
       "      <td>NaN</td>\n",
       "      <td>NaN</td>\n",
       "      <td>1.0</td>\n",
       "      <td>NaN</td>\n",
       "      <td>NaN</td>\n",
       "      <td>NaN</td>\n",
       "      <td>NaN</td>\n",
       "    </tr>\n",
       "    <tr>\n",
       "      <th>dur</th>\n",
       "      <td>NaN</td>\n",
       "      <td>NaN</td>\n",
       "      <td>NaN</td>\n",
       "      <td>NaN</td>\n",
       "      <td>NaN</td>\n",
       "      <td>NaN</td>\n",
       "      <td>NaN</td>\n",
       "      <td>NaN</td>\n",
       "      <td>1.0</td>\n",
       "      <td>NaN</td>\n",
       "      <td>NaN</td>\n",
       "      <td>NaN</td>\n",
       "    </tr>\n",
       "    <tr>\n",
       "      <th>acous</th>\n",
       "      <td>NaN</td>\n",
       "      <td>NaN</td>\n",
       "      <td>NaN</td>\n",
       "      <td>NaN</td>\n",
       "      <td>NaN</td>\n",
       "      <td>NaN</td>\n",
       "      <td>NaN</td>\n",
       "      <td>NaN</td>\n",
       "      <td>NaN</td>\n",
       "      <td>1.0</td>\n",
       "      <td>NaN</td>\n",
       "      <td>NaN</td>\n",
       "    </tr>\n",
       "    <tr>\n",
       "      <th>spch</th>\n",
       "      <td>NaN</td>\n",
       "      <td>NaN</td>\n",
       "      <td>NaN</td>\n",
       "      <td>NaN</td>\n",
       "      <td>NaN</td>\n",
       "      <td>NaN</td>\n",
       "      <td>NaN</td>\n",
       "      <td>NaN</td>\n",
       "      <td>NaN</td>\n",
       "      <td>NaN</td>\n",
       "      <td>1.0</td>\n",
       "      <td>NaN</td>\n",
       "    </tr>\n",
       "    <tr>\n",
       "      <th>pop</th>\n",
       "      <td>NaN</td>\n",
       "      <td>NaN</td>\n",
       "      <td>NaN</td>\n",
       "      <td>NaN</td>\n",
       "      <td>NaN</td>\n",
       "      <td>NaN</td>\n",
       "      <td>NaN</td>\n",
       "      <td>NaN</td>\n",
       "      <td>NaN</td>\n",
       "      <td>NaN</td>\n",
       "      <td>NaN</td>\n",
       "      <td>1.0</td>\n",
       "    </tr>\n",
       "  </tbody>\n",
       "</table>\n",
       "</div>"
      ],
      "text/plain": [
       "        Id  year  bpm      nrgy  dnce        dB  live  val  dur  acous  spch  \\\n",
       "Id     1.0   NaN  NaN       NaN   NaN       NaN   NaN  NaN  NaN    NaN   NaN   \n",
       "year   NaN   1.0  NaN       NaN   NaN       NaN   NaN  NaN  NaN    NaN   NaN   \n",
       "bpm    NaN   NaN  1.0       NaN   NaN       NaN   NaN  NaN  NaN    NaN   NaN   \n",
       "nrgy   NaN   NaN  NaN  1.000000   NaN  0.687504   NaN  NaN  NaN    NaN   NaN   \n",
       "dnce   NaN   NaN  NaN       NaN   1.0       NaN   NaN  NaN  NaN    NaN   NaN   \n",
       "dB     NaN   NaN  NaN  0.687504   NaN  1.000000   NaN  NaN  NaN    NaN   NaN   \n",
       "live   NaN   NaN  NaN       NaN   NaN       NaN   1.0  NaN  NaN    NaN   NaN   \n",
       "val    NaN   NaN  NaN       NaN   NaN       NaN   NaN  1.0  NaN    NaN   NaN   \n",
       "dur    NaN   NaN  NaN       NaN   NaN       NaN   NaN  NaN  1.0    NaN   NaN   \n",
       "acous  NaN   NaN  NaN       NaN   NaN       NaN   NaN  NaN  NaN    1.0   NaN   \n",
       "spch   NaN   NaN  NaN       NaN   NaN       NaN   NaN  NaN  NaN    NaN   1.0   \n",
       "pop    NaN   NaN  NaN       NaN   NaN       NaN   NaN  NaN  NaN    NaN   NaN   \n",
       "\n",
       "       pop  \n",
       "Id     NaN  \n",
       "year   NaN  \n",
       "bpm    NaN  \n",
       "nrgy   NaN  \n",
       "dnce   NaN  \n",
       "dB     NaN  \n",
       "live   NaN  \n",
       "val    NaN  \n",
       "dur    NaN  \n",
       "acous  NaN  \n",
       "spch   NaN  \n",
       "pop    1.0  "
      ]
     },
     "execution_count": 97,
     "metadata": {},
     "output_type": "execute_result"
    }
   ],
   "source": [
    "u"
   ]
  },
  {
   "cell_type": "code",
   "execution_count": 98,
   "id": "87fee76c",
   "metadata": {},
   "outputs": [
    {
     "data": {
      "text/html": [
       "<div>\n",
       "<style scoped>\n",
       "    .dataframe tbody tr th:only-of-type {\n",
       "        vertical-align: middle;\n",
       "    }\n",
       "\n",
       "    .dataframe tbody tr th {\n",
       "        vertical-align: top;\n",
       "    }\n",
       "\n",
       "    .dataframe thead th {\n",
       "        text-align: right;\n",
       "    }\n",
       "</style>\n",
       "<table border=\"1\" class=\"dataframe\">\n",
       "  <thead>\n",
       "    <tr style=\"text-align: right;\">\n",
       "      <th></th>\n",
       "      <th>Id</th>\n",
       "      <th>year</th>\n",
       "      <th>bpm</th>\n",
       "      <th>nrgy</th>\n",
       "      <th>dnce</th>\n",
       "      <th>dB</th>\n",
       "      <th>live</th>\n",
       "      <th>val</th>\n",
       "      <th>dur</th>\n",
       "      <th>acous</th>\n",
       "      <th>spch</th>\n",
       "      <th>pop</th>\n",
       "    </tr>\n",
       "  </thead>\n",
       "  <tbody>\n",
       "    <tr>\n",
       "      <th>Id</th>\n",
       "      <td>NaN</td>\n",
       "      <td>NaN</td>\n",
       "      <td>NaN</td>\n",
       "      <td>NaN</td>\n",
       "      <td>NaN</td>\n",
       "      <td>NaN</td>\n",
       "      <td>NaN</td>\n",
       "      <td>NaN</td>\n",
       "      <td>NaN</td>\n",
       "      <td>NaN</td>\n",
       "      <td>NaN</td>\n",
       "      <td>NaN</td>\n",
       "    </tr>\n",
       "    <tr>\n",
       "      <th>year</th>\n",
       "      <td>NaN</td>\n",
       "      <td>NaN</td>\n",
       "      <td>NaN</td>\n",
       "      <td>NaN</td>\n",
       "      <td>NaN</td>\n",
       "      <td>NaN</td>\n",
       "      <td>NaN</td>\n",
       "      <td>NaN</td>\n",
       "      <td>NaN</td>\n",
       "      <td>NaN</td>\n",
       "      <td>NaN</td>\n",
       "      <td>NaN</td>\n",
       "    </tr>\n",
       "    <tr>\n",
       "      <th>bpm</th>\n",
       "      <td>NaN</td>\n",
       "      <td>NaN</td>\n",
       "      <td>NaN</td>\n",
       "      <td>NaN</td>\n",
       "      <td>NaN</td>\n",
       "      <td>NaN</td>\n",
       "      <td>NaN</td>\n",
       "      <td>NaN</td>\n",
       "      <td>NaN</td>\n",
       "      <td>NaN</td>\n",
       "      <td>NaN</td>\n",
       "      <td>NaN</td>\n",
       "    </tr>\n",
       "    <tr>\n",
       "      <th>nrgy</th>\n",
       "      <td>NaN</td>\n",
       "      <td>NaN</td>\n",
       "      <td>NaN</td>\n",
       "      <td>NaN</td>\n",
       "      <td>NaN</td>\n",
       "      <td>NaN</td>\n",
       "      <td>NaN</td>\n",
       "      <td>NaN</td>\n",
       "      <td>NaN</td>\n",
       "      <td>-0.658299</td>\n",
       "      <td>NaN</td>\n",
       "      <td>NaN</td>\n",
       "    </tr>\n",
       "    <tr>\n",
       "      <th>dnce</th>\n",
       "      <td>NaN</td>\n",
       "      <td>NaN</td>\n",
       "      <td>NaN</td>\n",
       "      <td>NaN</td>\n",
       "      <td>NaN</td>\n",
       "      <td>NaN</td>\n",
       "      <td>NaN</td>\n",
       "      <td>NaN</td>\n",
       "      <td>NaN</td>\n",
       "      <td>NaN</td>\n",
       "      <td>NaN</td>\n",
       "      <td>NaN</td>\n",
       "    </tr>\n",
       "    <tr>\n",
       "      <th>dB</th>\n",
       "      <td>NaN</td>\n",
       "      <td>NaN</td>\n",
       "      <td>NaN</td>\n",
       "      <td>NaN</td>\n",
       "      <td>NaN</td>\n",
       "      <td>NaN</td>\n",
       "      <td>NaN</td>\n",
       "      <td>NaN</td>\n",
       "      <td>NaN</td>\n",
       "      <td>NaN</td>\n",
       "      <td>NaN</td>\n",
       "      <td>NaN</td>\n",
       "    </tr>\n",
       "    <tr>\n",
       "      <th>live</th>\n",
       "      <td>NaN</td>\n",
       "      <td>NaN</td>\n",
       "      <td>NaN</td>\n",
       "      <td>NaN</td>\n",
       "      <td>NaN</td>\n",
       "      <td>NaN</td>\n",
       "      <td>NaN</td>\n",
       "      <td>NaN</td>\n",
       "      <td>NaN</td>\n",
       "      <td>NaN</td>\n",
       "      <td>NaN</td>\n",
       "      <td>NaN</td>\n",
       "    </tr>\n",
       "    <tr>\n",
       "      <th>val</th>\n",
       "      <td>NaN</td>\n",
       "      <td>NaN</td>\n",
       "      <td>NaN</td>\n",
       "      <td>NaN</td>\n",
       "      <td>NaN</td>\n",
       "      <td>NaN</td>\n",
       "      <td>NaN</td>\n",
       "      <td>NaN</td>\n",
       "      <td>NaN</td>\n",
       "      <td>NaN</td>\n",
       "      <td>NaN</td>\n",
       "      <td>NaN</td>\n",
       "    </tr>\n",
       "    <tr>\n",
       "      <th>dur</th>\n",
       "      <td>NaN</td>\n",
       "      <td>NaN</td>\n",
       "      <td>NaN</td>\n",
       "      <td>NaN</td>\n",
       "      <td>NaN</td>\n",
       "      <td>NaN</td>\n",
       "      <td>NaN</td>\n",
       "      <td>NaN</td>\n",
       "      <td>NaN</td>\n",
       "      <td>NaN</td>\n",
       "      <td>NaN</td>\n",
       "      <td>NaN</td>\n",
       "    </tr>\n",
       "    <tr>\n",
       "      <th>acous</th>\n",
       "      <td>NaN</td>\n",
       "      <td>NaN</td>\n",
       "      <td>NaN</td>\n",
       "      <td>-0.658299</td>\n",
       "      <td>NaN</td>\n",
       "      <td>NaN</td>\n",
       "      <td>NaN</td>\n",
       "      <td>NaN</td>\n",
       "      <td>NaN</td>\n",
       "      <td>NaN</td>\n",
       "      <td>NaN</td>\n",
       "      <td>NaN</td>\n",
       "    </tr>\n",
       "    <tr>\n",
       "      <th>spch</th>\n",
       "      <td>NaN</td>\n",
       "      <td>NaN</td>\n",
       "      <td>NaN</td>\n",
       "      <td>NaN</td>\n",
       "      <td>NaN</td>\n",
       "      <td>NaN</td>\n",
       "      <td>NaN</td>\n",
       "      <td>NaN</td>\n",
       "      <td>NaN</td>\n",
       "      <td>NaN</td>\n",
       "      <td>NaN</td>\n",
       "      <td>NaN</td>\n",
       "    </tr>\n",
       "    <tr>\n",
       "      <th>pop</th>\n",
       "      <td>NaN</td>\n",
       "      <td>NaN</td>\n",
       "      <td>NaN</td>\n",
       "      <td>NaN</td>\n",
       "      <td>NaN</td>\n",
       "      <td>NaN</td>\n",
       "      <td>NaN</td>\n",
       "      <td>NaN</td>\n",
       "      <td>NaN</td>\n",
       "      <td>NaN</td>\n",
       "      <td>NaN</td>\n",
       "      <td>NaN</td>\n",
       "    </tr>\n",
       "  </tbody>\n",
       "</table>\n",
       "</div>"
      ],
      "text/plain": [
       "       Id  year  bpm      nrgy  dnce  dB  live  val  dur     acous  spch  pop\n",
       "Id    NaN   NaN  NaN       NaN   NaN NaN   NaN  NaN  NaN       NaN   NaN  NaN\n",
       "year  NaN   NaN  NaN       NaN   NaN NaN   NaN  NaN  NaN       NaN   NaN  NaN\n",
       "bpm   NaN   NaN  NaN       NaN   NaN NaN   NaN  NaN  NaN       NaN   NaN  NaN\n",
       "nrgy  NaN   NaN  NaN       NaN   NaN NaN   NaN  NaN  NaN -0.658299   NaN  NaN\n",
       "dnce  NaN   NaN  NaN       NaN   NaN NaN   NaN  NaN  NaN       NaN   NaN  NaN\n",
       "dB    NaN   NaN  NaN       NaN   NaN NaN   NaN  NaN  NaN       NaN   NaN  NaN\n",
       "live  NaN   NaN  NaN       NaN   NaN NaN   NaN  NaN  NaN       NaN   NaN  NaN\n",
       "val   NaN   NaN  NaN       NaN   NaN NaN   NaN  NaN  NaN       NaN   NaN  NaN\n",
       "dur   NaN   NaN  NaN       NaN   NaN NaN   NaN  NaN  NaN       NaN   NaN  NaN\n",
       "acous NaN   NaN  NaN -0.658299   NaN NaN   NaN  NaN  NaN       NaN   NaN  NaN\n",
       "spch  NaN   NaN  NaN       NaN   NaN NaN   NaN  NaN  NaN       NaN   NaN  NaN\n",
       "pop   NaN   NaN  NaN       NaN   NaN NaN   NaN  NaN  NaN       NaN   NaN  NaN"
      ]
     },
     "execution_count": 98,
     "metadata": {},
     "output_type": "execute_result"
    }
   ],
   "source": [
    "v"
   ]
  },
  {
   "cell_type": "markdown",
   "id": "3656e8fa",
   "metadata": {},
   "source": [
    "Based on the output of the above commands it can be seen that there is hardly any strong correlation between features, let us explore whether mild correlation exists (correlation above 0.25 or correlation below -0.25)"
   ]
  },
  {
   "cell_type": "code",
   "execution_count": 99,
   "id": "a1f2f1a4",
   "metadata": {},
   "outputs": [],
   "source": [
    "u = corr[corr > 0.25]\n",
    "v = corr[corr < -0.25]"
   ]
  },
  {
   "cell_type": "code",
   "execution_count": 100,
   "id": "d124176f",
   "metadata": {},
   "outputs": [
    {
     "data": {
      "text/html": [
       "<div>\n",
       "<style scoped>\n",
       "    .dataframe tbody tr th:only-of-type {\n",
       "        vertical-align: middle;\n",
       "    }\n",
       "\n",
       "    .dataframe tbody tr th {\n",
       "        vertical-align: top;\n",
       "    }\n",
       "\n",
       "    .dataframe thead th {\n",
       "        text-align: right;\n",
       "    }\n",
       "</style>\n",
       "<table border=\"1\" class=\"dataframe\">\n",
       "  <thead>\n",
       "    <tr style=\"text-align: right;\">\n",
       "      <th></th>\n",
       "      <th>Id</th>\n",
       "      <th>year</th>\n",
       "      <th>bpm</th>\n",
       "      <th>nrgy</th>\n",
       "      <th>dnce</th>\n",
       "      <th>dB</th>\n",
       "      <th>live</th>\n",
       "      <th>val</th>\n",
       "      <th>dur</th>\n",
       "      <th>acous</th>\n",
       "      <th>spch</th>\n",
       "      <th>pop</th>\n",
       "    </tr>\n",
       "  </thead>\n",
       "  <tbody>\n",
       "    <tr>\n",
       "      <th>Id</th>\n",
       "      <td>1.0</td>\n",
       "      <td>NaN</td>\n",
       "      <td>NaN</td>\n",
       "      <td>NaN</td>\n",
       "      <td>NaN</td>\n",
       "      <td>NaN</td>\n",
       "      <td>NaN</td>\n",
       "      <td>NaN</td>\n",
       "      <td>NaN</td>\n",
       "      <td>NaN</td>\n",
       "      <td>NaN</td>\n",
       "      <td>NaN</td>\n",
       "    </tr>\n",
       "    <tr>\n",
       "      <th>year</th>\n",
       "      <td>NaN</td>\n",
       "      <td>1.000000</td>\n",
       "      <td>NaN</td>\n",
       "      <td>NaN</td>\n",
       "      <td>0.255916</td>\n",
       "      <td>0.317036</td>\n",
       "      <td>NaN</td>\n",
       "      <td>NaN</td>\n",
       "      <td>NaN</td>\n",
       "      <td>NaN</td>\n",
       "      <td>NaN</td>\n",
       "      <td>NaN</td>\n",
       "    </tr>\n",
       "    <tr>\n",
       "      <th>bpm</th>\n",
       "      <td>NaN</td>\n",
       "      <td>NaN</td>\n",
       "      <td>1.0</td>\n",
       "      <td>NaN</td>\n",
       "      <td>NaN</td>\n",
       "      <td>NaN</td>\n",
       "      <td>NaN</td>\n",
       "      <td>NaN</td>\n",
       "      <td>NaN</td>\n",
       "      <td>NaN</td>\n",
       "      <td>NaN</td>\n",
       "      <td>NaN</td>\n",
       "    </tr>\n",
       "    <tr>\n",
       "      <th>nrgy</th>\n",
       "      <td>NaN</td>\n",
       "      <td>NaN</td>\n",
       "      <td>NaN</td>\n",
       "      <td>1.000000</td>\n",
       "      <td>0.345836</td>\n",
       "      <td>0.687504</td>\n",
       "      <td>NaN</td>\n",
       "      <td>0.411215</td>\n",
       "      <td>NaN</td>\n",
       "      <td>NaN</td>\n",
       "      <td>NaN</td>\n",
       "      <td>0.274006</td>\n",
       "    </tr>\n",
       "    <tr>\n",
       "      <th>dnce</th>\n",
       "      <td>NaN</td>\n",
       "      <td>0.255916</td>\n",
       "      <td>NaN</td>\n",
       "      <td>0.345836</td>\n",
       "      <td>1.000000</td>\n",
       "      <td>0.255577</td>\n",
       "      <td>NaN</td>\n",
       "      <td>0.467307</td>\n",
       "      <td>NaN</td>\n",
       "      <td>NaN</td>\n",
       "      <td>NaN</td>\n",
       "      <td>0.256099</td>\n",
       "    </tr>\n",
       "    <tr>\n",
       "      <th>dB</th>\n",
       "      <td>NaN</td>\n",
       "      <td>0.317036</td>\n",
       "      <td>NaN</td>\n",
       "      <td>0.687504</td>\n",
       "      <td>0.255577</td>\n",
       "      <td>1.000000</td>\n",
       "      <td>NaN</td>\n",
       "      <td>NaN</td>\n",
       "      <td>NaN</td>\n",
       "      <td>NaN</td>\n",
       "      <td>NaN</td>\n",
       "      <td>0.312952</td>\n",
       "    </tr>\n",
       "    <tr>\n",
       "      <th>live</th>\n",
       "      <td>NaN</td>\n",
       "      <td>NaN</td>\n",
       "      <td>NaN</td>\n",
       "      <td>NaN</td>\n",
       "      <td>NaN</td>\n",
       "      <td>NaN</td>\n",
       "      <td>1.0</td>\n",
       "      <td>NaN</td>\n",
       "      <td>NaN</td>\n",
       "      <td>NaN</td>\n",
       "      <td>NaN</td>\n",
       "      <td>NaN</td>\n",
       "    </tr>\n",
       "    <tr>\n",
       "      <th>val</th>\n",
       "      <td>NaN</td>\n",
       "      <td>NaN</td>\n",
       "      <td>NaN</td>\n",
       "      <td>0.411215</td>\n",
       "      <td>0.467307</td>\n",
       "      <td>NaN</td>\n",
       "      <td>NaN</td>\n",
       "      <td>1.000000</td>\n",
       "      <td>NaN</td>\n",
       "      <td>NaN</td>\n",
       "      <td>NaN</td>\n",
       "      <td>NaN</td>\n",
       "    </tr>\n",
       "    <tr>\n",
       "      <th>dur</th>\n",
       "      <td>NaN</td>\n",
       "      <td>NaN</td>\n",
       "      <td>NaN</td>\n",
       "      <td>NaN</td>\n",
       "      <td>NaN</td>\n",
       "      <td>NaN</td>\n",
       "      <td>NaN</td>\n",
       "      <td>NaN</td>\n",
       "      <td>1.000000</td>\n",
       "      <td>NaN</td>\n",
       "      <td>NaN</td>\n",
       "      <td>0.321028</td>\n",
       "    </tr>\n",
       "    <tr>\n",
       "      <th>acous</th>\n",
       "      <td>NaN</td>\n",
       "      <td>NaN</td>\n",
       "      <td>NaN</td>\n",
       "      <td>NaN</td>\n",
       "      <td>NaN</td>\n",
       "      <td>NaN</td>\n",
       "      <td>NaN</td>\n",
       "      <td>NaN</td>\n",
       "      <td>NaN</td>\n",
       "      <td>1.0</td>\n",
       "      <td>NaN</td>\n",
       "      <td>NaN</td>\n",
       "    </tr>\n",
       "    <tr>\n",
       "      <th>spch</th>\n",
       "      <td>NaN</td>\n",
       "      <td>NaN</td>\n",
       "      <td>NaN</td>\n",
       "      <td>NaN</td>\n",
       "      <td>NaN</td>\n",
       "      <td>NaN</td>\n",
       "      <td>NaN</td>\n",
       "      <td>NaN</td>\n",
       "      <td>NaN</td>\n",
       "      <td>NaN</td>\n",
       "      <td>1.0</td>\n",
       "      <td>NaN</td>\n",
       "    </tr>\n",
       "    <tr>\n",
       "      <th>pop</th>\n",
       "      <td>NaN</td>\n",
       "      <td>NaN</td>\n",
       "      <td>NaN</td>\n",
       "      <td>0.274006</td>\n",
       "      <td>0.256099</td>\n",
       "      <td>0.312952</td>\n",
       "      <td>NaN</td>\n",
       "      <td>NaN</td>\n",
       "      <td>0.321028</td>\n",
       "      <td>NaN</td>\n",
       "      <td>NaN</td>\n",
       "      <td>1.000000</td>\n",
       "    </tr>\n",
       "  </tbody>\n",
       "</table>\n",
       "</div>"
      ],
      "text/plain": [
       "        Id      year  bpm      nrgy      dnce        dB  live       val  \\\n",
       "Id     1.0       NaN  NaN       NaN       NaN       NaN   NaN       NaN   \n",
       "year   NaN  1.000000  NaN       NaN  0.255916  0.317036   NaN       NaN   \n",
       "bpm    NaN       NaN  1.0       NaN       NaN       NaN   NaN       NaN   \n",
       "nrgy   NaN       NaN  NaN  1.000000  0.345836  0.687504   NaN  0.411215   \n",
       "dnce   NaN  0.255916  NaN  0.345836  1.000000  0.255577   NaN  0.467307   \n",
       "dB     NaN  0.317036  NaN  0.687504  0.255577  1.000000   NaN       NaN   \n",
       "live   NaN       NaN  NaN       NaN       NaN       NaN   1.0       NaN   \n",
       "val    NaN       NaN  NaN  0.411215  0.467307       NaN   NaN  1.000000   \n",
       "dur    NaN       NaN  NaN       NaN       NaN       NaN   NaN       NaN   \n",
       "acous  NaN       NaN  NaN       NaN       NaN       NaN   NaN       NaN   \n",
       "spch   NaN       NaN  NaN       NaN       NaN       NaN   NaN       NaN   \n",
       "pop    NaN       NaN  NaN  0.274006  0.256099  0.312952   NaN       NaN   \n",
       "\n",
       "            dur  acous  spch       pop  \n",
       "Id          NaN    NaN   NaN       NaN  \n",
       "year        NaN    NaN   NaN       NaN  \n",
       "bpm         NaN    NaN   NaN       NaN  \n",
       "nrgy        NaN    NaN   NaN  0.274006  \n",
       "dnce        NaN    NaN   NaN  0.256099  \n",
       "dB          NaN    NaN   NaN  0.312952  \n",
       "live        NaN    NaN   NaN       NaN  \n",
       "val         NaN    NaN   NaN       NaN  \n",
       "dur    1.000000    NaN   NaN  0.321028  \n",
       "acous       NaN    1.0   NaN       NaN  \n",
       "spch        NaN    NaN   1.0       NaN  \n",
       "pop    0.321028    NaN   NaN  1.000000  "
      ]
     },
     "execution_count": 100,
     "metadata": {},
     "output_type": "execute_result"
    }
   ],
   "source": [
    "u"
   ]
  },
  {
   "cell_type": "code",
   "execution_count": 101,
   "id": "e788e859",
   "metadata": {},
   "outputs": [
    {
     "data": {
      "text/html": [
       "<div>\n",
       "<style scoped>\n",
       "    .dataframe tbody tr th:only-of-type {\n",
       "        vertical-align: middle;\n",
       "    }\n",
       "\n",
       "    .dataframe tbody tr th {\n",
       "        vertical-align: top;\n",
       "    }\n",
       "\n",
       "    .dataframe thead th {\n",
       "        text-align: right;\n",
       "    }\n",
       "</style>\n",
       "<table border=\"1\" class=\"dataframe\">\n",
       "  <thead>\n",
       "    <tr style=\"text-align: right;\">\n",
       "      <th></th>\n",
       "      <th>Id</th>\n",
       "      <th>year</th>\n",
       "      <th>bpm</th>\n",
       "      <th>nrgy</th>\n",
       "      <th>dnce</th>\n",
       "      <th>dB</th>\n",
       "      <th>live</th>\n",
       "      <th>val</th>\n",
       "      <th>dur</th>\n",
       "      <th>acous</th>\n",
       "      <th>spch</th>\n",
       "      <th>pop</th>\n",
       "    </tr>\n",
       "  </thead>\n",
       "  <tbody>\n",
       "    <tr>\n",
       "      <th>Id</th>\n",
       "      <td>NaN</td>\n",
       "      <td>NaN</td>\n",
       "      <td>NaN</td>\n",
       "      <td>NaN</td>\n",
       "      <td>NaN</td>\n",
       "      <td>NaN</td>\n",
       "      <td>NaN</td>\n",
       "      <td>NaN</td>\n",
       "      <td>NaN</td>\n",
       "      <td>NaN</td>\n",
       "      <td>NaN</td>\n",
       "      <td>NaN</td>\n",
       "    </tr>\n",
       "    <tr>\n",
       "      <th>year</th>\n",
       "      <td>NaN</td>\n",
       "      <td>NaN</td>\n",
       "      <td>NaN</td>\n",
       "      <td>NaN</td>\n",
       "      <td>NaN</td>\n",
       "      <td>NaN</td>\n",
       "      <td>NaN</td>\n",
       "      <td>NaN</td>\n",
       "      <td>NaN</td>\n",
       "      <td>NaN</td>\n",
       "      <td>NaN</td>\n",
       "      <td>NaN</td>\n",
       "    </tr>\n",
       "    <tr>\n",
       "      <th>bpm</th>\n",
       "      <td>NaN</td>\n",
       "      <td>NaN</td>\n",
       "      <td>NaN</td>\n",
       "      <td>NaN</td>\n",
       "      <td>NaN</td>\n",
       "      <td>NaN</td>\n",
       "      <td>NaN</td>\n",
       "      <td>NaN</td>\n",
       "      <td>NaN</td>\n",
       "      <td>NaN</td>\n",
       "      <td>NaN</td>\n",
       "      <td>NaN</td>\n",
       "    </tr>\n",
       "    <tr>\n",
       "      <th>nrgy</th>\n",
       "      <td>NaN</td>\n",
       "      <td>NaN</td>\n",
       "      <td>NaN</td>\n",
       "      <td>NaN</td>\n",
       "      <td>NaN</td>\n",
       "      <td>NaN</td>\n",
       "      <td>NaN</td>\n",
       "      <td>NaN</td>\n",
       "      <td>NaN</td>\n",
       "      <td>-0.658299</td>\n",
       "      <td>NaN</td>\n",
       "      <td>NaN</td>\n",
       "    </tr>\n",
       "    <tr>\n",
       "      <th>dnce</th>\n",
       "      <td>NaN</td>\n",
       "      <td>NaN</td>\n",
       "      <td>NaN</td>\n",
       "      <td>NaN</td>\n",
       "      <td>NaN</td>\n",
       "      <td>NaN</td>\n",
       "      <td>NaN</td>\n",
       "      <td>NaN</td>\n",
       "      <td>NaN</td>\n",
       "      <td>-0.389641</td>\n",
       "      <td>NaN</td>\n",
       "      <td>NaN</td>\n",
       "    </tr>\n",
       "    <tr>\n",
       "      <th>dB</th>\n",
       "      <td>NaN</td>\n",
       "      <td>NaN</td>\n",
       "      <td>NaN</td>\n",
       "      <td>NaN</td>\n",
       "      <td>NaN</td>\n",
       "      <td>NaN</td>\n",
       "      <td>NaN</td>\n",
       "      <td>NaN</td>\n",
       "      <td>NaN</td>\n",
       "      <td>-0.460821</td>\n",
       "      <td>NaN</td>\n",
       "      <td>NaN</td>\n",
       "    </tr>\n",
       "    <tr>\n",
       "      <th>live</th>\n",
       "      <td>NaN</td>\n",
       "      <td>NaN</td>\n",
       "      <td>NaN</td>\n",
       "      <td>NaN</td>\n",
       "      <td>NaN</td>\n",
       "      <td>NaN</td>\n",
       "      <td>NaN</td>\n",
       "      <td>NaN</td>\n",
       "      <td>NaN</td>\n",
       "      <td>NaN</td>\n",
       "      <td>NaN</td>\n",
       "      <td>NaN</td>\n",
       "    </tr>\n",
       "    <tr>\n",
       "      <th>val</th>\n",
       "      <td>NaN</td>\n",
       "      <td>NaN</td>\n",
       "      <td>NaN</td>\n",
       "      <td>NaN</td>\n",
       "      <td>NaN</td>\n",
       "      <td>NaN</td>\n",
       "      <td>NaN</td>\n",
       "      <td>NaN</td>\n",
       "      <td>NaN</td>\n",
       "      <td>NaN</td>\n",
       "      <td>NaN</td>\n",
       "      <td>NaN</td>\n",
       "    </tr>\n",
       "    <tr>\n",
       "      <th>dur</th>\n",
       "      <td>NaN</td>\n",
       "      <td>NaN</td>\n",
       "      <td>NaN</td>\n",
       "      <td>NaN</td>\n",
       "      <td>NaN</td>\n",
       "      <td>NaN</td>\n",
       "      <td>NaN</td>\n",
       "      <td>NaN</td>\n",
       "      <td>NaN</td>\n",
       "      <td>-0.260960</td>\n",
       "      <td>NaN</td>\n",
       "      <td>NaN</td>\n",
       "    </tr>\n",
       "    <tr>\n",
       "      <th>acous</th>\n",
       "      <td>NaN</td>\n",
       "      <td>NaN</td>\n",
       "      <td>NaN</td>\n",
       "      <td>-0.658299</td>\n",
       "      <td>-0.389641</td>\n",
       "      <td>-0.460821</td>\n",
       "      <td>NaN</td>\n",
       "      <td>NaN</td>\n",
       "      <td>-0.26096</td>\n",
       "      <td>NaN</td>\n",
       "      <td>NaN</td>\n",
       "      <td>-0.443763</td>\n",
       "    </tr>\n",
       "    <tr>\n",
       "      <th>spch</th>\n",
       "      <td>NaN</td>\n",
       "      <td>NaN</td>\n",
       "      <td>NaN</td>\n",
       "      <td>NaN</td>\n",
       "      <td>NaN</td>\n",
       "      <td>NaN</td>\n",
       "      <td>NaN</td>\n",
       "      <td>NaN</td>\n",
       "      <td>NaN</td>\n",
       "      <td>NaN</td>\n",
       "      <td>NaN</td>\n",
       "      <td>NaN</td>\n",
       "    </tr>\n",
       "    <tr>\n",
       "      <th>pop</th>\n",
       "      <td>NaN</td>\n",
       "      <td>NaN</td>\n",
       "      <td>NaN</td>\n",
       "      <td>NaN</td>\n",
       "      <td>NaN</td>\n",
       "      <td>NaN</td>\n",
       "      <td>NaN</td>\n",
       "      <td>NaN</td>\n",
       "      <td>NaN</td>\n",
       "      <td>-0.443763</td>\n",
       "      <td>NaN</td>\n",
       "      <td>NaN</td>\n",
       "    </tr>\n",
       "  </tbody>\n",
       "</table>\n",
       "</div>"
      ],
      "text/plain": [
       "       Id  year  bpm      nrgy      dnce        dB  live  val      dur  \\\n",
       "Id    NaN   NaN  NaN       NaN       NaN       NaN   NaN  NaN      NaN   \n",
       "year  NaN   NaN  NaN       NaN       NaN       NaN   NaN  NaN      NaN   \n",
       "bpm   NaN   NaN  NaN       NaN       NaN       NaN   NaN  NaN      NaN   \n",
       "nrgy  NaN   NaN  NaN       NaN       NaN       NaN   NaN  NaN      NaN   \n",
       "dnce  NaN   NaN  NaN       NaN       NaN       NaN   NaN  NaN      NaN   \n",
       "dB    NaN   NaN  NaN       NaN       NaN       NaN   NaN  NaN      NaN   \n",
       "live  NaN   NaN  NaN       NaN       NaN       NaN   NaN  NaN      NaN   \n",
       "val   NaN   NaN  NaN       NaN       NaN       NaN   NaN  NaN      NaN   \n",
       "dur   NaN   NaN  NaN       NaN       NaN       NaN   NaN  NaN      NaN   \n",
       "acous NaN   NaN  NaN -0.658299 -0.389641 -0.460821   NaN  NaN -0.26096   \n",
       "spch  NaN   NaN  NaN       NaN       NaN       NaN   NaN  NaN      NaN   \n",
       "pop   NaN   NaN  NaN       NaN       NaN       NaN   NaN  NaN      NaN   \n",
       "\n",
       "          acous  spch       pop  \n",
       "Id          NaN   NaN       NaN  \n",
       "year        NaN   NaN       NaN  \n",
       "bpm         NaN   NaN       NaN  \n",
       "nrgy  -0.658299   NaN       NaN  \n",
       "dnce  -0.389641   NaN       NaN  \n",
       "dB    -0.460821   NaN       NaN  \n",
       "live        NaN   NaN       NaN  \n",
       "val         NaN   NaN       NaN  \n",
       "dur   -0.260960   NaN       NaN  \n",
       "acous       NaN   NaN -0.443763  \n",
       "spch        NaN   NaN       NaN  \n",
       "pop   -0.443763   NaN       NaN  "
      ]
     },
     "execution_count": 101,
     "metadata": {},
     "output_type": "execute_result"
    }
   ],
   "source": [
    "v"
   ]
  },
  {
   "cell_type": "markdown",
   "id": "958e6f7b",
   "metadata": {},
   "source": [
    "Let's now take those five features which were previously identified and carry our a scatter matrix. We will use matplotlib to visualise this."
   ]
  },
  {
   "cell_type": "code",
   "execution_count": 102,
   "id": "724f25b3",
   "metadata": {},
   "outputs": [
    {
     "data": {
      "image/png": "[encoded data removed]",
      "text/plain": [
       "<Figure size 864x504 with 36 Axes>"
      ]
     },
     "metadata": {
      "needs_background": "light"
     },
     "output_type": "display_data"
    }
   ],
   "source": [
    "from pandas.plotting import scatter_matrix\n",
    "attributes = [\"pop\",\"acous\", \"dur\", \"dB\", \"nrgy\", \"dnce\" ]\n",
    "scatter_matrix(train[attributes], figsize=(12,7))\n",
    "plt.show()"
   ]
  },
  {
   "cell_type": "markdown",
   "id": "7a9e18da",
   "metadata": {},
   "source": [
    "From our scatter matrix visualisation, it is easier to see the linear relationship between pop and dur. In addition, there is  a positive linear relationship between dB and nrgy.\n",
    "\n",
    "No further clear linear relationships can be observed between other features. "
   ]
  },
  {
   "cell_type": "markdown",
   "id": "c030cad9",
   "metadata": {},
   "source": [
    "Let's now investigate the linear relationship between db and nrgy in more detail."
   ]
  },
  {
   "cell_type": "code",
   "execution_count": 103,
   "id": "10ca379a",
   "metadata": {},
   "outputs": [
    {
     "data": {
      "image/png": "[encoded data removed]",
      "text/plain": [
       "<Figure size 432x288 with 1 Axes>"
      ]
     },
     "metadata": {
      "needs_background": "light"
     },
     "output_type": "display_data"
    }
   ],
   "source": [
    "#plotting energy vs loudness\n",
    "train.plot(kind=\"scatter\", x=\"nrgy\", y=\"dB\",\n",
    "             alpha=0.9)\n",
    "plt.show()"
   ]
  },
  {
   "cell_type": "markdown",
   "id": "e0e6d4c3",
   "metadata": {},
   "source": [
    "Plotting histograms of these attributes gives us a more details picture of the range and spread of values."
   ]
  },
  {
   "cell_type": "code",
   "execution_count": 104,
   "id": "adf027a0",
   "metadata": {},
   "outputs": [
    {
     "data": {
      "image/png": "[encoded data removed]",
      "text/plain": [
       "<Figure size 720x504 with 12 Axes>"
      ]
     },
     "metadata": {
      "needs_background": "light"
     },
     "output_type": "display_data"
    },
    {
     "data": {
      "image/png": "[encoded data removed]",
      "text/plain": [
       "<Figure size 720x504 with 12 Axes>"
      ]
     },
     "metadata": {
      "needs_background": "light"
     },
     "output_type": "display_data"
    }
   ],
   "source": [
    "%matplotlib inline\n",
    "train.hist(bins=30, figsize=(10,7))\n",
    "plt.tight_layout()\n",
    "test.hist(bins=30, figsize=(10,7))\n",
    "plt.tight_layout()\n",
    "plt.show()"
   ]
  },
  {
   "cell_type": "markdown",
   "id": "adbbb956",
   "metadata": {},
   "source": [
    "From the histograms, it can be observed that the test and train data share similar skews and distribution. Therefore, stratified sampling is not required. "
   ]
  },
  {
   "cell_type": "markdown",
   "id": "f4b36813",
   "metadata": {},
   "source": [
    "# Create a Train & Test Set"
   ]
  },
  {
   "cell_type": "markdown",
   "id": "cd5a88b7",
   "metadata": {},
   "source": [
    "Let's drop the string features from our test and train set. In addition, we will identify our dependent variable and label this y_train.\n",
    "\n",
    "Futhermore, we have decided not to futher split our training set by the train_test_split function as this would result in an smaller training set. Given that the train and test files were roughly 80%/20% train/test data, it makes sense to continue with this. Moreover, as we're working with a relatively small dataset and most machine learning projects will be built on huge amounts of data, it would be counter productive to reduce our training set again. We will use cross validate to measure our trained models against various folds in our training set."
   ]
  },
  {
   "cell_type": "markdown",
   "id": "61b41430",
   "metadata": {},
   "source": [
    "# Prepare the Data"
   ]
  },
  {
   "cell_type": "code",
   "execution_count": 38,
   "id": "a90b292b",
   "metadata": {},
   "outputs": [],
   "source": [
    "X_train_num = train.drop([\"Id\", \"title\",\"artist\",\"top genre\",\"pop\"], axis=1)\n",
    "X_test_num = test.drop([\"Id\", \"title\",\"artist\",\"top genre\"], axis=1)\n",
    "y_train = train[\"pop\"].copy()\n",
    "\n"
   ]
  },
  {
   "cell_type": "markdown",
   "id": "e0cd240c",
   "metadata": {},
   "source": [
    "We have dropped the appropiate features and only the numerical features remain."
   ]
  },
  {
   "cell_type": "markdown",
   "id": "93207912",
   "metadata": {},
   "source": [
    "# Handling the Categorical Data"
   ]
  },
  {
   "cell_type": "markdown",
   "id": "49aaf8df",
   "metadata": {},
   "source": [
    "Now we one hot encode the \"top genre\" category because we believe this will help our models predict the popularity scores. One hot encoding takes a string variable and turns it into a array based on binary yes or no inputs. In this case we are adding 86 1-hot encoded columns to our train and test sets for analysis."
   ]
  },
  {
   "cell_type": "code",
   "execution_count": 39,
   "id": "f090fa97",
   "metadata": {},
   "outputs": [],
   "source": [
    "train_cat = train[\"top genre\"]\n",
    "test_cat = test[\"top genre\"]"
   ]
  },
  {
   "cell_type": "code",
   "execution_count": 40,
   "id": "e142d2a8",
   "metadata": {},
   "outputs": [],
   "source": [
    "train_cat_encoded, train_categories = train_cat.factorize()\n",
    "test_cat_encoded, test_categories = test_cat.factorize()"
   ]
  },
  {
   "cell_type": "markdown",
   "id": "bdc9803b",
   "metadata": {},
   "source": [
    "After factorizing this column, we change the train_cat array into a dataframe for the 1 hot encoder to work"
   ]
  },
  {
   "cell_type": "code",
   "execution_count": 41,
   "id": "9abb6902",
   "metadata": {},
   "outputs": [],
   "source": [
    "train_cat =  pd.DataFrame(train[\"top genre\"]) #categorical data I want to retain\n",
    "test_cat =  pd.DataFrame(test[\"top genre\"])"
   ]
  },
  {
   "cell_type": "code",
   "execution_count": 42,
   "id": "4ef0c366",
   "metadata": {},
   "outputs": [
    {
     "data": {
      "text/plain": [
       "<438x86 sparse matrix of type '<class 'numpy.float64'>'\n",
       "\twith 438 stored elements in Compressed Sparse Row format>"
      ]
     },
     "execution_count": 42,
     "metadata": {},
     "output_type": "execute_result"
    }
   ],
   "source": [
    "from sklearn.preprocessing import OneHotEncoder\n",
    "encoder = OneHotEncoder(handle_unknown='ignore')\n",
    "train_cat_1hot = encoder.fit_transform(train_cat)\n",
    "test_cat_1hot = encoder.transform(test_cat) #test set matches train columns\n",
    "train_cat_1hot"
   ]
  },
  {
   "cell_type": "code",
   "execution_count": 43,
   "id": "486f8c12",
   "metadata": {},
   "outputs": [
    {
     "data": {
      "text/plain": [
       "<114x86 sparse matrix of type '<class 'numpy.float64'>'\n",
       "\twith 99 stored elements in Compressed Sparse Row format>"
      ]
     },
     "execution_count": 43,
     "metadata": {},
     "output_type": "execute_result"
    }
   ],
   "source": [
    "test_cat_1hot"
   ]
  },
  {
   "cell_type": "markdown",
   "id": "6c668954",
   "metadata": {},
   "source": [
    "We transformed the test categorical data frame using the train columns so that our final features would match. This is needed to run our models on the test set."
   ]
  },
  {
   "cell_type": "code",
   "execution_count": 44,
   "id": "bf4569ec",
   "metadata": {},
   "outputs": [],
   "source": [
    "cat_attribs = ['top genre']\n",
    "num_attribs = list(X_train_num)"
   ]
  },
  {
   "cell_type": "markdown",
   "id": "a4b19490",
   "metadata": {},
   "source": [
    "# Feature Scaling"
   ]
  },
  {
   "cell_type": "markdown",
   "id": "3ad01eb8",
   "metadata": {},
   "source": [
    "Machine learning algorithms generally perform better when different numerical categories are similarly scaled. Our training data columns have very different scales, therefore we should scale them."
   ]
  },
  {
   "cell_type": "code",
   "execution_count": 45,
   "id": "226a1b50",
   "metadata": {},
   "outputs": [],
   "source": [
    "from sklearn import preprocessing\n",
    "std_scaler = preprocessing.StandardScaler()\n",
    "X_train_num_scaled = std_scaler.fit_transform(X_train_num)\n",
    "X_test_num_scaled = std_scaler.fit_transform(X_test_num)"
   ]
  },
  {
   "cell_type": "code",
   "execution_count": 46,
   "id": "7140d83c",
   "metadata": {
    "scrolled": true
   },
   "outputs": [
    {
     "data": {
      "text/plain": [
       "array([[ 0.30691504, -0.45041131, -1.33720054, ..., -1.23538642,\n",
       "         1.46370559, -0.48000348],\n",
       "       [-0.71239335, -0.52994373, -1.11059146, ...,  0.26411561,\n",
       "        -0.72459281, -0.48000348],\n",
       "       [-0.65243403,  2.05485975, -1.47316599, ...,  0.05892059,\n",
       "        -0.24590254, -0.48000348],\n",
       "       ...,\n",
       "       [ 0.66667095,  1.97532734, -0.24947694, ...,  0.95862181,\n",
       "        -0.31428686,  1.49662625],\n",
       "       [ 0.54675231,  1.85602871,  1.20082119, ..., -0.58823291,\n",
       "        -0.92974579,  0.41846458],\n",
       "       [ 0.66667095, -0.52994373,  0.56631576, ...,  0.83234795,\n",
       "        -0.72459281, -0.6596971 ]])"
      ]
     },
     "execution_count": 46,
     "metadata": {},
     "output_type": "execute_result"
    }
   ],
   "source": [
    "X_train_num_scaled #Checking our newly scaled data"
   ]
  },
  {
   "cell_type": "markdown",
   "id": "93f233e7",
   "metadata": {},
   "source": [
    "The data has been sucessfully scaled."
   ]
  },
  {
   "cell_type": "markdown",
   "id": "75274ae2",
   "metadata": {},
   "source": [
    "# Recombining Numerical and Categorical Data"
   ]
  },
  {
   "cell_type": "markdown",
   "id": "85ab61a8",
   "metadata": {},
   "source": [
    "Now we need to recombine our numerical data frame with our categorical data frame."
   ]
  },
  {
   "cell_type": "code",
   "execution_count": 47,
   "id": "91454a62",
   "metadata": {},
   "outputs": [],
   "source": [
    "X_train_num_scaled_df = pd.DataFrame(X_train_num_scaled)\n",
    "X_train_num_scaled_df.columns = num_attribs\n",
    "X_train_num_scaled_df.index = X_train_num.index\n",
    "\n",
    "X_test_num_scaled_df = pd.DataFrame(X_test_num_scaled) \n",
    "X_test_num_scaled_df.columns = num_attribs\n",
    "X_test_num_scaled_df.index = X_test_num.index"
   ]
  },
  {
   "cell_type": "code",
   "execution_count": 48,
   "id": "6b18f20e",
   "metadata": {},
   "outputs": [],
   "source": [
    "train_cat_1hot_enc = pd.DataFrame(train_cat_1hot.toarray())\n",
    "train_cat_1hot_enc.columns = train_categories\n",
    "train_cat_1hot_enc.index = X_train_num.index\n",
    "\n",
    "test_cat_1hot_enc = pd.DataFrame(test_cat_1hot.toarray())\n",
    "test_cat_1hot_enc.columns = train_categories\n",
    "test_cat_1hot_enc.index = X_test_num.index"
   ]
  },
  {
   "cell_type": "code",
   "execution_count": 49,
   "id": "aed3b2b7",
   "metadata": {},
   "outputs": [],
   "source": [
    "X_train_scaled = X_train_num_scaled_df.join(train_cat_1hot_enc)\n",
    "X_test_scaled = X_test_num_scaled_df.join(test_cat_1hot_enc)"
   ]
  },
  {
   "cell_type": "markdown",
   "id": "cf23d55a",
   "metadata": {},
   "source": [
    "Our training and test sets are now prepared to run our Machine Learning Models"
   ]
  },
  {
   "cell_type": "markdown",
   "id": "c56810e0",
   "metadata": {},
   "source": [
    "# Select and Train a Model"
   ]
  },
  {
   "cell_type": "markdown",
   "id": "a5f9137b",
   "metadata": {},
   "source": [
    "# Linear Regression"
   ]
  },
  {
   "cell_type": "markdown",
   "id": "2ca49050",
   "metadata": {},
   "source": [
    "Linear regression is a simple, but yet effective model. This effective model is easy to implement and interpret, as well as efficient to train. When we first ran the model, it was quick to implement and got us low RMSE scores."
   ]
  },
  {
   "cell_type": "code",
   "execution_count": 50,
   "id": "2fc52f45",
   "metadata": {
    "scrolled": true
   },
   "outputs": [
    {
     "data": {
      "text/plain": [
       "LinearRegression()"
      ]
     },
     "execution_count": 50,
     "metadata": {},
     "output_type": "execute_result"
    }
   ],
   "source": [
    "from sklearn.linear_model import LinearRegression\n",
    "\n",
    "lin_reg = LinearRegression()\n",
    "lin_reg.fit(X_train_scaled, y_train)"
   ]
  },
  {
   "cell_type": "code",
   "execution_count": 51,
   "id": "75d66a1a",
   "metadata": {},
   "outputs": [
    {
     "name": "stdout",
     "output_type": "stream",
     "text": [
      "Linear Regression RMSE =  8.425851085150708\n"
     ]
    }
   ],
   "source": [
    "from sklearn.metrics import mean_squared_error\n",
    "\n",
    "y_train_pred = lin_reg.predict(X_train_scaled)\n",
    "\n",
    "lin_mse = mean_squared_error(y_train, y_train_pred) #mean square error\n",
    "lin_rmse = np.sqrt(lin_mse) #root mean square error\n",
    "print(\"Linear Regression RMSE = \",lin_rmse)"
   ]
  },
  {
   "cell_type": "code",
   "execution_count": 52,
   "id": "c0f16f3f",
   "metadata": {},
   "outputs": [
    {
     "name": "stdout",
     "output_type": "stream",
     "text": [
      "Scores: [6.72437975e+11 1.26356242e+12 5.67496597e+12 5.56289834e+11\n",
      " 9.44953237e+12 5.24636822e+12 5.26548284e+12 7.22637018e+12\n",
      " 1.34109807e+12 1.51974104e+13]\n",
      "Mean: 5189351829800.566\n",
      "Standard deviation: 4413539852395.253\n"
     ]
    }
   ],
   "source": [
    "from sklearn.model_selection import cross_val_score\n",
    "scores = cross_val_score(lin_reg, X_train_scaled, y_train, scoring=\"neg_mean_squared_error\", cv=10)\n",
    "rmse_scores = np.sqrt(-scores)\n",
    "\n",
    "def display_scores(scores):\n",
    "    print(\"Scores:\", scores)\n",
    "    print(\"Mean:\", scores.mean())\n",
    "    print(\"Standard deviation:\", scores.std())\n",
    "\n",
    "display_scores(rmse_scores)"
   ]
  },
  {
   "cell_type": "markdown",
   "id": "872fbf27",
   "metadata": {},
   "source": [
    "Cross validation performs very bad on this data set so it appears this model has over fitted to the training set.\n",
    "This could be due to Linear Regression performing generally poor with a large number of less important features."
   ]
  },
  {
   "cell_type": "code",
   "execution_count": 120,
   "id": "1557b2cf",
   "metadata": {},
   "outputs": [],
   "source": [
    "#kaggle competition\n",
    "#y_test_pred = lin_reg.predict(X_test_scaled)\n",
    "#lin_reg_results_v2 = pd.DataFrame({'Id': test.Id, 'Pop': y_test_pred})\n",
    "#lin_reg_results_v2.to_csv('lin_reg_results_v2.csv', index=False)"
   ]
  },
  {
   "cell_type": "markdown",
   "id": "1a0b420d",
   "metadata": {},
   "source": [
    "# Support Vector Machine Regressor"
   ]
  },
  {
   "cell_type": "markdown",
   "id": "19bf639a",
   "metadata": {},
   "source": [
    "Supportm Vector Machines are a powerful model which works well with small datasets, which is well suited to the dataset we're using. In additon SVM do not require a great deal of computational power."
   ]
  },
  {
   "cell_type": "markdown",
   "id": "05994d07",
   "metadata": {},
   "source": [
    "# Kernel = Linear"
   ]
  },
  {
   "cell_type": "code",
   "execution_count": 53,
   "id": "e62281d2",
   "metadata": {},
   "outputs": [
    {
     "data": {
      "text/plain": [
       "SVR(kernel='linear')"
      ]
     },
     "execution_count": 53,
     "metadata": {},
     "output_type": "execute_result"
    }
   ],
   "source": [
    "from sklearn.svm import SVR\n",
    "\n",
    "svm_reg = SVR(kernel=\"linear\") #using linear kernel\n",
    "svm_reg.fit(X_train_scaled, y_train)"
   ]
  },
  {
   "cell_type": "code",
   "execution_count": 54,
   "id": "e8d11acd",
   "metadata": {},
   "outputs": [
    {
     "name": "stdout",
     "output_type": "stream",
     "text": [
      "Support Vector Machine Regressor RMSE =  10.150473986646004\n"
     ]
    }
   ],
   "source": [
    "y_train_pred = svm_reg.predict(X_train_scaled)\n",
    "\n",
    "svm_lin_mse = mean_squared_error(y_train, y_train_pred) #mean square error\n",
    "svm_lin_rmse = np.sqrt(svm_lin_mse) #root mean square error\n",
    "print(\"Support Vector Machine Regressor RMSE = \",svm_lin_rmse)"
   ]
  },
  {
   "cell_type": "code",
   "execution_count": 55,
   "id": "1871e840",
   "metadata": {},
   "outputs": [
    {
     "name": "stdout",
     "output_type": "stream",
     "text": [
      "Scores: [12.40726372 10.85674073 11.13154373  8.09832714 12.00066167 13.1177697\n",
      " 10.08810596  9.84630407 12.14752206  9.10149388]\n",
      "Mean: 10.879573266355772\n",
      "Standard deviation: 1.5120471966657663\n"
     ]
    }
   ],
   "source": [
    "scores = cross_val_score(svm_reg, X_train_scaled, y_train, scoring=\"neg_mean_squared_error\", cv=10)\n",
    "rmse_scores = np.sqrt(-scores)\n",
    "\n",
    "def display_scores(scores):\n",
    "    print(\"Scores:\", scores)\n",
    "    print(\"Mean:\", scores.mean())\n",
    "    print(\"Standard deviation:\", scores.std())\n",
    "\n",
    "display_scores(rmse_scores)"
   ]
  },
  {
   "cell_type": "markdown",
   "id": "a2b5f92a",
   "metadata": {},
   "source": [
    "Cross validation scores were an improvement on linear regression, however the RMSE score was not as good. "
   ]
  },
  {
   "cell_type": "code",
   "execution_count": 124,
   "id": "0de85152",
   "metadata": {},
   "outputs": [],
   "source": [
    "#kaggle competition\n",
    "#y_test_pred = svm_reg.predict(X_test_scaled)\n",
    "#svm_reg_results_v2 = pd.DataFrame({'Id': test.Id, 'Pop': y_test_pred})\n",
    "#svm_reg_results_v2.to_csv('svm_reg_results_v2.csv', index=False)"
   ]
  },
  {
   "cell_type": "markdown",
   "id": "1a4bbd7f",
   "metadata": {},
   "source": [
    "# Ensemble Method"
   ]
  },
  {
   "cell_type": "markdown",
   "id": "b6b61206",
   "metadata": {},
   "source": [
    "Ensemble learning involves using multiple machine learning models to improve predictions. Different machine learning models may  operate differently on different training sets - no one model is guarateed to work better. \n",
    "\n",
    "The ensemble learning approach combines multiple models, saving us the time and effort of evalating all possible models. \n",
    "\n",
    "There are two main reasons why we have decided to build two ensenble methods:\n",
    "* Performance - an ensemble approach can make better predictions and achieve a better performance outcome than any single contributing model. \n",
    "* Rebustness - an ensemble approach reduces the spread of the predictions and the model's performance"
   ]
  },
  {
   "cell_type": "markdown",
   "id": "b1e685d5",
   "metadata": {},
   "source": [
    "# Random Forest Regressor"
   ]
  },
  {
   "cell_type": "markdown",
   "id": "e3de83b0",
   "metadata": {},
   "source": [
    "Random Forests are an ensemble of decision trees. This powerful model can produce a higher accurary than other algorithms and it has an effective method to estimate any missing data within our dataset, and maintains accurary when there is missing data.\n",
    "Moreover, since random forest are multiple decision trees the bias remains the same as one decision tree, but the variance decreases, meaning the chances of overfitting also decreases.\n",
    "\n",
    "\n",
    "In addition, feature importance is another great asset of random forests. This makes it straightforward to measure the relative importance of each of the features."
   ]
  },
  {
   "cell_type": "code",
   "execution_count": 72,
   "id": "8e3724e2",
   "metadata": {},
   "outputs": [
    {
     "data": {
      "text/plain": [
       "RandomForestRegressor(max_features=6, max_samples=394, random_state=42)"
      ]
     },
     "execution_count": 72,
     "metadata": {},
     "output_type": "execute_result"
    }
   ],
   "source": [
    "from sklearn.ensemble import RandomForestRegressor\n",
    "\n",
    "rnd_reg = RandomForestRegressor(n_estimators=100, random_state=42, max_features=6, max_samples=394)\n",
    "rnd_reg.fit(X_train_num, y_train)"
   ]
  },
  {
   "cell_type": "code",
   "execution_count": 73,
   "id": "d03fff47",
   "metadata": {},
   "outputs": [
    {
     "name": "stdout",
     "output_type": "stream",
     "text": [
      "Random Forest RMSE =  4.379875626348665\n"
     ]
    }
   ],
   "source": [
    "y_train_pred = rnd_reg.predict(X_train_num)\n",
    "\n",
    "rnd_mse = mean_squared_error(y_train, y_train_pred) #mean square error\n",
    "rnd_rmse = np.sqrt(rnd_mse) #root mean square error\n",
    "print(\"Random Forest RMSE = \",rnd_rmse)"
   ]
  },
  {
   "cell_type": "code",
   "execution_count": 75,
   "id": "48c220ac",
   "metadata": {
    "scrolled": true
   },
   "outputs": [
    {
     "name": "stdout",
     "output_type": "stream",
     "text": [
      "Scores: [11.09023854  9.75816437  9.7686643   8.57070871 11.32249792 11.67605808\n",
      " 10.32758775  9.509039   11.09518825  9.5264437 ]\n",
      "Mean: 10.264459061897043\n",
      "Standard deviation: 0.9473293599466092\n"
     ]
    }
   ],
   "source": [
    "scores = cross_val_score(rnd_reg, X_train_scaled, y_train, scoring=\"neg_mean_squared_error\", cv=10)\n",
    "rmse_scores = np.sqrt(-scores)\n",
    "\n",
    "def display_scores(scores):\n",
    "    print(\"Scores:\", scores)\n",
    "    print(\"Mean:\", scores.mean())\n",
    "    print(\"Standard deviation:\", scores.std())\n",
    "\n",
    "display_scores(rmse_scores)"
   ]
  },
  {
   "cell_type": "code",
   "execution_count": 76,
   "id": "c9d48765",
   "metadata": {},
   "outputs": [],
   "source": [
    "#kaggle competition\n",
    "y_test_pred = rnd_reg.predict(X_test_num)\n",
    "rnd_reg_results_v2 = pd.DataFrame({'Id': test.Id, 'Pop': y_test_pred})\n",
    "rnd_reg_results_v2.to_csv('random_forest_reg_results_v2.csv', index=False)"
   ]
  },
  {
   "cell_type": "markdown",
   "id": "190b743b",
   "metadata": {},
   "source": [
    "# Grid Search On Random Forest Regressor"
   ]
  },
  {
   "cell_type": "markdown",
   "id": "d3014359",
   "metadata": {},
   "source": [
    "In order to find the best parameteres, we will use GridSearchCV. GridSearchCV is an extremely useful tool which allows us to search through many different parameteres and produces the best combination.\n",
    "\n",
    "Let's tune our Random Forest Regressor. We'll stick to three parameters for now.\n"
   ]
  },
  {
   "cell_type": "code",
   "execution_count": 59,
   "id": "1b0df936",
   "metadata": {},
   "outputs": [
    {
     "data": {
      "text/plain": [
       "GridSearchCV(cv=5, estimator=RandomForestRegressor(random_state=42),\n",
       "             param_grid=[{'max_features': [2, 4, 6, 8],\n",
       "                          'n_estimators': [3, 10, 200]},\n",
       "                         {'bootstrap': [False], 'max_features': [2, 3, 4],\n",
       "                          'n_estimators': [3, 10]}],\n",
       "             return_train_score=True, scoring='neg_mean_squared_error')"
      ]
     },
     "execution_count": 59,
     "metadata": {},
     "output_type": "execute_result"
    }
   ],
   "source": [
    "from sklearn.model_selection import GridSearchCV\n",
    "\n",
    "param_grid = [\n",
    "    # try 12 (3×4) combinations of hyperparameters\n",
    "    {'n_estimators': [3, 10, 200], 'max_features': [2,4,6,8]},\n",
    "    # then try 6 (2×3) combinations with bootstrap set as False\n",
    "    {'bootstrap': [False], 'n_estimators': [3, 10], 'max_features': [2, 3, 4]},\n",
    "  ]\n",
    "\n",
    "rnd_reg = RandomForestRegressor(random_state=42)\n",
    "# train across 5 folds, that's a total of (12+6)*5=90 rounds of training \n",
    "grid_search = GridSearchCV(rnd_reg, param_grid, cv=5,\n",
    "                           scoring='neg_mean_squared_error',\n",
    "                           return_train_score=True)\n",
    "grid_search.fit(X_train_scaled, y_train)"
   ]
  },
  {
   "cell_type": "markdown",
   "id": "d1101709",
   "metadata": {},
   "source": [
    "Best hyperparameter combination for Random Forest Regressor:"
   ]
  },
  {
   "cell_type": "code",
   "execution_count": 60,
   "id": "45a396a3",
   "metadata": {},
   "outputs": [
    {
     "data": {
      "text/plain": [
       "{'max_features': 8, 'n_estimators': 200}"
      ]
     },
     "execution_count": 60,
     "metadata": {},
     "output_type": "execute_result"
    }
   ],
   "source": [
    "grid_search.best_params_"
   ]
  },
  {
   "cell_type": "code",
   "execution_count": 131,
   "id": "2a2137ed",
   "metadata": {},
   "outputs": [
    {
     "data": {
      "text/plain": [
       "RandomForestRegressor(max_features=6, n_estimators=500, random_state=42)"
      ]
     },
     "execution_count": 131,
     "metadata": {},
     "output_type": "execute_result"
    }
   ],
   "source": [
    "grid_search.best_estimator_"
   ]
  },
  {
   "cell_type": "markdown",
   "id": "d794737b",
   "metadata": {},
   "source": [
    "We can look at the score of each hyperparameter combo which was tested"
   ]
  },
  {
   "cell_type": "code",
   "execution_count": 61,
   "id": "ad4c1eb5",
   "metadata": {},
   "outputs": [
    {
     "name": "stdout",
     "output_type": "stream",
     "text": [
      "12.195515770133316 {'max_features': 2, 'n_estimators': 3}\n",
      "10.837893281134011 {'max_features': 2, 'n_estimators': 10}\n",
      "10.182530771563018 {'max_features': 2, 'n_estimators': 200}\n",
      "12.3045337165853 {'max_features': 4, 'n_estimators': 3}\n",
      "10.751039061834485 {'max_features': 4, 'n_estimators': 10}\n",
      "10.284013796498012 {'max_features': 4, 'n_estimators': 200}\n",
      "11.705379121717577 {'max_features': 6, 'n_estimators': 3}\n",
      "10.660949735766863 {'max_features': 6, 'n_estimators': 10}\n",
      "10.208211303025983 {'max_features': 6, 'n_estimators': 200}\n",
      "11.928963544782818 {'max_features': 8, 'n_estimators': 3}\n",
      "10.633388003777135 {'max_features': 8, 'n_estimators': 10}\n",
      "10.181969827884979 {'max_features': 8, 'n_estimators': 200}\n",
      "11.730032427294686 {'bootstrap': False, 'max_features': 2, 'n_estimators': 3}\n",
      "10.463613172655 {'bootstrap': False, 'max_features': 2, 'n_estimators': 10}\n",
      "12.231740420011484 {'bootstrap': False, 'max_features': 3, 'n_estimators': 3}\n",
      "10.710483675064074 {'bootstrap': False, 'max_features': 3, 'n_estimators': 10}\n",
      "11.569708941160316 {'bootstrap': False, 'max_features': 4, 'n_estimators': 3}\n",
      "10.451217462440964 {'bootstrap': False, 'max_features': 4, 'n_estimators': 10}\n"
     ]
    }
   ],
   "source": [
    "cvres = grid_search.cv_results_\n",
    "for mean_score, params in zip(cvres[\"mean_test_score\"], cvres[\"params\"]):\n",
    "    print(np.sqrt(-mean_score), params)"
   ]
  },
  {
   "cell_type": "markdown",
   "id": "0ec7d8b5",
   "metadata": {},
   "source": [
    "Let's now insert this into a DataFrame"
   ]
  },
  {
   "cell_type": "code",
   "execution_count": 62,
   "id": "c84eda7d",
   "metadata": {
    "scrolled": true
   },
   "outputs": [
    {
     "data": {
      "text/html": [
       "<div>\n",
       "<style scoped>\n",
       "    .dataframe tbody tr th:only-of-type {\n",
       "        vertical-align: middle;\n",
       "    }\n",
       "\n",
       "    .dataframe tbody tr th {\n",
       "        vertical-align: top;\n",
       "    }\n",
       "\n",
       "    .dataframe thead th {\n",
       "        text-align: right;\n",
       "    }\n",
       "</style>\n",
       "<table border=\"1\" class=\"dataframe\">\n",
       "  <thead>\n",
       "    <tr style=\"text-align: right;\">\n",
       "      <th></th>\n",
       "      <th>mean_fit_time</th>\n",
       "      <th>std_fit_time</th>\n",
       "      <th>mean_score_time</th>\n",
       "      <th>std_score_time</th>\n",
       "      <th>param_max_features</th>\n",
       "      <th>param_n_estimators</th>\n",
       "      <th>param_bootstrap</th>\n",
       "      <th>params</th>\n",
       "      <th>split0_test_score</th>\n",
       "      <th>split1_test_score</th>\n",
       "      <th>...</th>\n",
       "      <th>mean_test_score</th>\n",
       "      <th>std_test_score</th>\n",
       "      <th>rank_test_score</th>\n",
       "      <th>split0_train_score</th>\n",
       "      <th>split1_train_score</th>\n",
       "      <th>split2_train_score</th>\n",
       "      <th>split3_train_score</th>\n",
       "      <th>split4_train_score</th>\n",
       "      <th>mean_train_score</th>\n",
       "      <th>std_train_score</th>\n",
       "    </tr>\n",
       "  </thead>\n",
       "  <tbody>\n",
       "    <tr>\n",
       "      <th>0</th>\n",
       "      <td>0.004103</td>\n",
       "      <td>0.000735</td>\n",
       "      <td>0.001501</td>\n",
       "      <td>3.873843e-07</td>\n",
       "      <td>2</td>\n",
       "      <td>3</td>\n",
       "      <td>NaN</td>\n",
       "      <td>{'max_features': 2, 'n_estimators': 3}</td>\n",
       "      <td>-168.140152</td>\n",
       "      <td>-125.561869</td>\n",
       "      <td>...</td>\n",
       "      <td>-148.730605</td>\n",
       "      <td>20.510428</td>\n",
       "      <td>16</td>\n",
       "      <td>-32.766349</td>\n",
       "      <td>-45.364127</td>\n",
       "      <td>-40.809206</td>\n",
       "      <td>-42.334283</td>\n",
       "      <td>-41.125040</td>\n",
       "      <td>-40.479801</td>\n",
       "      <td>4.178945</td>\n",
       "    </tr>\n",
       "    <tr>\n",
       "      <th>1</th>\n",
       "      <td>0.009408</td>\n",
       "      <td>0.000201</td>\n",
       "      <td>0.001601</td>\n",
       "      <td>2.005343e-04</td>\n",
       "      <td>2</td>\n",
       "      <td>10</td>\n",
       "      <td>NaN</td>\n",
       "      <td>{'max_features': 2, 'n_estimators': 10}</td>\n",
       "      <td>-122.372273</td>\n",
       "      <td>-88.805682</td>\n",
       "      <td>...</td>\n",
       "      <td>-117.459931</td>\n",
       "      <td>18.372122</td>\n",
       "      <td>11</td>\n",
       "      <td>-22.073343</td>\n",
       "      <td>-25.420829</td>\n",
       "      <td>-20.690771</td>\n",
       "      <td>-21.942906</td>\n",
       "      <td>-22.127664</td>\n",
       "      <td>-22.451103</td>\n",
       "      <td>1.576301</td>\n",
       "    </tr>\n",
       "    <tr>\n",
       "      <th>2</th>\n",
       "      <td>0.149729</td>\n",
       "      <td>0.000861</td>\n",
       "      <td>0.010209</td>\n",
       "      <td>2.451454e-04</td>\n",
       "      <td>2</td>\n",
       "      <td>200</td>\n",
       "      <td>NaN</td>\n",
       "      <td>{'max_features': 2, 'n_estimators': 200}</td>\n",
       "      <td>-110.352572</td>\n",
       "      <td>-81.743526</td>\n",
       "      <td>...</td>\n",
       "      <td>-103.683933</td>\n",
       "      <td>16.605870</td>\n",
       "      <td>2</td>\n",
       "      <td>-14.677629</td>\n",
       "      <td>-14.877171</td>\n",
       "      <td>-13.100043</td>\n",
       "      <td>-14.915414</td>\n",
       "      <td>-14.713872</td>\n",
       "      <td>-14.456826</td>\n",
       "      <td>0.684497</td>\n",
       "    </tr>\n",
       "    <tr>\n",
       "      <th>3</th>\n",
       "      <td>0.003803</td>\n",
       "      <td>0.000245</td>\n",
       "      <td>0.001501</td>\n",
       "      <td>2.780415e-07</td>\n",
       "      <td>4</td>\n",
       "      <td>3</td>\n",
       "      <td>NaN</td>\n",
       "      <td>{'max_features': 4, 'n_estimators': 3}</td>\n",
       "      <td>-179.989899</td>\n",
       "      <td>-118.446970</td>\n",
       "      <td>...</td>\n",
       "      <td>-151.401550</td>\n",
       "      <td>24.708049</td>\n",
       "      <td>18</td>\n",
       "      <td>-40.841587</td>\n",
       "      <td>-50.942540</td>\n",
       "      <td>-38.867302</td>\n",
       "      <td>-45.381133</td>\n",
       "      <td>-38.366809</td>\n",
       "      <td>-42.879874</td>\n",
       "      <td>4.730454</td>\n",
       "    </tr>\n",
       "    <tr>\n",
       "      <th>4</th>\n",
       "      <td>0.009308</td>\n",
       "      <td>0.000401</td>\n",
       "      <td>0.001601</td>\n",
       "      <td>1.998903e-04</td>\n",
       "      <td>4</td>\n",
       "      <td>10</td>\n",
       "      <td>NaN</td>\n",
       "      <td>{'max_features': 4, 'n_estimators': 10}</td>\n",
       "      <td>-126.004318</td>\n",
       "      <td>-88.283409</td>\n",
       "      <td>...</td>\n",
       "      <td>-115.584841</td>\n",
       "      <td>20.123038</td>\n",
       "      <td>10</td>\n",
       "      <td>-24.367943</td>\n",
       "      <td>-24.300143</td>\n",
       "      <td>-22.308543</td>\n",
       "      <td>-23.566809</td>\n",
       "      <td>-20.316887</td>\n",
       "      <td>-22.972065</td>\n",
       "      <td>1.520277</td>\n",
       "    </tr>\n",
       "    <tr>\n",
       "      <th>5</th>\n",
       "      <td>0.151730</td>\n",
       "      <td>0.000861</td>\n",
       "      <td>0.010209</td>\n",
       "      <td>4.004245e-04</td>\n",
       "      <td>4</td>\n",
       "      <td>200</td>\n",
       "      <td>NaN</td>\n",
       "      <td>{'max_features': 4, 'n_estimators': 200}</td>\n",
       "      <td>-114.076868</td>\n",
       "      <td>-81.573696</td>\n",
       "      <td>...</td>\n",
       "      <td>-105.760940</td>\n",
       "      <td>17.107859</td>\n",
       "      <td>4</td>\n",
       "      <td>-14.750293</td>\n",
       "      <td>-14.598720</td>\n",
       "      <td>-13.205074</td>\n",
       "      <td>-14.963005</td>\n",
       "      <td>-14.579505</td>\n",
       "      <td>-14.419319</td>\n",
       "      <td>0.622475</td>\n",
       "    </tr>\n",
       "    <tr>\n",
       "      <th>6</th>\n",
       "      <td>0.004103</td>\n",
       "      <td>0.000200</td>\n",
       "      <td>0.001401</td>\n",
       "      <td>2.000334e-04</td>\n",
       "      <td>6</td>\n",
       "      <td>3</td>\n",
       "      <td>NaN</td>\n",
       "      <td>{'max_features': 6, 'n_estimators': 3}</td>\n",
       "      <td>-155.541667</td>\n",
       "      <td>-110.446970</td>\n",
       "      <td>...</td>\n",
       "      <td>-137.015900</td>\n",
       "      <td>16.948023</td>\n",
       "      <td>13</td>\n",
       "      <td>-42.713968</td>\n",
       "      <td>-52.177143</td>\n",
       "      <td>-40.090159</td>\n",
       "      <td>-40.685343</td>\n",
       "      <td>-37.922127</td>\n",
       "      <td>-42.717748</td>\n",
       "      <td>4.970172</td>\n",
       "    </tr>\n",
       "    <tr>\n",
       "      <th>7</th>\n",
       "      <td>0.009408</td>\n",
       "      <td>0.000200</td>\n",
       "      <td>0.001702</td>\n",
       "      <td>2.452038e-04</td>\n",
       "      <td>6</td>\n",
       "      <td>10</td>\n",
       "      <td>NaN</td>\n",
       "      <td>{'max_features': 6, 'n_estimators': 10}</td>\n",
       "      <td>-113.228295</td>\n",
       "      <td>-88.293295</td>\n",
       "      <td>...</td>\n",
       "      <td>-113.655849</td>\n",
       "      <td>17.067867</td>\n",
       "      <td>8</td>\n",
       "      <td>-21.114200</td>\n",
       "      <td>-22.752229</td>\n",
       "      <td>-22.995286</td>\n",
       "      <td>-23.174872</td>\n",
       "      <td>-20.607920</td>\n",
       "      <td>-22.128901</td>\n",
       "      <td>1.056051</td>\n",
       "    </tr>\n",
       "    <tr>\n",
       "      <th>8</th>\n",
       "      <td>0.156034</td>\n",
       "      <td>0.001068</td>\n",
       "      <td>0.010109</td>\n",
       "      <td>3.746997e-04</td>\n",
       "      <td>6</td>\n",
       "      <td>200</td>\n",
       "      <td>NaN</td>\n",
       "      <td>{'max_features': 6, 'n_estimators': 200}</td>\n",
       "      <td>-112.828503</td>\n",
       "      <td>-80.832933</td>\n",
       "      <td>...</td>\n",
       "      <td>-104.207578</td>\n",
       "      <td>15.163438</td>\n",
       "      <td>3</td>\n",
       "      <td>-14.904862</td>\n",
       "      <td>-14.434763</td>\n",
       "      <td>-13.107471</td>\n",
       "      <td>-15.087976</td>\n",
       "      <td>-14.471275</td>\n",
       "      <td>-14.401269</td>\n",
       "      <td>0.693557</td>\n",
       "    </tr>\n",
       "    <tr>\n",
       "      <th>9</th>\n",
       "      <td>0.004103</td>\n",
       "      <td>0.000200</td>\n",
       "      <td>0.001501</td>\n",
       "      <td>2.611745e-07</td>\n",
       "      <td>8</td>\n",
       "      <td>3</td>\n",
       "      <td>NaN</td>\n",
       "      <td>{'max_features': 8, 'n_estimators': 3}</td>\n",
       "      <td>-167.289141</td>\n",
       "      <td>-107.848485</td>\n",
       "      <td>...</td>\n",
       "      <td>-142.300171</td>\n",
       "      <td>31.129418</td>\n",
       "      <td>15</td>\n",
       "      <td>-39.822857</td>\n",
       "      <td>-35.695873</td>\n",
       "      <td>-39.069524</td>\n",
       "      <td>-41.334600</td>\n",
       "      <td>-34.441595</td>\n",
       "      <td>-38.072890</td>\n",
       "      <td>2.589630</td>\n",
       "    </tr>\n",
       "    <tr>\n",
       "      <th>10</th>\n",
       "      <td>0.009608</td>\n",
       "      <td>0.000200</td>\n",
       "      <td>0.001501</td>\n",
       "      <td>1.168008e-07</td>\n",
       "      <td>8</td>\n",
       "      <td>10</td>\n",
       "      <td>NaN</td>\n",
       "      <td>{'max_features': 8, 'n_estimators': 10}</td>\n",
       "      <td>-132.314886</td>\n",
       "      <td>-98.416705</td>\n",
       "      <td>...</td>\n",
       "      <td>-113.068940</td>\n",
       "      <td>14.223998</td>\n",
       "      <td>7</td>\n",
       "      <td>-21.634143</td>\n",
       "      <td>-21.441143</td>\n",
       "      <td>-22.243143</td>\n",
       "      <td>-23.499316</td>\n",
       "      <td>-21.309003</td>\n",
       "      <td>-22.025350</td>\n",
       "      <td>0.803431</td>\n",
       "    </tr>\n",
       "    <tr>\n",
       "      <th>11</th>\n",
       "      <td>0.160438</td>\n",
       "      <td>0.001078</td>\n",
       "      <td>0.009908</td>\n",
       "      <td>2.001286e-04</td>\n",
       "      <td>8</td>\n",
       "      <td>200</td>\n",
       "      <td>NaN</td>\n",
       "      <td>{'max_features': 8, 'n_estimators': 200}</td>\n",
       "      <td>-112.442844</td>\n",
       "      <td>-80.356439</td>\n",
       "      <td>...</td>\n",
       "      <td>-103.672510</td>\n",
       "      <td>15.453023</td>\n",
       "      <td>1</td>\n",
       "      <td>-14.574958</td>\n",
       "      <td>-14.433958</td>\n",
       "      <td>-13.339920</td>\n",
       "      <td>-15.078513</td>\n",
       "      <td>-15.072829</td>\n",
       "      <td>-14.500036</td>\n",
       "      <td>0.635386</td>\n",
       "    </tr>\n",
       "    <tr>\n",
       "      <th>12</th>\n",
       "      <td>0.003903</td>\n",
       "      <td>0.000374</td>\n",
       "      <td>0.001201</td>\n",
       "      <td>2.452234e-04</td>\n",
       "      <td>2</td>\n",
       "      <td>3</td>\n",
       "      <td>False</td>\n",
       "      <td>{'bootstrap': False, 'max_features': 2, 'n_est...</td>\n",
       "      <td>-153.821970</td>\n",
       "      <td>-119.282828</td>\n",
       "      <td>...</td>\n",
       "      <td>-137.593661</td>\n",
       "      <td>23.707368</td>\n",
       "      <td>14</td>\n",
       "      <td>-0.040635</td>\n",
       "      <td>-0.000000</td>\n",
       "      <td>-0.345397</td>\n",
       "      <td>-0.976891</td>\n",
       "      <td>-0.175372</td>\n",
       "      <td>-0.307659</td>\n",
       "      <td>0.355739</td>\n",
       "    </tr>\n",
       "    <tr>\n",
       "      <th>13</th>\n",
       "      <td>0.008307</td>\n",
       "      <td>0.000245</td>\n",
       "      <td>0.001602</td>\n",
       "      <td>2.002003e-04</td>\n",
       "      <td>2</td>\n",
       "      <td>10</td>\n",
       "      <td>False</td>\n",
       "      <td>{'bootstrap': False, 'max_features': 2, 'n_est...</td>\n",
       "      <td>-126.692386</td>\n",
       "      <td>-93.315227</td>\n",
       "      <td>...</td>\n",
       "      <td>-109.487201</td>\n",
       "      <td>15.725095</td>\n",
       "      <td>6</td>\n",
       "      <td>-0.003657</td>\n",
       "      <td>-0.003657</td>\n",
       "      <td>-0.032000</td>\n",
       "      <td>-0.140613</td>\n",
       "      <td>-0.036695</td>\n",
       "      <td>-0.043324</td>\n",
       "      <td>0.050565</td>\n",
       "    </tr>\n",
       "    <tr>\n",
       "      <th>14</th>\n",
       "      <td>0.003803</td>\n",
       "      <td>0.000245</td>\n",
       "      <td>0.001301</td>\n",
       "      <td>2.451454e-04</td>\n",
       "      <td>3</td>\n",
       "      <td>3</td>\n",
       "      <td>False</td>\n",
       "      <td>{'bootstrap': False, 'max_features': 3, 'n_est...</td>\n",
       "      <td>-157.638889</td>\n",
       "      <td>-119.659091</td>\n",
       "      <td>...</td>\n",
       "      <td>-149.615474</td>\n",
       "      <td>25.343809</td>\n",
       "      <td>17</td>\n",
       "      <td>-0.000000</td>\n",
       "      <td>-0.000000</td>\n",
       "      <td>-0.000000</td>\n",
       "      <td>-0.002532</td>\n",
       "      <td>-0.162077</td>\n",
       "      <td>-0.032922</td>\n",
       "      <td>0.064585</td>\n",
       "    </tr>\n",
       "    <tr>\n",
       "      <th>15</th>\n",
       "      <td>0.008307</td>\n",
       "      <td>0.000245</td>\n",
       "      <td>0.001701</td>\n",
       "      <td>2.450676e-04</td>\n",
       "      <td>3</td>\n",
       "      <td>10</td>\n",
       "      <td>False</td>\n",
       "      <td>{'bootstrap': False, 'max_features': 3, 'n_est...</td>\n",
       "      <td>-118.401136</td>\n",
       "      <td>-85.607955</td>\n",
       "      <td>...</td>\n",
       "      <td>-114.714461</td>\n",
       "      <td>23.454317</td>\n",
       "      <td>9</td>\n",
       "      <td>-0.002971</td>\n",
       "      <td>-0.000000</td>\n",
       "      <td>-0.000971</td>\n",
       "      <td>-0.000285</td>\n",
       "      <td>-0.014587</td>\n",
       "      <td>-0.003763</td>\n",
       "      <td>0.005511</td>\n",
       "    </tr>\n",
       "    <tr>\n",
       "      <th>16</th>\n",
       "      <td>0.003703</td>\n",
       "      <td>0.000245</td>\n",
       "      <td>0.001401</td>\n",
       "      <td>2.001526e-04</td>\n",
       "      <td>4</td>\n",
       "      <td>3</td>\n",
       "      <td>False</td>\n",
       "      <td>{'bootstrap': False, 'max_features': 4, 'n_est...</td>\n",
       "      <td>-159.630051</td>\n",
       "      <td>-130.085859</td>\n",
       "      <td>...</td>\n",
       "      <td>-133.858165</td>\n",
       "      <td>16.730904</td>\n",
       "      <td>12</td>\n",
       "      <td>-0.000000</td>\n",
       "      <td>-0.000000</td>\n",
       "      <td>-0.183492</td>\n",
       "      <td>-0.000000</td>\n",
       "      <td>-0.002532</td>\n",
       "      <td>-0.037205</td>\n",
       "      <td>0.073150</td>\n",
       "    </tr>\n",
       "    <tr>\n",
       "      <th>17</th>\n",
       "      <td>0.008808</td>\n",
       "      <td>0.000245</td>\n",
       "      <td>0.001701</td>\n",
       "      <td>2.450676e-04</td>\n",
       "      <td>4</td>\n",
       "      <td>10</td>\n",
       "      <td>False</td>\n",
       "      <td>{'bootstrap': False, 'max_features': 4, 'n_est...</td>\n",
       "      <td>-126.446136</td>\n",
       "      <td>-95.924773</td>\n",
       "      <td>...</td>\n",
       "      <td>-109.227946</td>\n",
       "      <td>15.907029</td>\n",
       "      <td>5</td>\n",
       "      <td>-0.007486</td>\n",
       "      <td>-0.002800</td>\n",
       "      <td>-0.016971</td>\n",
       "      <td>-0.001026</td>\n",
       "      <td>-0.000228</td>\n",
       "      <td>-0.005702</td>\n",
       "      <td>0.006172</td>\n",
       "    </tr>\n",
       "  </tbody>\n",
       "</table>\n",
       "<p>18 rows × 23 columns</p>\n",
       "</div>"
      ],
      "text/plain": [
       "    mean_fit_time  std_fit_time  mean_score_time  std_score_time  \\\n",
       "0        0.004103      0.000735         0.001501    3.873843e-07   \n",
       "1        0.009408      0.000201         0.001601    2.005343e-04   \n",
       "2        0.149729      0.000861         0.010209    2.451454e-04   \n",
       "3        0.003803      0.000245         0.001501    2.780415e-07   \n",
       "4        0.009308      0.000401         0.001601    1.998903e-04   \n",
       "5        0.151730      0.000861         0.010209    4.004245e-04   \n",
       "6        0.004103      0.000200         0.001401    2.000334e-04   \n",
       "7        0.009408      0.000200         0.001702    2.452038e-04   \n",
       "8        0.156034      0.001068         0.010109    3.746997e-04   \n",
       "9        0.004103      0.000200         0.001501    2.611745e-07   \n",
       "10       0.009608      0.000200         0.001501    1.168008e-07   \n",
       "11       0.160438      0.001078         0.009908    2.001286e-04   \n",
       "12       0.003903      0.000374         0.001201    2.452234e-04   \n",
       "13       0.008307      0.000245         0.001602    2.002003e-04   \n",
       "14       0.003803      0.000245         0.001301    2.451454e-04   \n",
       "15       0.008307      0.000245         0.001701    2.450676e-04   \n",
       "16       0.003703      0.000245         0.001401    2.001526e-04   \n",
       "17       0.008808      0.000245         0.001701    2.450676e-04   \n",
       "\n",
       "   param_max_features param_n_estimators param_bootstrap  \\\n",
       "0                   2                  3             NaN   \n",
       "1                   2                 10             NaN   \n",
       "2                   2                200             NaN   \n",
       "3                   4                  3             NaN   \n",
       "4                   4                 10             NaN   \n",
       "5                   4                200             NaN   \n",
       "6                   6                  3             NaN   \n",
       "7                   6                 10             NaN   \n",
       "8                   6                200             NaN   \n",
       "9                   8                  3             NaN   \n",
       "10                  8                 10             NaN   \n",
       "11                  8                200             NaN   \n",
       "12                  2                  3           False   \n",
       "13                  2                 10           False   \n",
       "14                  3                  3           False   \n",
       "15                  3                 10           False   \n",
       "16                  4                  3           False   \n",
       "17                  4                 10           False   \n",
       "\n",
       "                                               params  split0_test_score  \\\n",
       "0              {'max_features': 2, 'n_estimators': 3}        -168.140152   \n",
       "1             {'max_features': 2, 'n_estimators': 10}        -122.372273   \n",
       "2            {'max_features': 2, 'n_estimators': 200}        -110.352572   \n",
       "3              {'max_features': 4, 'n_estimators': 3}        -179.989899   \n",
       "4             {'max_features': 4, 'n_estimators': 10}        -126.004318   \n",
       "5            {'max_features': 4, 'n_estimators': 200}        -114.076868   \n",
       "6              {'max_features': 6, 'n_estimators': 3}        -155.541667   \n",
       "7             {'max_features': 6, 'n_estimators': 10}        -113.228295   \n",
       "8            {'max_features': 6, 'n_estimators': 200}        -112.828503   \n",
       "9              {'max_features': 8, 'n_estimators': 3}        -167.289141   \n",
       "10            {'max_features': 8, 'n_estimators': 10}        -132.314886   \n",
       "11           {'max_features': 8, 'n_estimators': 200}        -112.442844   \n",
       "12  {'bootstrap': False, 'max_features': 2, 'n_est...        -153.821970   \n",
       "13  {'bootstrap': False, 'max_features': 2, 'n_est...        -126.692386   \n",
       "14  {'bootstrap': False, 'max_features': 3, 'n_est...        -157.638889   \n",
       "15  {'bootstrap': False, 'max_features': 3, 'n_est...        -118.401136   \n",
       "16  {'bootstrap': False, 'max_features': 4, 'n_est...        -159.630051   \n",
       "17  {'bootstrap': False, 'max_features': 4, 'n_est...        -126.446136   \n",
       "\n",
       "    split1_test_score  ...  mean_test_score  std_test_score  rank_test_score  \\\n",
       "0         -125.561869  ...      -148.730605       20.510428               16   \n",
       "1          -88.805682  ...      -117.459931       18.372122               11   \n",
       "2          -81.743526  ...      -103.683933       16.605870                2   \n",
       "3         -118.446970  ...      -151.401550       24.708049               18   \n",
       "4          -88.283409  ...      -115.584841       20.123038               10   \n",
       "5          -81.573696  ...      -105.760940       17.107859                4   \n",
       "6         -110.446970  ...      -137.015900       16.948023               13   \n",
       "7          -88.293295  ...      -113.655849       17.067867                8   \n",
       "8          -80.832933  ...      -104.207578       15.163438                3   \n",
       "9         -107.848485  ...      -142.300171       31.129418               15   \n",
       "10         -98.416705  ...      -113.068940       14.223998                7   \n",
       "11         -80.356439  ...      -103.672510       15.453023                1   \n",
       "12        -119.282828  ...      -137.593661       23.707368               14   \n",
       "13         -93.315227  ...      -109.487201       15.725095                6   \n",
       "14        -119.659091  ...      -149.615474       25.343809               17   \n",
       "15         -85.607955  ...      -114.714461       23.454317                9   \n",
       "16        -130.085859  ...      -133.858165       16.730904               12   \n",
       "17         -95.924773  ...      -109.227946       15.907029                5   \n",
       "\n",
       "    split0_train_score  split1_train_score  split2_train_score  \\\n",
       "0           -32.766349          -45.364127          -40.809206   \n",
       "1           -22.073343          -25.420829          -20.690771   \n",
       "2           -14.677629          -14.877171          -13.100043   \n",
       "3           -40.841587          -50.942540          -38.867302   \n",
       "4           -24.367943          -24.300143          -22.308543   \n",
       "5           -14.750293          -14.598720          -13.205074   \n",
       "6           -42.713968          -52.177143          -40.090159   \n",
       "7           -21.114200          -22.752229          -22.995286   \n",
       "8           -14.904862          -14.434763          -13.107471   \n",
       "9           -39.822857          -35.695873          -39.069524   \n",
       "10          -21.634143          -21.441143          -22.243143   \n",
       "11          -14.574958          -14.433958          -13.339920   \n",
       "12           -0.040635           -0.000000           -0.345397   \n",
       "13           -0.003657           -0.003657           -0.032000   \n",
       "14           -0.000000           -0.000000           -0.000000   \n",
       "15           -0.002971           -0.000000           -0.000971   \n",
       "16           -0.000000           -0.000000           -0.183492   \n",
       "17           -0.007486           -0.002800           -0.016971   \n",
       "\n",
       "    split3_train_score  split4_train_score  mean_train_score  std_train_score  \n",
       "0           -42.334283          -41.125040        -40.479801         4.178945  \n",
       "1           -21.942906          -22.127664        -22.451103         1.576301  \n",
       "2           -14.915414          -14.713872        -14.456826         0.684497  \n",
       "3           -45.381133          -38.366809        -42.879874         4.730454  \n",
       "4           -23.566809          -20.316887        -22.972065         1.520277  \n",
       "5           -14.963005          -14.579505        -14.419319         0.622475  \n",
       "6           -40.685343          -37.922127        -42.717748         4.970172  \n",
       "7           -23.174872          -20.607920        -22.128901         1.056051  \n",
       "8           -15.087976          -14.471275        -14.401269         0.693557  \n",
       "9           -41.334600          -34.441595        -38.072890         2.589630  \n",
       "10          -23.499316          -21.309003        -22.025350         0.803431  \n",
       "11          -15.078513          -15.072829        -14.500036         0.635386  \n",
       "12           -0.976891           -0.175372         -0.307659         0.355739  \n",
       "13           -0.140613           -0.036695         -0.043324         0.050565  \n",
       "14           -0.002532           -0.162077         -0.032922         0.064585  \n",
       "15           -0.000285           -0.014587         -0.003763         0.005511  \n",
       "16           -0.000000           -0.002532         -0.037205         0.073150  \n",
       "17           -0.001026           -0.000228         -0.005702         0.006172  \n",
       "\n",
       "[18 rows x 23 columns]"
      ]
     },
     "execution_count": 62,
     "metadata": {},
     "output_type": "execute_result"
    }
   ],
   "source": [
    "pd.DataFrame(grid_search.cv_results_)"
   ]
  },
  {
   "cell_type": "markdown",
   "id": "995b509c",
   "metadata": {},
   "source": [
    "# Randomized Search for Random Forest Regressor"
   ]
  },
  {
   "cell_type": "markdown",
   "id": "d0eddc3d",
   "metadata": {},
   "source": [
    "When the hyperparameter search space is large, it is advised to use Randomised CV search. This approach is similar to GridSearch, however instead of trying all possible combinations, it evaluates a number of random combinations. This is done by selecting a random value for each hypyerparameter at each iteration."
   ]
  },
  {
   "cell_type": "code",
   "execution_count": 63,
   "id": "f5623ac4",
   "metadata": {},
   "outputs": [
    {
     "data": {
      "text/plain": [
       "RandomizedSearchCV(cv=5, estimator=RandomForestRegressor(random_state=42),\n",
       "                   param_distributions={'max_features': <scipy.stats._distn_infrastructure.rv_frozen object at 0x0000026CDFACCB50>,\n",
       "                                        'n_estimators': <scipy.stats._distn_infrastructure.rv_frozen object at 0x0000026CDFA3E910>},\n",
       "                   random_state=42, scoring='neg_mean_squared_error')"
      ]
     },
     "execution_count": 63,
     "metadata": {},
     "output_type": "execute_result"
    }
   ],
   "source": [
    "from sklearn.model_selection import RandomizedSearchCV\n",
    "from scipy.stats import randint\n",
    "\n",
    "param_distribs = {\n",
    "        'n_estimators': randint(low=1, high=500),\n",
    "        'max_features': randint(low=1, high=86),\n",
    "    }\n",
    "\n",
    "rnd_reg = RandomForestRegressor(random_state=42)\n",
    "rnd_search = RandomizedSearchCV(rnd_reg, param_distributions=param_distribs,\n",
    "                                n_iter=10, cv=5, scoring='neg_mean_squared_error', random_state=42)\n",
    "rnd_search.fit(X_train_scaled, y_train)"
   ]
  },
  {
   "cell_type": "code",
   "execution_count": 64,
   "id": "3f66e09e",
   "metadata": {},
   "outputs": [
    {
     "name": "stdout",
     "output_type": "stream",
     "text": [
      "10.516699149721966 {'max_features': 52, 'n_estimators': 349}\n",
      "10.392884572648544 {'max_features': 15, 'n_estimators': 107}\n",
      "10.597798434777859 {'max_features': 72, 'n_estimators': 189}\n",
      "10.269746116764741 {'max_features': 21, 'n_estimators': 103}\n",
      "10.688433792048087 {'max_features': 83, 'n_estimators': 215}\n",
      "10.681346130684265 {'max_features': 75, 'n_estimators': 459}\n",
      "10.295115334385196 {'max_features': 24, 'n_estimators': 131}\n",
      "10.35391396646445 {'max_features': 22, 'n_estimators': 309}\n",
      "10.172941478207155 {'max_features': 2, 'n_estimators': 344}\n",
      "10.413390418733313 {'max_features': 30, 'n_estimators': 294}\n"
     ]
    }
   ],
   "source": [
    "cvres = rnd_search.cv_results_\n",
    "for mean_score, params in zip(cvres[\"mean_test_score\"], cvres[\"params\"]):\n",
    "    print(np.sqrt(-mean_score), params)"
   ]
  },
  {
   "cell_type": "markdown",
   "id": "09512ef0",
   "metadata": {},
   "source": [
    "# Voting Regressor"
   ]
  },
  {
   "cell_type": "markdown",
   "id": "9cae3ec3",
   "metadata": {},
   "source": [
    "A voting regresor is another powerful tool of ensemble learning. In this particular model, we have opted to use three models - linear regression, random forest regressor and SVR (kernel = rbf). We have decided to use these models because individually they have performed well. \n",
    "\n",
    "Much like the random forest, as we're relying on many models, this voting regressor will not be hindered by large errors from one model. We have reduced the risk of one model performing poorly as another model could offset that poor performance. "
   ]
  },
  {
   "cell_type": "code",
   "execution_count": 154,
   "id": "de7144a9",
   "metadata": {},
   "outputs": [],
   "source": [
    "from sklearn.ensemble import RandomForestRegressor\n",
    "from sklearn.ensemble import VotingRegressor"
   ]
  },
  {
   "cell_type": "code",
   "execution_count": 155,
   "id": "c2b2dcf8",
   "metadata": {},
   "outputs": [],
   "source": [
    "lin_reg = LinearRegression()\n",
    "rnd_reg = RandomForestRegressor(n_estimators=500, random_state=42, max_features=6, max_samples=250,n_jobs=-1)\n",
    "svm_reg = SVR(kernel=\"rbf\", gamma=0.1)"
   ]
  },
  {
   "cell_type": "code",
   "execution_count": 156,
   "id": "a1dbdb1d",
   "metadata": {},
   "outputs": [
    {
     "data": {
      "text/plain": [
       "VotingRegressor(estimators=[('linr', LinearRegression()),\n",
       "                            ('rf',\n",
       "                             RandomForestRegressor(max_features=6,\n",
       "                                                   max_samples=250,\n",
       "                                                   n_estimators=500, n_jobs=-1,\n",
       "                                                   random_state=42)),\n",
       "                            ('svr', SVR(gamma=0.1))])"
      ]
     },
     "execution_count": 156,
     "metadata": {},
     "output_type": "execute_result"
    }
   ],
   "source": [
    "voting_reg = VotingRegressor(estimators=[('linr', lin_reg),('rf', rnd_reg), ('svr', svm_reg)])\n",
    "voting_reg.fit(X_train_scaled, y_train)"
   ]
  },
  {
   "cell_type": "code",
   "execution_count": 157,
   "id": "76bcf1ea",
   "metadata": {},
   "outputs": [
    {
     "name": "stdout",
     "output_type": "stream",
     "text": [
      "LinearRegression RMSE =  8.425851085150708\n",
      "RandomForestRegressor RMSE =  5.700651364778404\n",
      "SVR RMSE =  10.606118987874995\n",
      "VotingRegressor RMSE =  7.770995773207619\n"
     ]
    }
   ],
   "source": [
    "for reg in (lin_reg, rnd_reg, svm_reg, voting_reg):\n",
    "    reg.fit(X_train_scaled, y_train)\n",
    "    y_train_pred = reg.predict(X_train_scaled)\n",
    "    reg_mse = mean_squared_error(y_train, y_train_pred)\n",
    "    reg_rmse = np.sqrt(reg_mse)\n",
    "    print(reg.__class__.__name__, \"RMSE = \", reg_rmse)"
   ]
  },
  {
   "cell_type": "code",
   "execution_count": 158,
   "id": "79c8efb2",
   "metadata": {},
   "outputs": [
    {
     "name": "stdout",
     "output_type": "stream",
     "text": [
      "Scores: [2.24145992e+11 4.21187474e+11 1.89165532e+12 1.85429945e+11\n",
      " 3.14984412e+12 1.74878941e+12 1.75516095e+12 2.40879006e+12\n",
      " 4.47032690e+11 5.06580347e+12]\n",
      "Mean: 1729783943266.9556\n",
      "Standard deviation: 1471179950798.7642\n"
     ]
    }
   ],
   "source": [
    "scores = cross_val_score(voting_reg, X_train_scaled, y_train, scoring=\"neg_mean_squared_error\", cv=10)\n",
    "rmse_scores = np.sqrt(-scores)\n",
    "\n",
    "def display_scores(scores):\n",
    "    print(\"Scores:\", scores)\n",
    "    print(\"Mean:\", scores.mean())\n",
    "    print(\"Standard deviation:\", scores.std())\n",
    "\n",
    "display_scores(rmse_scores)"
   ]
  },
  {
   "cell_type": "code",
   "execution_count": 159,
   "id": "129ad5c5",
   "metadata": {},
   "outputs": [],
   "source": [
    "#kaggle competition\n",
    "y_test_pred = voting_reg.predict(X_test_scaled)\n",
    "voting_reg_results_v2 = pd.DataFrame({'Id': test.Id, 'Pop': y_test_pred})\n",
    "voting_reg_results_v2.to_csv('voting_reg_results_v2.csv', index=False)"
   ]
  },
  {
   "cell_type": "markdown",
   "id": "c1039e09",
   "metadata": {},
   "source": [
    "This concludes the four final models. \n"
   ]
  },
  {
   "cell_type": "markdown",
   "id": "5066d703",
   "metadata": {},
   "source": [
    "# What worked? What didnt?"
   ]
  },
  {
   "cell_type": "markdown",
   "id": "4691c671",
   "metadata": {},
   "source": [
    "One hot encoding was successful in reducing our RMSE scores across most models. However there was not any improvement when testing against the kaggle test set.\n",
    "\n",
    "Implementing cross validation on linear regression returned extremely high scores.\n",
    "\n",
    "The random forest regressor was a success. It produced great scoring against the test set, however the RMSE was very low - this may be due to overfitting. "
   ]
  },
  {
   "cell_type": "markdown",
   "id": "680d78cc",
   "metadata": {},
   "source": [
    "# Table of the four model's MSE and RMSE Scores"
   ]
  },
  {
   "cell_type": "code",
   "execution_count": 142,
   "id": "39171dc9",
   "metadata": {},
   "outputs": [
    {
     "data": {
      "text/html": [
       "<div>\n",
       "<style scoped>\n",
       "    .dataframe tbody tr th:only-of-type {\n",
       "        vertical-align: middle;\n",
       "    }\n",
       "\n",
       "    .dataframe tbody tr th {\n",
       "        vertical-align: top;\n",
       "    }\n",
       "\n",
       "    .dataframe thead th {\n",
       "        text-align: right;\n",
       "    }\n",
       "</style>\n",
       "<table border=\"1\" class=\"dataframe\">\n",
       "  <thead>\n",
       "    <tr style=\"text-align: right;\">\n",
       "      <th></th>\n",
       "      <th>MSE</th>\n",
       "      <th>RMSE</th>\n",
       "    </tr>\n",
       "  </thead>\n",
       "  <tbody>\n",
       "    <tr>\n",
       "      <th>Random Forest Regresion</th>\n",
       "      <td>16.028055</td>\n",
       "      <td>4.003505</td>\n",
       "    </tr>\n",
       "    <tr>\n",
       "      <th>Linear Regresion</th>\n",
       "      <td>70.994967</td>\n",
       "      <td>8.425851</td>\n",
       "    </tr>\n",
       "    <tr>\n",
       "      <th>Ensenble Voting Regresion</th>\n",
       "      <td>60.388375</td>\n",
       "      <td>7.770996</td>\n",
       "    </tr>\n",
       "    <tr>\n",
       "      <th>SVM Kernel = Linear</th>\n",
       "      <td>103.032122</td>\n",
       "      <td>10.150474</td>\n",
       "    </tr>\n",
       "  </tbody>\n",
       "</table>\n",
       "</div>"
      ],
      "text/plain": [
       "                                  MSE       RMSE\n",
       "Random Forest Regresion     16.028055   4.003505\n",
       "Linear Regresion            70.994967   8.425851\n",
       "Ensenble Voting Regresion   60.388375   7.770996\n",
       "SVM Kernel = Linear        103.032122  10.150474"
      ]
     },
     "execution_count": 142,
     "metadata": {},
     "output_type": "execute_result"
    }
   ],
   "source": [
    "df_table = pd.DataFrame([[rnd_mse, rnd_rmse]], columns=('MSE', 'RMSE'), index=['Random Forest Regresion'])\n",
    "\n",
    "df2 = pd.DataFrame([[lin_mse, lin_rmse]], columns=('MSE', 'RMSE'), index=['Linear Regresion'])\n",
    "df_table = df_table.append(df2)\n",
    "\n",
    "df3 = pd.DataFrame([[reg_mse, reg_rmse]], columns=('MSE', 'RMSE'), index=['Ensenble Voting Regresion'])\n",
    "df_table = df_table.append(df3)\n",
    "\n",
    "df4 = pd.DataFrame([[svm_lin_mse, svm_lin_rmse]], columns=('MSE', 'RMSE'), index=['SVM Kernel = Linear'])\n",
    "df_table = df_table.append(df4)\n",
    "\n",
    "df_table"
   ]
  },
  {
   "cell_type": "markdown",
   "id": "7a2562f3",
   "metadata": {},
   "source": [
    "# Other models attempted"
   ]
  },
  {
   "cell_type": "markdown",
   "id": "70d8dd15",
   "metadata": {},
   "source": [
    "# Kernel = RBF"
   ]
  },
  {
   "cell_type": "markdown",
   "id": "21d37ca9",
   "metadata": {},
   "source": [
    "Changing kernel to rbf (Radial Basis Function)"
   ]
  },
  {
   "cell_type": "code",
   "execution_count": 195,
   "id": "e14df039",
   "metadata": {},
   "outputs": [
    {
     "name": "stdout",
     "output_type": "stream",
     "text": [
      "Support Vector Machine Regressor RMSE =  7.667757277286309\n"
     ]
    }
   ],
   "source": [
    "svm_reg = SVR(kernel=\"rbf\", gamma=0.1, C = 10.0) #using rbf kernel\n",
    "svm_reg.fit(X_train_scaled, y_train)\n",
    "y_train_pred = svm_reg.predict(X_train_scaled)\n",
    "svm_rbf_mse = mean_squared_error(y_train, y_train_pred) #mean square error\n",
    "svm_rbf_rmse = np.sqrt(svm_rbf_mse) #root mean square error\n",
    "print(\"Support Vector Machine Regressor RMSE = \",svm_rbf_rmse)"
   ]
  },
  {
   "cell_type": "code",
   "execution_count": 161,
   "id": "b2595aff",
   "metadata": {},
   "outputs": [],
   "source": [
    "#kaggle competition\n",
    "y_test_pred = svm_reg.predict(X_test_scaled)\n",
    "svm_reg_results_v3 = pd.DataFrame({'Id': test.Id, 'Pop': y_test_pred})\n",
    "svm_reg_results_v3.to_csv('svm_reg_results_v3.csv', index=False)"
   ]
  },
  {
   "cell_type": "code",
   "execution_count": 162,
   "id": "39fc6090",
   "metadata": {},
   "outputs": [
    {
     "name": "stdout",
     "output_type": "stream",
     "text": [
      "Scores: [11.48381724  9.8445693  10.40987324  8.59126593 11.8373821  11.19715057\n",
      "  9.11280566 10.81538577 11.5184163   9.07029294]\n",
      "Mean: 10.388095904832317\n",
      "Standard deviation: 1.10920102837251\n"
     ]
    }
   ],
   "source": [
    "scores = cross_val_score(svm_reg, X_train_scaled, y_train, scoring=\"neg_mean_squared_error\", cv=10)\n",
    "rmse_scores = np.sqrt(-scores)\n",
    "\n",
    "def display_scores(scores):\n",
    "    print(\"Scores:\", scores)\n",
    "    print(\"Mean:\", scores.mean())\n",
    "    print(\"Standard deviation:\", scores.std())\n",
    "\n",
    "display_scores(rmse_scores)"
   ]
  },
  {
   "cell_type": "markdown",
   "id": "c56c7b8a",
   "metadata": {},
   "source": [
    "# Kernel = Poly"
   ]
  },
  {
   "cell_type": "code",
   "execution_count": 163,
   "id": "425605be",
   "metadata": {},
   "outputs": [
    {
     "name": "stdout",
     "output_type": "stream",
     "text": [
      "SVM Regressor RMSE =  10.677037577067578\n"
     ]
    }
   ],
   "source": [
    "poly_svm_reg = SVR(kernel=\"poly\",degree=1)\n",
    "poly_svm_reg.fit(X_train_scaled, y_train)\n",
    "y_train_pred = poly_svm_reg.predict(X_train_scaled)\n",
    "poly_svm_mse = mean_squared_error(y_train, y_train_pred) #mean square error\n",
    "poly_svm_rmse = np.sqrt(poly_svm_mse) #root mean square error\n",
    "print(\"SVM Regressor RMSE = \", poly_svm_rmse)"
   ]
  },
  {
   "cell_type": "code",
   "execution_count": 164,
   "id": "83d43cf9",
   "metadata": {},
   "outputs": [
    {
     "name": "stdout",
     "output_type": "stream",
     "text": [
      "Scores: [12.2910301  11.42466225 10.57382165  8.42296723 11.70624152 12.7585678\n",
      " 10.41510388 10.66944939 11.95542321  9.51198296]\n",
      "Mean: 10.97292499890097\n",
      "Standard deviation: 1.2582617081145437\n"
     ]
    }
   ],
   "source": [
    "scores = cross_val_score(poly_svm_reg, X_train_scaled, y_train, scoring=\"neg_mean_squared_error\", cv=10)\n",
    "rmse_scores = np.sqrt(-scores)\n",
    "\n",
    "def display_scores(scores):\n",
    "    print(\"Scores:\", scores)\n",
    "    print(\"Mean:\", scores.mean())\n",
    "    print(\"Standard deviation:\", scores.std())\n",
    "\n",
    "display_scores(rmse_scores)"
   ]
  },
  {
   "cell_type": "code",
   "execution_count": 165,
   "id": "4f2e742b",
   "metadata": {},
   "outputs": [],
   "source": [
    "#kaggle competition\n",
    "y_test_pred = poly_svm_reg.predict(X_test_scaled)\n",
    "svm_reg_results_v4 = pd.DataFrame({'Id': test.Id, 'Pop': y_test_pred})\n",
    "svm_reg_results_v4.to_csv('svm_reg_results_v4.csv', index=False)"
   ]
  },
  {
   "cell_type": "markdown",
   "id": "ccca8853",
   "metadata": {},
   "source": [
    "# Linear SVR"
   ]
  },
  {
   "cell_type": "code",
   "execution_count": 166,
   "id": "99e8dcc9",
   "metadata": {},
   "outputs": [
    {
     "data": {
      "text/plain": [
       "LinearSVR(epsilon=5, random_state=42)"
      ]
     },
     "execution_count": 166,
     "metadata": {},
     "output_type": "execute_result"
    }
   ],
   "source": [
    "from sklearn.svm import LinearSVR\n",
    "\n",
    "lin_svm_reg = LinearSVR(epsilon=5, random_state=42)\n",
    "lin_svm_reg.fit(X_train_scaled, y_train)"
   ]
  },
  {
   "cell_type": "code",
   "execution_count": 167,
   "id": "b1b98bd6",
   "metadata": {},
   "outputs": [
    {
     "name": "stdout",
     "output_type": "stream",
     "text": [
      "SVM Linear Regressor RMSE =  10.120689840966337\n"
     ]
    }
   ],
   "source": [
    "y_train_pred = lin_svm_reg.predict(X_train_scaled)\n",
    "\n",
    "lin_svm_mse = mean_squared_error(y_train, y_train_pred) #mean square error\n",
    "lin_svm_rmse = np.sqrt(lin_svm_mse) #root mean square error\n",
    "print(\"SVM Linear Regressor RMSE = \", lin_svm_rmse)"
   ]
  },
  {
   "cell_type": "code",
   "execution_count": 169,
   "id": "514aa54d",
   "metadata": {},
   "outputs": [],
   "source": [
    "#kaggle competition\n",
    "y_test_pred = svm_reg.predict(X_test_scaled)\n",
    "lin_svm_reg_results_v2 = pd.DataFrame({'Id': test.Id, 'Pop': y_test_pred})\n",
    "lin_svm_reg_results_v2.to_csv('lin_svm_reg_results.csv', index=False)"
   ]
  },
  {
   "cell_type": "code",
   "execution_count": 170,
   "id": "0c39b3ec",
   "metadata": {},
   "outputs": [
    {
     "name": "stdout",
     "output_type": "stream",
     "text": [
      "Scores: [11.90292703 10.13079779 10.71572872  7.63858095 11.72194412 13.21801055\n",
      " 10.74238654  9.43033566 12.55539382  9.48050555]\n",
      "Mean: 10.753661073050012\n",
      "Standard deviation: 1.5824982634215174\n"
     ]
    }
   ],
   "source": [
    "scores = cross_val_score(lin_svm_reg, X_train_scaled, y_train, scoring=\"neg_mean_squared_error\", cv=10)\n",
    "rmse_scores = np.sqrt(-scores)\n",
    "\n",
    "def display_scores(scores):\n",
    "    print(\"Scores:\", scores)\n",
    "    print(\"Mean:\", scores.mean())\n",
    "    print(\"Standard deviation:\", scores.std())\n",
    "\n",
    "display_scores(rmse_scores)"
   ]
  },
  {
   "cell_type": "markdown",
   "id": "8732d654",
   "metadata": {},
   "source": [
    "# Grid Search on SVM"
   ]
  },
  {
   "cell_type": "markdown",
   "id": "bb96612b",
   "metadata": {},
   "source": [
    "In order to find the best parameteres, we will use GridSearchCV. GridSearchCV is an extremely useful tool which allows us to search through many different parameteres and produces the best combination.\n",
    "\n",
    "Let's tune our SVM. We'll stick to three parameters for now.\n"
   ]
  },
  {
   "cell_type": "code",
   "execution_count": 77,
   "id": "3e0ee753",
   "metadata": {},
   "outputs": [
    {
     "name": "stdout",
     "output_type": "stream",
     "text": [
      "Fitting 5 folds for each of 47 candidates, totalling 235 fits\n",
      "[CV] END ..............................C=10.0, kernel=linear; total time=   0.0s\n",
      "[CV] END ..............................C=10.0, kernel=linear; total time=   0.0s\n",
      "[CV] END ..............................C=10.0, kernel=linear; total time=   0.0s\n",
      "[CV] END ..............................C=10.0, kernel=linear; total time=   0.0s\n",
      "[CV] END ..............................C=10.0, kernel=linear; total time=   0.0s\n",
      "[CV] END ..............................C=30.0, kernel=linear; total time=   0.0s\n",
      "[CV] END ..............................C=30.0, kernel=linear; total time=   0.0s\n",
      "[CV] END ..............................C=30.0, kernel=linear; total time=   0.0s\n",
      "[CV] END ..............................C=30.0, kernel=linear; total time=   0.0s\n",
      "[CV] END ..............................C=30.0, kernel=linear; total time=   0.0s\n",
      "[CV] END .............................C=100.0, kernel=linear; total time=   0.0s\n",
      "[CV] END .............................C=100.0, kernel=linear; total time=   0.1s\n",
      "[CV] END .............................C=100.0, kernel=linear; total time=   0.0s\n",
      "[CV] END .............................C=100.0, kernel=linear; total time=   0.0s\n",
      "[CV] END .............................C=100.0, kernel=linear; total time=   0.1s\n",
      "[CV] END .............................C=300.0, kernel=linear; total time=   0.2s\n",
      "[CV] END .............................C=300.0, kernel=linear; total time=   0.3s\n",
      "[CV] END .............................C=300.0, kernel=linear; total time=   0.8s\n",
      "[CV] END .............................C=300.0, kernel=linear; total time=   0.2s\n",
      "[CV] END .............................C=300.0, kernel=linear; total time=   0.2s\n",
      "[CV] END ............................C=1000.0, kernel=linear; total time=   1.5s\n",
      "[CV] END ............................C=1000.0, kernel=linear; total time=   5.3s\n",
      "[CV] END ............................C=1000.0, kernel=linear; total time=   2.3s\n",
      "[CV] END ............................C=1000.0, kernel=linear; total time=   0.9s\n",
      "[CV] END ............................C=1000.0, kernel=linear; total time=   2.1s\n",
      "[CV] END ......................C=1.0, gamma=0.01, kernel=rbf; total time=   0.0s\n",
      "[CV] END ......................C=1.0, gamma=0.01, kernel=rbf; total time=   0.0s\n",
      "[CV] END ......................C=1.0, gamma=0.01, kernel=rbf; total time=   0.0s\n",
      "[CV] END ......................C=1.0, gamma=0.01, kernel=rbf; total time=   0.0s\n",
      "[CV] END ......................C=1.0, gamma=0.01, kernel=rbf; total time=   0.0s\n",
      "[CV] END ......................C=1.0, gamma=0.03, kernel=rbf; total time=   0.0s\n",
      "[CV] END ......................C=1.0, gamma=0.03, kernel=rbf; total time=   0.0s\n",
      "[CV] END ......................C=1.0, gamma=0.03, kernel=rbf; total time=   0.0s\n",
      "[CV] END ......................C=1.0, gamma=0.03, kernel=rbf; total time=   0.0s\n",
      "[CV] END ......................C=1.0, gamma=0.03, kernel=rbf; total time=   0.0s\n",
      "[CV] END .......................C=1.0, gamma=0.1, kernel=rbf; total time=   0.0s\n",
      "[CV] END .......................C=1.0, gamma=0.1, kernel=rbf; total time=   0.0s\n",
      "[CV] END .......................C=1.0, gamma=0.1, kernel=rbf; total time=   0.0s\n",
      "[CV] END .......................C=1.0, gamma=0.1, kernel=rbf; total time=   0.0s\n",
      "[CV] END .......................C=1.0, gamma=0.1, kernel=rbf; total time=   0.0s\n",
      "[CV] END .......................C=1.0, gamma=0.3, kernel=rbf; total time=   0.0s\n",
      "[CV] END .......................C=1.0, gamma=0.3, kernel=rbf; total time=   0.0s\n",
      "[CV] END .......................C=1.0, gamma=0.3, kernel=rbf; total time=   0.0s\n",
      "[CV] END .......................C=1.0, gamma=0.3, kernel=rbf; total time=   0.0s\n",
      "[CV] END .......................C=1.0, gamma=0.3, kernel=rbf; total time=   0.0s\n",
      "[CV] END .......................C=1.0, gamma=1.0, kernel=rbf; total time=   0.0s\n",
      "[CV] END .......................C=1.0, gamma=1.0, kernel=rbf; total time=   0.0s\n",
      "[CV] END .......................C=1.0, gamma=1.0, kernel=rbf; total time=   0.0s\n",
      "[CV] END .......................C=1.0, gamma=1.0, kernel=rbf; total time=   0.0s\n",
      "[CV] END .......................C=1.0, gamma=1.0, kernel=rbf; total time=   0.0s\n",
      "[CV] END .......................C=1.0, gamma=3.0, kernel=rbf; total time=   0.0s\n",
      "[CV] END .......................C=1.0, gamma=3.0, kernel=rbf; total time=   0.0s\n",
      "[CV] END .......................C=1.0, gamma=3.0, kernel=rbf; total time=   0.0s\n",
      "[CV] END .......................C=1.0, gamma=3.0, kernel=rbf; total time=   0.0s\n",
      "[CV] END .......................C=1.0, gamma=3.0, kernel=rbf; total time=   0.0s\n",
      "[CV] END ......................C=3.0, gamma=0.01, kernel=rbf; total time=   0.0s\n",
      "[CV] END ......................C=3.0, gamma=0.01, kernel=rbf; total time=   0.0s\n",
      "[CV] END ......................C=3.0, gamma=0.01, kernel=rbf; total time=   0.0s\n",
      "[CV] END ......................C=3.0, gamma=0.01, kernel=rbf; total time=   0.0s\n",
      "[CV] END ......................C=3.0, gamma=0.01, kernel=rbf; total time=   0.0s\n",
      "[CV] END ......................C=3.0, gamma=0.03, kernel=rbf; total time=   0.0s\n",
      "[CV] END ......................C=3.0, gamma=0.03, kernel=rbf; total time=   0.0s\n",
      "[CV] END ......................C=3.0, gamma=0.03, kernel=rbf; total time=   0.0s\n",
      "[CV] END ......................C=3.0, gamma=0.03, kernel=rbf; total time=   0.0s\n",
      "[CV] END ......................C=3.0, gamma=0.03, kernel=rbf; total time=   0.0s\n",
      "[CV] END .......................C=3.0, gamma=0.1, kernel=rbf; total time=   0.0s\n",
      "[CV] END .......................C=3.0, gamma=0.1, kernel=rbf; total time=   0.0s\n",
      "[CV] END .......................C=3.0, gamma=0.1, kernel=rbf; total time=   0.0s\n",
      "[CV] END .......................C=3.0, gamma=0.1, kernel=rbf; total time=   0.0s\n",
      "[CV] END .......................C=3.0, gamma=0.1, kernel=rbf; total time=   0.0s\n",
      "[CV] END .......................C=3.0, gamma=0.3, kernel=rbf; total time=   0.0s\n",
      "[CV] END .......................C=3.0, gamma=0.3, kernel=rbf; total time=   0.0s\n",
      "[CV] END .......................C=3.0, gamma=0.3, kernel=rbf; total time=   0.0s\n",
      "[CV] END .......................C=3.0, gamma=0.3, kernel=rbf; total time=   0.0s\n",
      "[CV] END .......................C=3.0, gamma=0.3, kernel=rbf; total time=   0.0s\n",
      "[CV] END .......................C=3.0, gamma=1.0, kernel=rbf; total time=   0.0s\n",
      "[CV] END .......................C=3.0, gamma=1.0, kernel=rbf; total time=   0.0s\n",
      "[CV] END .......................C=3.0, gamma=1.0, kernel=rbf; total time=   0.0s\n",
      "[CV] END .......................C=3.0, gamma=1.0, kernel=rbf; total time=   0.0s\n",
      "[CV] END .......................C=3.0, gamma=1.0, kernel=rbf; total time=   0.0s\n",
      "[CV] END .......................C=3.0, gamma=3.0, kernel=rbf; total time=   0.0s\n",
      "[CV] END .......................C=3.0, gamma=3.0, kernel=rbf; total time=   0.0s\n",
      "[CV] END .......................C=3.0, gamma=3.0, kernel=rbf; total time=   0.0s\n",
      "[CV] END .......................C=3.0, gamma=3.0, kernel=rbf; total time=   0.0s\n",
      "[CV] END .......................C=3.0, gamma=3.0, kernel=rbf; total time=   0.0s\n",
      "[CV] END .....................C=10.0, gamma=0.01, kernel=rbf; total time=   0.0s\n",
      "[CV] END .....................C=10.0, gamma=0.01, kernel=rbf; total time=   0.0s\n",
      "[CV] END .....................C=10.0, gamma=0.01, kernel=rbf; total time=   0.0s\n",
      "[CV] END .....................C=10.0, gamma=0.01, kernel=rbf; total time=   0.0s\n",
      "[CV] END .....................C=10.0, gamma=0.01, kernel=rbf; total time=   0.0s\n",
      "[CV] END .....................C=10.0, gamma=0.03, kernel=rbf; total time=   0.0s\n",
      "[CV] END .....................C=10.0, gamma=0.03, kernel=rbf; total time=   0.0s\n",
      "[CV] END .....................C=10.0, gamma=0.03, kernel=rbf; total time=   0.0s\n",
      "[CV] END .....................C=10.0, gamma=0.03, kernel=rbf; total time=   0.0s\n",
      "[CV] END .....................C=10.0, gamma=0.03, kernel=rbf; total time=   0.0s\n",
      "[CV] END ......................C=10.0, gamma=0.1, kernel=rbf; total time=   0.0s\n",
      "[CV] END ......................C=10.0, gamma=0.1, kernel=rbf; total time=   0.0s\n",
      "[CV] END ......................C=10.0, gamma=0.1, kernel=rbf; total time=   0.0s\n",
      "[CV] END ......................C=10.0, gamma=0.1, kernel=rbf; total time=   0.0s\n",
      "[CV] END ......................C=10.0, gamma=0.1, kernel=rbf; total time=   0.0s\n",
      "[CV] END ......................C=10.0, gamma=0.3, kernel=rbf; total time=   0.0s\n",
      "[CV] END ......................C=10.0, gamma=0.3, kernel=rbf; total time=   0.0s\n",
      "[CV] END ......................C=10.0, gamma=0.3, kernel=rbf; total time=   0.0s\n",
      "[CV] END ......................C=10.0, gamma=0.3, kernel=rbf; total time=   0.0s\n",
      "[CV] END ......................C=10.0, gamma=0.3, kernel=rbf; total time=   0.0s\n",
      "[CV] END ......................C=10.0, gamma=1.0, kernel=rbf; total time=   0.0s\n",
      "[CV] END ......................C=10.0, gamma=1.0, kernel=rbf; total time=   0.0s\n",
      "[CV] END ......................C=10.0, gamma=1.0, kernel=rbf; total time=   0.0s\n",
      "[CV] END ......................C=10.0, gamma=1.0, kernel=rbf; total time=   0.0s\n",
      "[CV] END ......................C=10.0, gamma=1.0, kernel=rbf; total time=   0.0s\n",
      "[CV] END ......................C=10.0, gamma=3.0, kernel=rbf; total time=   0.0s\n",
      "[CV] END ......................C=10.0, gamma=3.0, kernel=rbf; total time=   0.0s\n",
      "[CV] END ......................C=10.0, gamma=3.0, kernel=rbf; total time=   0.0s\n",
      "[CV] END ......................C=10.0, gamma=3.0, kernel=rbf; total time=   0.0s\n",
      "[CV] END ......................C=10.0, gamma=3.0, kernel=rbf; total time=   0.0s\n",
      "[CV] END .....................C=30.0, gamma=0.01, kernel=rbf; total time=   0.0s\n",
      "[CV] END .....................C=30.0, gamma=0.01, kernel=rbf; total time=   0.0s\n",
      "[CV] END .....................C=30.0, gamma=0.01, kernel=rbf; total time=   0.0s\n",
      "[CV] END .....................C=30.0, gamma=0.01, kernel=rbf; total time=   0.0s\n",
      "[CV] END .....................C=30.0, gamma=0.01, kernel=rbf; total time=   0.0s\n",
      "[CV] END .....................C=30.0, gamma=0.03, kernel=rbf; total time=   0.0s\n",
      "[CV] END .....................C=30.0, gamma=0.03, kernel=rbf; total time=   0.0s\n",
      "[CV] END .....................C=30.0, gamma=0.03, kernel=rbf; total time=   0.0s\n",
      "[CV] END .....................C=30.0, gamma=0.03, kernel=rbf; total time=   0.0s\n",
      "[CV] END .....................C=30.0, gamma=0.03, kernel=rbf; total time=   0.0s\n",
      "[CV] END ......................C=30.0, gamma=0.1, kernel=rbf; total time=   0.0s\n",
      "[CV] END ......................C=30.0, gamma=0.1, kernel=rbf; total time=   0.0s\n",
      "[CV] END ......................C=30.0, gamma=0.1, kernel=rbf; total time=   0.0s\n",
      "[CV] END ......................C=30.0, gamma=0.1, kernel=rbf; total time=   0.0s\n",
      "[CV] END ......................C=30.0, gamma=0.1, kernel=rbf; total time=   0.0s\n",
      "[CV] END ......................C=30.0, gamma=0.3, kernel=rbf; total time=   0.0s\n",
      "[CV] END ......................C=30.0, gamma=0.3, kernel=rbf; total time=   0.0s\n",
      "[CV] END ......................C=30.0, gamma=0.3, kernel=rbf; total time=   0.0s\n",
      "[CV] END ......................C=30.0, gamma=0.3, kernel=rbf; total time=   0.0s\n",
      "[CV] END ......................C=30.0, gamma=0.3, kernel=rbf; total time=   0.0s\n",
      "[CV] END ......................C=30.0, gamma=1.0, kernel=rbf; total time=   0.0s\n",
      "[CV] END ......................C=30.0, gamma=1.0, kernel=rbf; total time=   0.0s\n",
      "[CV] END ......................C=30.0, gamma=1.0, kernel=rbf; total time=   0.0s\n",
      "[CV] END ......................C=30.0, gamma=1.0, kernel=rbf; total time=   0.0s\n",
      "[CV] END ......................C=30.0, gamma=1.0, kernel=rbf; total time=   0.0s\n",
      "[CV] END ......................C=30.0, gamma=3.0, kernel=rbf; total time=   0.0s\n",
      "[CV] END ......................C=30.0, gamma=3.0, kernel=rbf; total time=   0.0s\n",
      "[CV] END ......................C=30.0, gamma=3.0, kernel=rbf; total time=   0.0s\n",
      "[CV] END ......................C=30.0, gamma=3.0, kernel=rbf; total time=   0.0s\n",
      "[CV] END ......................C=30.0, gamma=3.0, kernel=rbf; total time=   0.0s\n",
      "[CV] END ....................C=100.0, gamma=0.01, kernel=rbf; total time=   0.0s\n",
      "[CV] END ....................C=100.0, gamma=0.01, kernel=rbf; total time=   0.0s\n",
      "[CV] END ....................C=100.0, gamma=0.01, kernel=rbf; total time=   0.0s\n",
      "[CV] END ....................C=100.0, gamma=0.01, kernel=rbf; total time=   0.0s\n",
      "[CV] END ....................C=100.0, gamma=0.01, kernel=rbf; total time=   0.0s\n",
      "[CV] END ....................C=100.0, gamma=0.03, kernel=rbf; total time=   0.0s\n",
      "[CV] END ....................C=100.0, gamma=0.03, kernel=rbf; total time=   0.0s\n",
      "[CV] END ....................C=100.0, gamma=0.03, kernel=rbf; total time=   0.0s\n",
      "[CV] END ....................C=100.0, gamma=0.03, kernel=rbf; total time=   0.0s\n",
      "[CV] END ....................C=100.0, gamma=0.03, kernel=rbf; total time=   0.0s\n",
      "[CV] END .....................C=100.0, gamma=0.1, kernel=rbf; total time=   0.0s\n",
      "[CV] END .....................C=100.0, gamma=0.1, kernel=rbf; total time=   0.0s\n",
      "[CV] END .....................C=100.0, gamma=0.1, kernel=rbf; total time=   0.0s\n",
      "[CV] END .....................C=100.0, gamma=0.1, kernel=rbf; total time=   0.0s\n",
      "[CV] END .....................C=100.0, gamma=0.1, kernel=rbf; total time=   0.0s\n",
      "[CV] END .....................C=100.0, gamma=0.3, kernel=rbf; total time=   0.0s\n",
      "[CV] END .....................C=100.0, gamma=0.3, kernel=rbf; total time=   0.0s\n",
      "[CV] END .....................C=100.0, gamma=0.3, kernel=rbf; total time=   0.0s\n",
      "[CV] END .....................C=100.0, gamma=0.3, kernel=rbf; total time=   0.0s\n",
      "[CV] END .....................C=100.0, gamma=0.3, kernel=rbf; total time=   0.0s\n",
      "[CV] END .....................C=100.0, gamma=1.0, kernel=rbf; total time=   0.0s\n",
      "[CV] END .....................C=100.0, gamma=1.0, kernel=rbf; total time=   0.0s\n",
      "[CV] END .....................C=100.0, gamma=1.0, kernel=rbf; total time=   0.0s\n",
      "[CV] END .....................C=100.0, gamma=1.0, kernel=rbf; total time=   0.0s\n",
      "[CV] END .....................C=100.0, gamma=1.0, kernel=rbf; total time=   0.0s\n",
      "[CV] END .....................C=100.0, gamma=3.0, kernel=rbf; total time=   0.0s\n",
      "[CV] END .....................C=100.0, gamma=3.0, kernel=rbf; total time=   0.0s\n",
      "[CV] END .....................C=100.0, gamma=3.0, kernel=rbf; total time=   0.0s\n",
      "[CV] END .....................C=100.0, gamma=3.0, kernel=rbf; total time=   0.0s\n",
      "[CV] END .....................C=100.0, gamma=3.0, kernel=rbf; total time=   0.0s\n",
      "[CV] END ....................C=300.0, gamma=0.01, kernel=rbf; total time=   0.0s\n",
      "[CV] END ....................C=300.0, gamma=0.01, kernel=rbf; total time=   0.0s\n",
      "[CV] END ....................C=300.0, gamma=0.01, kernel=rbf; total time=   0.0s\n",
      "[CV] END ....................C=300.0, gamma=0.01, kernel=rbf; total time=   0.0s\n",
      "[CV] END ....................C=300.0, gamma=0.01, kernel=rbf; total time=   0.0s\n",
      "[CV] END ....................C=300.0, gamma=0.03, kernel=rbf; total time=   0.0s\n",
      "[CV] END ....................C=300.0, gamma=0.03, kernel=rbf; total time=   0.0s\n",
      "[CV] END ....................C=300.0, gamma=0.03, kernel=rbf; total time=   0.0s\n",
      "[CV] END ....................C=300.0, gamma=0.03, kernel=rbf; total time=   0.0s\n",
      "[CV] END ....................C=300.0, gamma=0.03, kernel=rbf; total time=   0.0s\n",
      "[CV] END .....................C=300.0, gamma=0.1, kernel=rbf; total time=   0.0s\n",
      "[CV] END .....................C=300.0, gamma=0.1, kernel=rbf; total time=   0.0s\n",
      "[CV] END .....................C=300.0, gamma=0.1, kernel=rbf; total time=   0.0s\n",
      "[CV] END .....................C=300.0, gamma=0.1, kernel=rbf; total time=   0.0s\n",
      "[CV] END .....................C=300.0, gamma=0.1, kernel=rbf; total time=   0.0s\n",
      "[CV] END .....................C=300.0, gamma=0.3, kernel=rbf; total time=   0.0s\n",
      "[CV] END .....................C=300.0, gamma=0.3, kernel=rbf; total time=   0.0s\n",
      "[CV] END .....................C=300.0, gamma=0.3, kernel=rbf; total time=   0.0s\n",
      "[CV] END .....................C=300.0, gamma=0.3, kernel=rbf; total time=   0.0s\n",
      "[CV] END .....................C=300.0, gamma=0.3, kernel=rbf; total time=   0.0s\n",
      "[CV] END .....................C=300.0, gamma=1.0, kernel=rbf; total time=   0.0s\n",
      "[CV] END .....................C=300.0, gamma=1.0, kernel=rbf; total time=   0.0s\n",
      "[CV] END .....................C=300.0, gamma=1.0, kernel=rbf; total time=   0.0s\n",
      "[CV] END .....................C=300.0, gamma=1.0, kernel=rbf; total time=   0.0s\n",
      "[CV] END .....................C=300.0, gamma=1.0, kernel=rbf; total time=   0.0s\n",
      "[CV] END .....................C=300.0, gamma=3.0, kernel=rbf; total time=   0.0s\n",
      "[CV] END .....................C=300.0, gamma=3.0, kernel=rbf; total time=   0.0s\n",
      "[CV] END .....................C=300.0, gamma=3.0, kernel=rbf; total time=   0.0s\n",
      "[CV] END .....................C=300.0, gamma=3.0, kernel=rbf; total time=   0.0s\n",
      "[CV] END .....................C=300.0, gamma=3.0, kernel=rbf; total time=   0.0s\n",
      "[CV] END ...................C=1000.0, gamma=0.01, kernel=rbf; total time=   0.0s\n",
      "[CV] END ...................C=1000.0, gamma=0.01, kernel=rbf; total time=   0.0s\n",
      "[CV] END ...................C=1000.0, gamma=0.01, kernel=rbf; total time=   0.0s\n",
      "[CV] END ...................C=1000.0, gamma=0.01, kernel=rbf; total time=   0.0s\n",
      "[CV] END ...................C=1000.0, gamma=0.01, kernel=rbf; total time=   0.0s\n",
      "[CV] END ...................C=1000.0, gamma=0.03, kernel=rbf; total time=   0.0s\n",
      "[CV] END ...................C=1000.0, gamma=0.03, kernel=rbf; total time=   0.0s\n",
      "[CV] END ...................C=1000.0, gamma=0.03, kernel=rbf; total time=   0.0s\n",
      "[CV] END ...................C=1000.0, gamma=0.03, kernel=rbf; total time=   0.0s\n",
      "[CV] END ...................C=1000.0, gamma=0.03, kernel=rbf; total time=   0.0s\n",
      "[CV] END ....................C=1000.0, gamma=0.1, kernel=rbf; total time=   0.0s\n",
      "[CV] END ....................C=1000.0, gamma=0.1, kernel=rbf; total time=   0.0s\n",
      "[CV] END ....................C=1000.0, gamma=0.1, kernel=rbf; total time=   0.0s\n",
      "[CV] END ....................C=1000.0, gamma=0.1, kernel=rbf; total time=   0.0s\n",
      "[CV] END ....................C=1000.0, gamma=0.1, kernel=rbf; total time=   0.0s\n",
      "[CV] END ....................C=1000.0, gamma=0.3, kernel=rbf; total time=   0.0s\n",
      "[CV] END ....................C=1000.0, gamma=0.3, kernel=rbf; total time=   0.0s\n",
      "[CV] END ....................C=1000.0, gamma=0.3, kernel=rbf; total time=   0.0s\n",
      "[CV] END ....................C=1000.0, gamma=0.3, kernel=rbf; total time=   0.0s\n",
      "[CV] END ....................C=1000.0, gamma=0.3, kernel=rbf; total time=   0.0s\n",
      "[CV] END ....................C=1000.0, gamma=1.0, kernel=rbf; total time=   0.0s\n",
      "[CV] END ....................C=1000.0, gamma=1.0, kernel=rbf; total time=   0.0s\n",
      "[CV] END ....................C=1000.0, gamma=1.0, kernel=rbf; total time=   0.0s\n",
      "[CV] END ....................C=1000.0, gamma=1.0, kernel=rbf; total time=   0.0s\n",
      "[CV] END ....................C=1000.0, gamma=1.0, kernel=rbf; total time=   0.0s\n",
      "[CV] END ....................C=1000.0, gamma=3.0, kernel=rbf; total time=   0.0s\n",
      "[CV] END ....................C=1000.0, gamma=3.0, kernel=rbf; total time=   0.0s\n",
      "[CV] END ....................C=1000.0, gamma=3.0, kernel=rbf; total time=   0.0s\n",
      "[CV] END ....................C=1000.0, gamma=3.0, kernel=rbf; total time=   0.0s\n",
      "[CV] END ....................C=1000.0, gamma=3.0, kernel=rbf; total time=   0.0s\n"
     ]
    },
    {
     "data": {
      "text/plain": [
       "GridSearchCV(cv=5, estimator=SVR(),\n",
       "             param_grid=[{'C': [10.0, 30.0, 100.0, 300.0, 1000.0],\n",
       "                          'kernel': ['linear']},\n",
       "                         {'C': [1.0, 3.0, 10.0, 30.0, 100.0, 300.0, 1000.0],\n",
       "                          'gamma': [0.01, 0.03, 0.1, 0.3, 1.0, 3.0],\n",
       "                          'kernel': ['rbf']}],\n",
       "             scoring='neg_mean_squared_error', verbose=2)"
      ]
     },
     "execution_count": 77,
     "metadata": {},
     "output_type": "execute_result"
    }
   ],
   "source": [
    "from sklearn.model_selection import GridSearchCV\n",
    "\n",
    "param_grid = [\n",
    "        {'kernel': ['linear'], 'C': [10., 30., 100., 300., 1000.]},           #, 3000., 10000., 30000.0\n",
    "        {'kernel': ['rbf'], 'C': [1.0, 3.0, 10., 30., 100., 300., 1000.0],\n",
    "         'gamma': [0.01, 0.03, 0.1, 0.3, 1.0, 3.0]},\n",
    "    ]\n",
    "\n",
    "svm_reg = SVR()\n",
    "grid_search = GridSearchCV(svm_reg, param_grid, cv=5, scoring='neg_mean_squared_error', verbose=2)\n",
    "grid_search.fit(X_train_scaled, y_train)"
   ]
  },
  {
   "cell_type": "code",
   "execution_count": 78,
   "id": "82055dc5",
   "metadata": {},
   "outputs": [
    {
     "name": "stdout",
     "output_type": "stream",
     "text": [
      "GridSearchCV best RMSE score:  10.40423564560858\n"
     ]
    }
   ],
   "source": [
    "negative_mse = grid_search.best_score_\n",
    "rmse = np.sqrt(-negative_mse)\n",
    "print(\"GridSearchCV best RMSE score: \", rmse)"
   ]
  },
  {
   "cell_type": "code",
   "execution_count": 79,
   "id": "28299892",
   "metadata": {},
   "outputs": [
    {
     "data": {
      "text/plain": [
       "{'C': 10.0, 'gamma': 0.1, 'kernel': 'rbf'}"
      ]
     },
     "execution_count": 79,
     "metadata": {},
     "output_type": "execute_result"
    }
   ],
   "source": [
    "grid_search.best_params_"
   ]
  },
  {
   "cell_type": "markdown",
   "id": "7c41e686",
   "metadata": {},
   "source": [
    "# Randomized Search CV for SVM"
   ]
  },
  {
   "cell_type": "markdown",
   "id": "7f1db76e",
   "metadata": {},
   "source": [
    "When the hyperparameter search space is large, it is advised to use Randomised CV search. This approach is similar to GridSearch, however instead of trying all possible combinations, it evaluates a number of random combinations. This is done by selecting a random value for each hypyerparameter at each iteration."
   ]
  },
  {
   "cell_type": "code",
   "execution_count": 93,
   "id": "1885e38f",
   "metadata": {},
   "outputs": [
    {
     "name": "stdout",
     "output_type": "stream",
     "text": [
      "Fitting 5 folds for each of 50 candidates, totalling 250 fits\n",
      "[CV] END C=86.56900442587761, gamma=3.010121430917521, kernel=linear; total time=   0.0s\n",
      "[CV] END C=86.56900442587761, gamma=3.010121430917521, kernel=linear; total time=   0.1s\n",
      "[CV] END C=86.56900442587761, gamma=3.010121430917521, kernel=linear; total time=   0.0s\n",
      "[CV] END C=86.56900442587761, gamma=3.010121430917521, kernel=linear; total time=   0.0s\n",
      "[CV] END C=86.56900442587761, gamma=3.010121430917521, kernel=linear; total time=   0.1s\n",
      "[CV] END C=422.37831933647874, gamma=0.9084469696321253, kernel=rbf; total time=   0.0s\n",
      "[CV] END C=422.37831933647874, gamma=0.9084469696321253, kernel=rbf; total time=   0.0s\n",
      "[CV] END C=422.37831933647874, gamma=0.9084469696321253, kernel=rbf; total time=   0.0s\n",
      "[CV] END C=422.37831933647874, gamma=0.9084469696321253, kernel=rbf; total time=   0.0s\n",
      "[CV] END C=422.37831933647874, gamma=0.9084469696321253, kernel=rbf; total time=   0.0s\n",
      "[CV] END C=36.81798416110504, gamma=0.059838768608680676, kernel=rbf; total time=   0.0s\n",
      "[CV] END C=36.81798416110504, gamma=0.059838768608680676, kernel=rbf; total time=   0.0s\n",
      "[CV] END C=36.81798416110504, gamma=0.059838768608680676, kernel=rbf; total time=   0.0s\n",
      "[CV] END C=36.81798416110504, gamma=0.059838768608680676, kernel=rbf; total time=   0.0s\n",
      "[CV] END C=36.81798416110504, gamma=0.059838768608680676, kernel=rbf; total time=   0.0s\n",
      "[CV] END C=73.78887960837761, gamma=0.15416196746656105, kernel=linear; total time=   0.0s\n",
      "[CV] END C=73.78887960837761, gamma=0.15416196746656105, kernel=linear; total time=   0.0s\n",
      "[CV] END C=73.78887960837761, gamma=0.15416196746656105, kernel=linear; total time=   0.0s\n",
      "[CV] END C=73.78887960837761, gamma=0.15416196746656105, kernel=linear; total time=   0.0s\n",
      "[CV] END C=73.78887960837761, gamma=0.15416196746656105, kernel=linear; total time=   0.0s\n",
      "[CV] END C=21.67716253868949, gamma=3.503557475158312, kernel=rbf; total time=   0.0s\n",
      "[CV] END C=21.67716253868949, gamma=3.503557475158312, kernel=rbf; total time=   0.0s\n",
      "[CV] END C=21.67716253868949, gamma=3.503557475158312, kernel=rbf; total time=   0.0s\n",
      "[CV] END C=21.67716253868949, gamma=3.503557475158312, kernel=rbf; total time=   0.0s\n",
      "[CV] END C=21.67716253868949, gamma=3.503557475158312, kernel=rbf; total time=   0.0s\n",
      "[CV] END C=786.3264704747313, gamma=0.0007790692366582295, kernel=rbf; total time=   0.0s\n",
      "[CV] END C=786.3264704747313, gamma=0.0007790692366582295, kernel=rbf; total time=   0.0s\n",
      "[CV] END C=786.3264704747313, gamma=0.0007790692366582295, kernel=rbf; total time=   0.0s\n",
      "[CV] END C=786.3264704747313, gamma=0.0007790692366582295, kernel=rbf; total time=   0.0s\n",
      "[CV] END C=786.3264704747313, gamma=0.0007790692366582295, kernel=rbf; total time=   0.0s\n",
      "[CV] END C=40.985360230834694, gamma=0.3627537294604771, kernel=rbf; total time=   0.0s\n",
      "[CV] END C=40.985360230834694, gamma=0.3627537294604771, kernel=rbf; total time=   0.0s\n",
      "[CV] END C=40.985360230834694, gamma=0.3627537294604771, kernel=rbf; total time=   0.0s\n",
      "[CV] END C=40.985360230834694, gamma=0.3627537294604771, kernel=rbf; total time=   0.0s\n",
      "[CV] END C=40.985360230834694, gamma=0.3627537294604771, kernel=rbf; total time=   0.0s\n",
      "[CV] END C=20.560583532947476, gamma=0.023332523598323388, kernel=linear; total time=   0.0s\n",
      "[CV] END C=20.560583532947476, gamma=0.023332523598323388, kernel=linear; total time=   0.0s\n",
      "[CV] END C=20.560583532947476, gamma=0.023332523598323388, kernel=linear; total time=   0.0s\n",
      "[CV] END C=20.560583532947476, gamma=0.023332523598323388, kernel=linear; total time=   0.0s\n",
      "[CV] END C=20.560583532947476, gamma=0.023332523598323388, kernel=linear; total time=   0.0s\n",
      "[CV] END C=219.0532549726511, gamma=0.15023452872733867, kernel=rbf; total time=   0.0s\n",
      "[CV] END C=219.0532549726511, gamma=0.15023452872733867, kernel=rbf; total time=   0.0s\n",
      "[CV] END C=219.0532549726511, gamma=0.15023452872733867, kernel=rbf; total time=   0.0s\n",
      "[CV] END C=219.0532549726511, gamma=0.15023452872733867, kernel=rbf; total time=   0.0s\n",
      "[CV] END C=219.0532549726511, gamma=0.15023452872733867, kernel=rbf; total time=   0.0s\n",
      "[CV] END C=902.4256142480963, gamma=0.26497040005002437, kernel=rbf; total time=   0.0s\n",
      "[CV] END C=902.4256142480963, gamma=0.26497040005002437, kernel=rbf; total time=   0.0s\n",
      "[CV] END C=902.4256142480963, gamma=0.26497040005002437, kernel=rbf; total time=   0.0s\n",
      "[CV] END C=902.4256142480963, gamma=0.26497040005002437, kernel=rbf; total time=   0.0s\n",
      "[CV] END C=902.4256142480963, gamma=0.26497040005002437, kernel=rbf; total time=   0.0s\n",
      "[CV] END C=431.53934911793647, gamma=0.2227358621286903, kernel=linear; total time=   0.6s\n",
      "[CV] END C=431.53934911793647, gamma=0.2227358621286903, kernel=linear; total time=   1.4s\n",
      "[CV] END C=431.53934911793647, gamma=0.2227358621286903, kernel=linear; total time=   1.0s\n",
      "[CV] END C=431.53934911793647, gamma=0.2227358621286903, kernel=linear; total time=   0.5s\n",
      "[CV] END C=431.53934911793647, gamma=0.2227358621286903, kernel=linear; total time=   0.4s\n",
      "[CV] END C=936.5043047197039, gamma=0.628789100540856, kernel=linear; total time=   1.6s\n",
      "[CV] END C=936.5043047197039, gamma=0.628789100540856, kernel=linear; total time=   3.8s\n",
      "[CV] END C=936.5043047197039, gamma=0.628789100540856, kernel=linear; total time=   3.0s\n",
      "[CV] END C=936.5043047197039, gamma=0.628789100540856, kernel=linear; total time=   1.5s\n",
      "[CV] END C=936.5043047197039, gamma=0.628789100540856, kernel=linear; total time=   2.2s\n",
      "[CV] END C=215.39244956526255, gamma=0.18696125197741642, kernel=linear; total time=   0.2s\n",
      "[CV] END C=215.39244956526255, gamma=0.18696125197741642, kernel=linear; total time=   0.2s\n",
      "[CV] END C=215.39244956526255, gamma=0.18696125197741642, kernel=linear; total time=   0.3s\n",
      "[CV] END C=215.39244956526255, gamma=0.18696125197741642, kernel=linear; total time=   0.2s\n",
      "[CV] END C=215.39244956526255, gamma=0.18696125197741642, kernel=linear; total time=   0.1s\n",
      "[CV] END C=21.06525723358502, gamma=2.850796878935603, kernel=rbf; total time=   0.0s\n",
      "[CV] END C=21.06525723358502, gamma=2.850796878935603, kernel=rbf; total time=   0.0s\n",
      "[CV] END C=21.06525723358502, gamma=2.850796878935603, kernel=rbf; total time=   0.0s\n",
      "[CV] END C=21.06525723358502, gamma=2.850796878935603, kernel=rbf; total time=   0.0s\n",
      "[CV] END C=21.06525723358502, gamma=2.850796878935603, kernel=rbf; total time=   0.0s\n",
      "[CV] END C=472.5772836847282, gamma=0.3632878599687583, kernel=linear; total time=   0.4s\n",
      "[CV] END C=472.5772836847282, gamma=0.3632878599687583, kernel=linear; total time=   1.6s\n",
      "[CV] END C=472.5772836847282, gamma=0.3632878599687583, kernel=linear; total time=   1.0s\n",
      "[CV] END C=472.5772836847282, gamma=0.3632878599687583, kernel=linear; total time=   0.3s\n",
      "[CV] END C=472.5772836847282, gamma=0.3632878599687583, kernel=linear; total time=   0.7s\n",
      "[CV] END C=49.3527866421989, gamma=0.2757870542258224, kernel=rbf; total time=   0.0s\n",
      "[CV] END C=49.3527866421989, gamma=0.2757870542258224, kernel=rbf; total time=   0.0s\n",
      "[CV] END C=49.3527866421989, gamma=0.2757870542258224, kernel=rbf; total time=   0.0s\n",
      "[CV] END C=49.3527866421989, gamma=0.2757870542258224, kernel=rbf; total time=   0.0s\n",
      "[CV] END C=49.3527866421989, gamma=0.2757870542258224, kernel=rbf; total time=   0.0s\n",
      "[CV] END C=32.238089455218386, gamma=0.6835472281341501, kernel=linear; total time=   0.0s\n",
      "[CV] END C=32.238089455218386, gamma=0.6835472281341501, kernel=linear; total time=   0.0s\n",
      "[CV] END C=32.238089455218386, gamma=0.6835472281341501, kernel=linear; total time=   0.0s\n",
      "[CV] END C=32.238089455218386, gamma=0.6835472281341501, kernel=linear; total time=   0.0s\n",
      "[CV] END C=32.238089455218386, gamma=0.6835472281341501, kernel=linear; total time=   0.0s\n",
      "[CV] END C=39.40681561139461, gamma=0.4960365360493639, kernel=rbf; total time=   0.0s\n",
      "[CV] END C=39.40681561139461, gamma=0.4960365360493639, kernel=rbf; total time=   0.0s\n",
      "[CV] END C=39.40681561139461, gamma=0.4960365360493639, kernel=rbf; total time=   0.0s\n",
      "[CV] END C=39.40681561139461, gamma=0.4960365360493639, kernel=rbf; total time=   0.0s\n",
      "[CV] END C=39.40681561139461, gamma=0.4960365360493639, kernel=rbf; total time=   0.0s\n",
      "[CV] END C=267.0763817758117, gamma=0.37354658165762367, kernel=rbf; total time=   0.0s\n",
      "[CV] END C=267.0763817758117, gamma=0.37354658165762367, kernel=rbf; total time=   0.0s\n",
      "[CV] END C=267.0763817758117, gamma=0.37354658165762367, kernel=rbf; total time=   0.0s\n",
      "[CV] END C=267.0763817758117, gamma=0.37354658165762367, kernel=rbf; total time=   0.0s\n",
      "[CV] END C=267.0763817758117, gamma=0.37354658165762367, kernel=rbf; total time=   0.0s\n",
      "[CV] END C=45.11455142535803, gamma=0.838636245624803, kernel=linear; total time=   0.0s\n",
      "[CV] END C=45.11455142535803, gamma=0.838636245624803, kernel=linear; total time=   0.1s\n",
      "[CV] END C=45.11455142535803, gamma=0.838636245624803, kernel=linear; total time=   0.0s\n",
      "[CV] END C=45.11455142535803, gamma=0.838636245624803, kernel=linear; total time=   0.0s\n",
      "[CV] END C=45.11455142535803, gamma=0.838636245624803, kernel=linear; total time=   0.0s\n",
      "[CV] END C=887.8205534102794, gamma=1.4922453771381408, kernel=rbf; total time=   0.0s\n",
      "[CV] END C=887.8205534102794, gamma=1.4922453771381408, kernel=rbf; total time=   0.0s\n",
      "[CV] END C=887.8205534102794, gamma=1.4922453771381408, kernel=rbf; total time=   0.0s\n",
      "[CV] END C=887.8205534102794, gamma=1.4922453771381408, kernel=rbf; total time=   0.0s\n",
      "[CV] END C=887.8205534102794, gamma=1.4922453771381408, kernel=rbf; total time=   0.0s\n",
      "[CV] END C=93.83792456819712, gamma=2.6126336514161914, kernel=linear; total time=   0.0s\n",
      "[CV] END C=93.83792456819712, gamma=2.6126336514161914, kernel=linear; total time=   0.0s\n",
      "[CV] END C=93.83792456819712, gamma=2.6126336514161914, kernel=linear; total time=   0.3s\n",
      "[CV] END C=93.83792456819712, gamma=2.6126336514161914, kernel=linear; total time=   0.1s\n",
      "[CV] END C=93.83792456819712, gamma=2.6126336514161914, kernel=linear; total time=   0.0s\n",
      "[CV] END C=736.6592876846839, gamma=0.09265545895311562, kernel=linear; total time=   1.3s\n",
      "[CV] END C=736.6592876846839, gamma=0.09265545895311562, kernel=linear; total time=   3.7s\n",
      "[CV] END C=736.6592876846839, gamma=0.09265545895311562, kernel=linear; total time=   2.2s\n",
      "[CV] END C=736.6592876846839, gamma=0.09265545895311562, kernel=linear; total time=   0.5s\n",
      "[CV] END C=736.6592876846839, gamma=0.09265545895311562, kernel=linear; total time=   0.9s\n",
      "[CV] END C=153.43052838821376, gamma=3.248614270240346, kernel=linear; total time=   0.0s\n",
      "[CV] END C=153.43052838821376, gamma=3.248614270240346, kernel=linear; total time=   0.0s\n",
      "[CV] END C=153.43052838821376, gamma=3.248614270240346, kernel=linear; total time=   0.2s\n",
      "[CV] END C=153.43052838821376, gamma=3.248614270240346, kernel=linear; total time=   0.2s\n",
      "[CV] END C=153.43052838821376, gamma=3.248614270240346, kernel=linear; total time=   0.2s\n",
      "[CV] END C=91.49156410950802, gamma=0.3165604432088257, kernel=linear; total time=   0.0s\n",
      "[CV] END C=91.49156410950802, gamma=0.3165604432088257, kernel=linear; total time=   0.0s\n",
      "[CV] END C=91.49156410950802, gamma=0.3165604432088257, kernel=linear; total time=   0.1s\n",
      "[CV] END C=91.49156410950802, gamma=0.3165604432088257, kernel=linear; total time=   0.0s\n",
      "[CV] END C=91.49156410950802, gamma=0.3165604432088257, kernel=linear; total time=   0.1s\n",
      "[CV] END C=198.56496617407672, gamma=3.3597284456608496, kernel=rbf; total time=   0.0s\n",
      "[CV] END C=198.56496617407672, gamma=3.3597284456608496, kernel=rbf; total time=   0.0s\n",
      "[CV] END C=198.56496617407672, gamma=3.3597284456608496, kernel=rbf; total time=   0.0s\n",
      "[CV] END C=198.56496617407672, gamma=3.3597284456608496, kernel=rbf; total time=   0.0s\n",
      "[CV] END C=198.56496617407672, gamma=3.3597284456608496, kernel=rbf; total time=   0.0s\n",
      "[CV] END C=167.1299804665105, gamma=0.15189814782062885, kernel=linear; total time=   0.1s\n",
      "[CV] END C=167.1299804665105, gamma=0.15189814782062885, kernel=linear; total time=   0.1s\n",
      "[CV] END C=167.1299804665105, gamma=0.15189814782062885, kernel=linear; total time=   0.0s\n",
      "[CV] END C=167.1299804665105, gamma=0.15189814782062885, kernel=linear; total time=   0.1s\n",
      "[CV] END C=167.1299804665105, gamma=0.15189814782062885, kernel=linear; total time=   0.2s\n",
      "[CV] END C=38.17803465519569, gamma=0.01575994483585621, kernel=linear; total time=   0.0s\n",
      "[CV] END C=38.17803465519569, gamma=0.01575994483585621, kernel=linear; total time=   0.0s\n",
      "[CV] END C=38.17803465519569, gamma=0.01575994483585621, kernel=linear; total time=   0.0s\n",
      "[CV] END C=38.17803465519569, gamma=0.01575994483585621, kernel=linear; total time=   0.0s\n",
      "[CV] END C=38.17803465519569, gamma=0.01575994483585621, kernel=linear; total time=   0.0s\n",
      "[CV] END C=410.2519884430273, gamma=0.22153944050588595, kernel=rbf; total time=   0.0s\n",
      "[CV] END C=410.2519884430273, gamma=0.22153944050588595, kernel=rbf; total time=   0.0s\n",
      "[CV] END C=410.2519884430273, gamma=0.22153944050588595, kernel=rbf; total time=   0.0s\n",
      "[CV] END C=410.2519884430273, gamma=0.22153944050588595, kernel=rbf; total time=   0.0s\n",
      "[CV] END C=410.2519884430273, gamma=0.22153944050588595, kernel=rbf; total time=   0.0s\n",
      "[CV] END C=21.13251530219261, gamma=0.22169760231351215, kernel=rbf; total time=   0.0s\n",
      "[CV] END C=21.13251530219261, gamma=0.22169760231351215, kernel=rbf; total time=   0.0s\n",
      "[CV] END C=21.13251530219261, gamma=0.22169760231351215, kernel=rbf; total time=   0.0s\n",
      "[CV] END C=21.13251530219261, gamma=0.22169760231351215, kernel=rbf; total time=   0.0s\n",
      "[CV] END C=21.13251530219261, gamma=0.22169760231351215, kernel=rbf; total time=   0.0s\n",
      "[CV] END C=346.4107071691908, gamma=1.4752145260435134, kernel=linear; total time=   0.4s\n",
      "[CV] END C=346.4107071691908, gamma=1.4752145260435134, kernel=linear; total time=   1.0s\n",
      "[CV] END C=346.4107071691908, gamma=1.4752145260435134, kernel=linear; total time=   0.6s\n",
      "[CV] END C=346.4107071691908, gamma=1.4752145260435134, kernel=linear; total time=   0.3s\n",
      "[CV] END C=346.4107071691908, gamma=1.4752145260435134, kernel=linear; total time=   0.4s\n",
      "[CV] END C=749.5272093704284, gamma=1.052904084582266, kernel=rbf; total time=   0.0s\n",
      "[CV] END C=749.5272093704284, gamma=1.052904084582266, kernel=rbf; total time=   0.0s\n",
      "[CV] END C=749.5272093704284, gamma=1.052904084582266, kernel=rbf; total time=   0.0s\n",
      "[CV] END C=749.5272093704284, gamma=1.052904084582266, kernel=rbf; total time=   0.0s\n",
      "[CV] END C=749.5272093704284, gamma=1.052904084582266, kernel=rbf; total time=   0.0s\n",
      "[CV] END C=585.3516230124259, gamma=0.9763011917123741, kernel=rbf; total time=   0.0s\n",
      "[CV] END C=585.3516230124259, gamma=0.9763011917123741, kernel=rbf; total time=   0.0s\n",
      "[CV] END C=585.3516230124259, gamma=0.9763011917123741, kernel=rbf; total time=   0.0s\n",
      "[CV] END C=585.3516230124259, gamma=0.9763011917123741, kernel=rbf; total time=   0.0s\n",
      "[CV] END C=585.3516230124259, gamma=0.9763011917123741, kernel=rbf; total time=   0.0s\n",
      "[CV] END C=29.048848507465095, gamma=0.4633351167983427, kernel=rbf; total time=   0.0s\n",
      "[CV] END C=29.048848507465095, gamma=0.4633351167983427, kernel=rbf; total time=   0.0s\n",
      "[CV] END C=29.048848507465095, gamma=0.4633351167983427, kernel=rbf; total time=   0.0s\n",
      "[CV] END C=29.048848507465095, gamma=0.4633351167983427, kernel=rbf; total time=   0.0s\n",
      "[CV] END C=29.048848507465095, gamma=0.4633351167983427, kernel=rbf; total time=   0.0s\n",
      "[CV] END C=71.36852246510847, gamma=1.3078757839577408, kernel=rbf; total time=   0.0s\n",
      "[CV] END C=71.36852246510847, gamma=1.3078757839577408, kernel=rbf; total time=   0.0s\n",
      "[CV] END C=71.36852246510847, gamma=1.3078757839577408, kernel=rbf; total time=   0.0s\n",
      "[CV] END C=71.36852246510847, gamma=1.3078757839577408, kernel=rbf; total time=   0.0s\n",
      "[CV] END C=71.36852246510847, gamma=1.3078757839577408, kernel=rbf; total time=   0.0s\n",
      "[CV] END C=58.58333367317093, gamma=0.8238105204914145, kernel=linear; total time=   0.0s\n",
      "[CV] END C=58.58333367317093, gamma=0.8238105204914145, kernel=linear; total time=   0.0s\n",
      "[CV] END C=58.58333367317093, gamma=0.8238105204914145, kernel=linear; total time=   0.0s\n",
      "[CV] END C=58.58333367317093, gamma=0.8238105204914145, kernel=linear; total time=   0.0s\n",
      "[CV] END C=58.58333367317093, gamma=0.8238105204914145, kernel=linear; total time=   0.0s\n",
      "[CV] END C=31.931331772347505, gamma=1.2491263443165994, kernel=linear; total time=   0.0s\n",
      "[CV] END C=31.931331772347505, gamma=1.2491263443165994, kernel=linear; total time=   0.0s\n",
      "[CV] END C=31.931331772347505, gamma=1.2491263443165994, kernel=linear; total time=   0.0s\n",
      "[CV] END C=31.931331772347505, gamma=1.2491263443165994, kernel=linear; total time=   0.0s\n",
      "[CV] END C=31.931331772347505, gamma=1.2491263443165994, kernel=linear; total time=   0.0s\n",
      "[CV] END C=336.6873530719176, gamma=0.2691677514619319, kernel=rbf; total time=   0.0s\n",
      "[CV] END C=336.6873530719176, gamma=0.2691677514619319, kernel=rbf; total time=   0.0s\n",
      "[CV] END C=336.6873530719176, gamma=0.2691677514619319, kernel=rbf; total time=   0.0s\n",
      "[CV] END C=336.6873530719176, gamma=0.2691677514619319, kernel=rbf; total time=   0.0s\n",
      "[CV] END C=336.6873530719176, gamma=0.2691677514619319, kernel=rbf; total time=   0.0s\n",
      "[CV] END C=138.03013163583844, gamma=0.739678838777267, kernel=linear; total time=   0.1s\n",
      "[CV] END C=138.03013163583844, gamma=0.739678838777267, kernel=linear; total time=   0.1s\n",
      "[CV] END C=138.03013163583844, gamma=0.739678838777267, kernel=linear; total time=   0.1s\n",
      "[CV] END C=138.03013163583844, gamma=0.739678838777267, kernel=linear; total time=   0.2s\n",
      "[CV] END C=138.03013163583844, gamma=0.739678838777267, kernel=linear; total time=   0.0s\n",
      "[CV] END C=30.862433984855574, gamma=0.578634378499143, kernel=linear; total time=   0.0s\n",
      "[CV] END C=30.862433984855574, gamma=0.578634378499143, kernel=linear; total time=   0.0s\n",
      "[CV] END C=30.862433984855574, gamma=0.578634378499143, kernel=linear; total time=   0.0s\n",
      "[CV] END C=30.862433984855574, gamma=0.578634378499143, kernel=linear; total time=   0.0s\n",
      "[CV] END C=30.862433984855574, gamma=0.578634378499143, kernel=linear; total time=   0.0s\n",
      "[CV] END C=22.616595953271997, gamma=1.0117295509275495, kernel=rbf; total time=   0.0s\n",
      "[CV] END C=22.616595953271997, gamma=1.0117295509275495, kernel=rbf; total time=   0.0s\n",
      "[CV] END C=22.616595953271997, gamma=1.0117295509275495, kernel=rbf; total time=   0.0s\n",
      "[CV] END C=22.616595953271997, gamma=1.0117295509275495, kernel=rbf; total time=   0.0s\n",
      "[CV] END C=22.616595953271997, gamma=1.0117295509275495, kernel=rbf; total time=   0.0s\n",
      "[CV] END C=181.14164051533348, gamma=1.1891370222133257, kernel=linear; total time=   0.2s\n",
      "[CV] END C=181.14164051533348, gamma=1.1891370222133257, kernel=linear; total time=   0.1s\n",
      "[CV] END C=181.14164051533348, gamma=1.1891370222133257, kernel=linear; total time=   0.2s\n",
      "[CV] END C=181.14164051533348, gamma=1.1891370222133257, kernel=linear; total time=   0.2s\n",
      "[CV] END C=181.14164051533348, gamma=1.1891370222133257, kernel=linear; total time=   0.3s\n",
      "[CV] END C=53.03590882092568, gamma=0.5282819748826726, kernel=linear; total time=   0.0s\n",
      "[CV] END C=53.03590882092568, gamma=0.5282819748826726, kernel=linear; total time=   0.0s\n",
      "[CV] END C=53.03590882092568, gamma=0.5282819748826726, kernel=linear; total time=   0.0s\n",
      "[CV] END C=53.03590882092568, gamma=0.5282819748826726, kernel=linear; total time=   0.0s\n",
      "[CV] END C=53.03590882092568, gamma=0.5282819748826726, kernel=linear; total time=   0.0s\n",
      "[CV] END C=44.26137746362383, gamma=2.8621383676481322, kernel=linear; total time=   0.0s\n",
      "[CV] END C=44.26137746362383, gamma=2.8621383676481322, kernel=linear; total time=   0.0s\n",
      "[CV] END C=44.26137746362383, gamma=2.8621383676481322, kernel=linear; total time=   0.0s\n",
      "[CV] END C=44.26137746362383, gamma=2.8621383676481322, kernel=linear; total time=   0.0s\n",
      "[CV] END C=44.26137746362383, gamma=2.8621383676481322, kernel=linear; total time=   0.0s\n",
      "[CV] END C=62.13109717163817, gamma=0.17580835850006285, kernel=rbf; total time=   0.0s\n",
      "[CV] END C=62.13109717163817, gamma=0.17580835850006285, kernel=rbf; total time=   0.0s\n",
      "[CV] END C=62.13109717163817, gamma=0.17580835850006285, kernel=rbf; total time=   0.0s\n",
      "[CV] END C=62.13109717163817, gamma=0.17580835850006285, kernel=rbf; total time=   0.0s\n",
      "[CV] END C=62.13109717163817, gamma=0.17580835850006285, kernel=rbf; total time=   0.0s\n",
      "[CV] END C=230.03228609220596, gamma=0.3504567255332862, kernel=linear; total time=   0.4s\n",
      "[CV] END C=230.03228609220596, gamma=0.3504567255332862, kernel=linear; total time=   0.3s\n",
      "[CV] END C=230.03228609220596, gamma=0.3504567255332862, kernel=linear; total time=   0.2s\n",
      "[CV] END C=230.03228609220596, gamma=0.3504567255332862, kernel=linear; total time=   0.2s\n",
      "[CV] END C=230.03228609220596, gamma=0.3504567255332862, kernel=linear; total time=   0.2s\n",
      "[CV] END C=604.8050354811373, gamma=1.6279689407405564, kernel=rbf; total time=   0.0s\n",
      "[CV] END C=604.8050354811373, gamma=1.6279689407405564, kernel=rbf; total time=   0.0s\n",
      "[CV] END C=604.8050354811373, gamma=1.6279689407405564, kernel=rbf; total time=   0.0s\n",
      "[CV] END C=604.8050354811373, gamma=1.6279689407405564, kernel=rbf; total time=   0.0s\n",
      "[CV] END C=604.8050354811373, gamma=1.6279689407405564, kernel=rbf; total time=   0.0s\n",
      "[CV] END C=102.01590899002107, gamma=2.147979593060577, kernel=rbf; total time=   0.0s\n",
      "[CV] END C=102.01590899002107, gamma=2.147979593060577, kernel=rbf; total time=   0.0s\n",
      "[CV] END C=102.01590899002107, gamma=2.147979593060577, kernel=rbf; total time=   0.0s\n",
      "[CV] END C=102.01590899002107, gamma=2.147979593060577, kernel=rbf; total time=   0.0s\n",
      "[CV] END C=102.01590899002107, gamma=2.147979593060577, kernel=rbf; total time=   0.0s\n",
      "[CV] END C=470.810998334797, gamma=2.2642426492862313, kernel=linear; total time=   1.0s\n",
      "[CV] END C=470.810998334797, gamma=2.2642426492862313, kernel=linear; total time=   0.5s\n",
      "[CV] END C=470.810998334797, gamma=2.2642426492862313, kernel=linear; total time=   1.4s\n",
      "[CV] END C=470.810998334797, gamma=2.2642426492862313, kernel=linear; total time=   0.4s\n",
      "[CV] END C=470.810998334797, gamma=2.2642426492862313, kernel=linear; total time=   0.8s\n",
      "[CV] END C=694.5512814557499, gamma=0.3176359085304841, kernel=linear; total time=   0.9s\n",
      "[CV] END C=694.5512814557499, gamma=0.3176359085304841, kernel=linear; total time=   1.3s\n",
      "[CV] END C=694.5512814557499, gamma=0.3176359085304841, kernel=linear; total time=   1.1s\n",
      "[CV] END C=694.5512814557499, gamma=0.3176359085304841, kernel=linear; total time=   0.6s\n",
      "[CV] END C=694.5512814557499, gamma=0.3176359085304841, kernel=linear; total time=   1.3s\n"
     ]
    },
    {
     "data": {
      "text/plain": [
       "RandomizedSearchCV(cv=5, estimator=SVR(), n_iter=50,\n",
       "                   param_distributions={'C': <scipy.stats._distn_infrastructure.rv_frozen object at 0x0000026CE0B01CA0>,\n",
       "                                        'gamma': <scipy.stats._distn_infrastructure.rv_frozen object at 0x0000026CE0B328E0>,\n",
       "                                        'kernel': ['linear', 'rbf']},\n",
       "                   random_state=42, scoring='neg_mean_squared_error',\n",
       "                   verbose=2)"
      ]
     },
     "execution_count": 93,
     "metadata": {},
     "output_type": "execute_result"
    }
   ],
   "source": [
    "from sklearn.model_selection import RandomizedSearchCV\n",
    "from scipy.stats import expon, reciprocal\n",
    "\n",
    "# see https://docs.scipy.org/doc/scipy/reference/stats.html\n",
    "# for `expon()` and `reciprocal()` documentation and more probability distribution functions.\n",
    "\n",
    "# Note: gamma is ignored when kernel is \"linear\"\n",
    "param_distribs = {\n",
    "        'kernel': ['linear', 'rbf'],\n",
    "        'C': reciprocal(20, 1000),\n",
    "        'gamma': expon(scale=1.0),\n",
    "    }\n",
    "\n",
    "svm_reg = SVR()\n",
    "rnd_search = RandomizedSearchCV(svm_reg, param_distributions=param_distribs,\n",
    "                                n_iter=50, cv=5, scoring='neg_mean_squared_error',\n",
    "                                verbose=2, random_state=42)\n",
    "rnd_search.fit(X_train_scaled, y_train)"
   ]
  },
  {
   "cell_type": "code",
   "execution_count": null,
   "id": "549dd81f",
   "metadata": {},
   "outputs": [],
   "source": [
    "negative_mse = rnd_search.best_score_\n",
    "rmse = np.sqrt(-negative_mse)\n",
    "rmse"
   ]
  },
  {
   "cell_type": "code",
   "execution_count": null,
   "id": "c29c516d",
   "metadata": {},
   "outputs": [],
   "source": [
    "rnd_search.best_params_"
   ]
  },
  {
   "cell_type": "markdown",
   "id": "e0180697",
   "metadata": {},
   "source": [
    "# Logistic Regression"
   ]
  },
  {
   "cell_type": "code",
   "execution_count": 81,
   "id": "eece8d98",
   "metadata": {},
   "outputs": [
    {
     "data": {
      "text/plain": [
       "LogisticRegression(random_state=42)"
      ]
     },
     "execution_count": 81,
     "metadata": {},
     "output_type": "execute_result"
    }
   ],
   "source": [
    "from sklearn.linear_model import LogisticRegression\n",
    "\n",
    "log_reg = LogisticRegression(random_state=42)\n",
    "log_reg.fit(X_train_scaled, y_train)"
   ]
  },
  {
   "cell_type": "code",
   "execution_count": 82,
   "id": "a0410f6c",
   "metadata": {},
   "outputs": [
    {
     "name": "stdout",
     "output_type": "stream",
     "text": [
      "Logistic Regression Root Mean Squared Error =  10.289197243161189\n"
     ]
    }
   ],
   "source": [
    "y_train_pred = log_reg.predict(X_train_scaled)\n",
    "\n",
    "log_mse = mean_squared_error(y_train, y_train_pred) #mean square error\n",
    "log_rmse = np.sqrt(log_mse) #root mean square error\n",
    "print(\"Logistic Regression Root Mean Squared Error = \",log_rmse)"
   ]
  },
  {
   "cell_type": "code",
   "execution_count": 83,
   "id": "1bb7b0bf",
   "metadata": {},
   "outputs": [
    {
     "name": "stderr",
     "output_type": "stream",
     "text": [
      "C:\\Users\\Ryan\\anaconda3\\lib\\site-packages\\sklearn\\model_selection\\_split.py:666: UserWarning: The least populated class in y has only 1 members, which is less than n_splits=10.\n",
      "  warnings.warn((\"The least populated class in y has only %d\"\n"
     ]
    },
    {
     "name": "stdout",
     "output_type": "stream",
     "text": [
      "Scores: [13.25964486 12.61042138 13.7369773  13.25621638 13.68642327 14.37089862\n",
      " 14.58205622 12.15244083 12.6012181  11.44450716]\n",
      "Mean: 13.170080412945126\n",
      "Standard deviation: 0.9321523055743041\n"
     ]
    }
   ],
   "source": [
    "scores = cross_val_score(log_reg, X_train_scaled, y_train, scoring=\"neg_mean_squared_error\", cv=10)\n",
    "rmse_scores = np.sqrt(-scores)\n",
    "\n",
    "def display_scores(scores):\n",
    "    print(\"Scores:\", scores)\n",
    "    print(\"Mean:\", scores.mean())\n",
    "    print(\"Standard deviation:\", scores.std())\n",
    "\n",
    "display_scores(rmse_scores)"
   ]
  },
  {
   "cell_type": "markdown",
   "id": "5e1057bc",
   "metadata": {},
   "source": [
    "# Stochastic Gradient Descent Regressor"
   ]
  },
  {
   "cell_type": "code",
   "execution_count": 89,
   "id": "45927839",
   "metadata": {},
   "outputs": [
    {
     "data": {
      "text/plain": [
       "SGDRegressor(max_iter=2000, random_state=42)"
      ]
     },
     "execution_count": 89,
     "metadata": {},
     "output_type": "execute_result"
    }
   ],
   "source": [
    "from sklearn.linear_model import SGDRegressor\n",
    "\n",
    "sgd_reg = SGDRegressor(random_state=42, max_iter=2000)\n",
    "sgd_reg.fit(X_train_scaled, y_train)"
   ]
  },
  {
   "cell_type": "code",
   "execution_count": 90,
   "id": "049bcf46",
   "metadata": {},
   "outputs": [
    {
     "name": "stdout",
     "output_type": "stream",
     "text": [
      "Stochastic Gradient Descent Root Mean Squared Error =  9.129924478415719\n"
     ]
    }
   ],
   "source": [
    "y_train_pred = sgd_reg.predict(X_train_scaled)\n",
    "\n",
    "sgd_mse = mean_squared_error(y_train, y_train_pred) #mean square error\n",
    "sgd_rmse = np.sqrt(sgd_mse) #root mean square error\n",
    "print(\"Stochastic Gradient Descent Root Mean Squared Error = \",sgd_rmse)"
   ]
  },
  {
   "cell_type": "code",
   "execution_count": 92,
   "id": "888340fb",
   "metadata": {},
   "outputs": [
    {
     "name": "stdout",
     "output_type": "stream",
     "text": [
      "Scores: [11.19201011  9.86251199 11.44007647  7.90251067 11.25974218 13.24180921\n",
      " 10.34116436  9.28724684 11.22509818  9.31918616]\n",
      "Mean: 10.507135618484881\n",
      "Standard deviation: 1.415141970020773\n"
     ]
    }
   ],
   "source": [
    "scores = cross_val_score(sgd_reg, X_train_scaled, y_train, scoring=\"neg_mean_squared_error\", cv=10)\n",
    "rmse_scores = np.sqrt(-scores)\n",
    "\n",
    "def display_scores(scores):\n",
    "    print(\"Scores:\", scores)\n",
    "    print(\"Mean:\", scores.mean())\n",
    "    print(\"Standard deviation:\", scores.std())\n",
    "\n",
    "display_scores(rmse_scores)"
   ]
  },
  {
   "cell_type": "markdown",
   "id": "7f6e7ca9",
   "metadata": {},
   "source": [
    "# Decision Tree Regressor"
   ]
  },
  {
   "cell_type": "code",
   "execution_count": 178,
   "id": "08c5449d",
   "metadata": {},
   "outputs": [
    {
     "name": "stdout",
     "output_type": "stream",
     "text": [
      "Decision Tree Regressor Score 0.5250950396449348\n",
      "Decision Tree Regressor MSE 77.13852327797618\n",
      "Decision Tree Regressor RMSE 8.782853936960137\n"
     ]
    }
   ],
   "source": [
    "from sklearn.tree import DecisionTreeRegressor\n",
    "tree_reg = DecisionTreeRegressor(max_leaf_nodes=17, random_state=42)\n",
    "\n",
    "tree_reg.fit(X_train_scaled, y_train)\n",
    "\n",
    "tree_test_predict = tree_reg.predict(X_test_scaled)\n",
    "tree_train_predict = tree_reg.predict(X_train_scaled)\n",
    "\n",
    "tree_reg_score = tree_reg.score(X_train_scaled, y_train)\n",
    "\n",
    "print(\"Decision Tree Regressor Score\", tree_reg_score)\n",
    "tree_mse = mean_squared_error(y_train, tree_train_predict)\n",
    "tree_rmse = np.sqrt(tree_mse)\n",
    "print(\"Decision Tree Regressor MSE\", tree_mse)\n",
    "print(\"Decision Tree Regressor RMSE\", tree_rmse)"
   ]
  },
  {
   "cell_type": "code",
   "execution_count": 179,
   "id": "ae37332e",
   "metadata": {},
   "outputs": [
    {
     "name": "stdout",
     "output_type": "stream",
     "text": [
      "Scores: [13.56443963 11.21843623 12.0068475  11.11839049 13.98555516 12.96584071\n",
      " 10.47331149  9.65294945 13.77752072 10.97648226]\n",
      "Mean: 11.973977362719996\n",
      "Standard deviation: 1.4405101134172797\n"
     ]
    }
   ],
   "source": [
    "scores = cross_val_score(tree_reg, X_train_scaled, y_train,\n",
    "                         scoring=\"neg_mean_squared_error\", cv=10)\n",
    "tree_rmse_scores = np.sqrt(-scores)\n",
    "\n",
    "def display_scores(scores):\n",
    "    print(\"Scores:\", scores)\n",
    "    print(\"Mean:\", scores.mean())\n",
    "    print(\"Standard deviation:\", scores.std())\n",
    "\n",
    "display_scores(tree_rmse_scores)\n",
    "\n"
   ]
  },
  {
   "cell_type": "markdown",
   "id": "c7a80832",
   "metadata": {},
   "source": [
    "# Ensemble Bagging"
   ]
  },
  {
   "cell_type": "code",
   "execution_count": 180,
   "id": "3fd134e1",
   "metadata": {},
   "outputs": [],
   "source": [
    "from sklearn.ensemble import BaggingRegressor\n",
    "from sklearn.tree import DecisionTreeRegressor\n",
    "\n",
    "# Reduced number of estimators and dt size\n",
    "bag_reg = BaggingRegressor(\n",
    "    DecisionTreeRegressor(random_state=42), n_estimators=130,\n",
    "    max_samples=130, bootstrap=True, n_jobs=-1, random_state=42)\n",
    "\n",
    "bag_reg.fit(X_train_scaled, y_train)\n",
    "y_pred = bag_reg.predict(X_test_scaled)\n",
    "#print(accuracy_score(ytest, ypred))"
   ]
  },
  {
   "cell_type": "code",
   "execution_count": 181,
   "id": "33e10709",
   "metadata": {},
   "outputs": [
    {
     "name": "stdout",
     "output_type": "stream",
     "text": [
      "VotingRegressor RMSE =  9.129924478415719\n"
     ]
    }
   ],
   "source": [
    "bag_reg_mse = mean_squared_error(y_train, y_train_pred)\n",
    "bag_reg_rmse = np.sqrt(bag_reg_mse)\n",
    "print(reg.__class__.__name__, \"RMSE = \", bag_reg_rmse)"
   ]
  },
  {
   "cell_type": "code",
   "execution_count": 182,
   "id": "296db6a1",
   "metadata": {},
   "outputs": [],
   "source": [
    "y_test_pred = bag_reg.predict(X_test_scaled)\n",
    "bag_reg_results = pd.DataFrame({'Id': test.Id, 'Pop': y_test_pred})\n",
    "bag_reg_results.to_csv('bag_reg_results.csv', index=False)"
   ]
  },
  {
   "cell_type": "markdown",
   "id": "a8a61933",
   "metadata": {},
   "source": [
    "# Out-of-bag evaluation"
   ]
  },
  {
   "cell_type": "code",
   "execution_count": 183,
   "id": "ae3766dd",
   "metadata": {},
   "outputs": [
    {
     "data": {
      "text/plain": [
       "0.340433587552454"
      ]
     },
     "execution_count": 183,
     "metadata": {},
     "output_type": "execute_result"
    }
   ],
   "source": [
    "bag_clf = BaggingRegressor(\n",
    "    DecisionTreeRegressor(), n_estimators=500,\n",
    "    bootstrap=True, oob_score=True, random_state=40)\n",
    "bag_clf.fit(X_train_scaled, y_train)\n",
    "bag_clf.oob_score_"
   ]
  },
  {
   "cell_type": "code",
   "execution_count": 184,
   "id": "482a92d3",
   "metadata": {},
   "outputs": [
    {
     "data": {
      "text/plain": [
       "AdaBoostRegressor(base_estimator=DecisionTreeRegressor(max_depth=4),\n",
       "                  learning_rate=0.5, n_estimators=95, random_state=42)"
      ]
     },
     "execution_count": 184,
     "metadata": {},
     "output_type": "execute_result"
    }
   ],
   "source": [
    "from sklearn.ensemble import AdaBoostRegressor\n",
    "\n",
    "ada_reg = AdaBoostRegressor(\n",
    "    DecisionTreeRegressor(max_depth=4), n_estimators=95,\n",
    "    learning_rate=0.5, random_state=42)\n",
    "ada_reg.fit(X_train_scaled, y_train)"
   ]
  },
  {
   "cell_type": "code",
   "execution_count": 185,
   "id": "ec64cff4",
   "metadata": {},
   "outputs": [
    {
     "name": "stdout",
     "output_type": "stream",
     "text": [
      "VotingRegressor RMSE =  9.129924478415719\n"
     ]
    }
   ],
   "source": [
    "ada_reg_mse = mean_squared_error(y_train, y_train_pred)\n",
    "ada_reg_rmse = np.sqrt(ada_reg_mse)\n",
    "print(reg.__class__.__name__, \"RMSE = \", ada_reg_rmse)"
   ]
  },
  {
   "cell_type": "code",
   "execution_count": 186,
   "id": "dee50cd0",
   "metadata": {},
   "outputs": [],
   "source": [
    "y_test_pred = ada_reg.predict(X_test_scaled)\n",
    "ada_reg_results = pd.DataFrame({'Id': test.Id, 'Pop': y_test_pred})\n",
    "ada_reg_results.to_csv('ada_reg_results.csv', index=False)"
   ]
  },
  {
   "cell_type": "markdown",
   "id": "b652e2b0",
   "metadata": {},
   "source": [
    "# What worked? What didnt? (Other models)"
   ]
  },
  {
   "cell_type": "markdown",
   "id": "7c6fd76a",
   "metadata": {},
   "source": [
    "The other models we trained were overall successful, however did not produce as good results as the previous four. \n",
    "\n",
    "Polynominal regression was also attempted here, but ran into issues when testing against the test data."
   ]
  },
  {
   "cell_type": "markdown",
   "id": "624d69df",
   "metadata": {},
   "source": [
    "# Performance of Models - MSE and RMSE for Final Four Models and Other Models Attempted"
   ]
  },
  {
   "cell_type": "markdown",
   "id": "82826db6",
   "metadata": {},
   "source": [
    "# Table of Final Model's MSE and RMSE Scores"
   ]
  },
  {
   "cell_type": "code",
   "execution_count": 190,
   "id": "3ed2adbc",
   "metadata": {},
   "outputs": [
    {
     "data": {
      "text/html": [
       "<div>\n",
       "<style scoped>\n",
       "    .dataframe tbody tr th:only-of-type {\n",
       "        vertical-align: middle;\n",
       "    }\n",
       "\n",
       "    .dataframe tbody tr th {\n",
       "        vertical-align: top;\n",
       "    }\n",
       "\n",
       "    .dataframe thead th {\n",
       "        text-align: right;\n",
       "    }\n",
       "</style>\n",
       "<table border=\"1\" class=\"dataframe\">\n",
       "  <thead>\n",
       "    <tr style=\"text-align: right;\">\n",
       "      <th></th>\n",
       "      <th>MSE</th>\n",
       "      <th>RMSE</th>\n",
       "    </tr>\n",
       "  </thead>\n",
       "  <tbody>\n",
       "    <tr>\n",
       "      <th>Random Forest Regresion</th>\n",
       "      <td>16.028055</td>\n",
       "      <td>4.003505</td>\n",
       "    </tr>\n",
       "    <tr>\n",
       "      <th>Linear Regresion</th>\n",
       "      <td>70.994967</td>\n",
       "      <td>8.425851</td>\n",
       "    </tr>\n",
       "    <tr>\n",
       "      <th>Ensenble Voting Regresion</th>\n",
       "      <td>60.388375</td>\n",
       "      <td>7.770996</td>\n",
       "    </tr>\n",
       "    <tr>\n",
       "      <th>SVM Kernel = Linear</th>\n",
       "      <td>103.032122</td>\n",
       "      <td>10.150474</td>\n",
       "    </tr>\n",
       "  </tbody>\n",
       "</table>\n",
       "</div>"
      ],
      "text/plain": [
       "                                  MSE       RMSE\n",
       "Random Forest Regresion     16.028055   4.003505\n",
       "Linear Regresion            70.994967   8.425851\n",
       "Ensenble Voting Regresion   60.388375   7.770996\n",
       "SVM Kernel = Linear        103.032122  10.150474"
      ]
     },
     "execution_count": 190,
     "metadata": {},
     "output_type": "execute_result"
    }
   ],
   "source": [
    "df_table\n"
   ]
  },
  {
   "cell_type": "markdown",
   "id": "54f057c9",
   "metadata": {},
   "source": [
    "# Table of Other Model's we tried (Not final Models)"
   ]
  },
  {
   "cell_type": "code",
   "execution_count": 192,
   "id": "dee81c04",
   "metadata": {},
   "outputs": [
    {
     "data": {
      "text/html": [
       "<div>\n",
       "<style scoped>\n",
       "    .dataframe tbody tr th:only-of-type {\n",
       "        vertical-align: middle;\n",
       "    }\n",
       "\n",
       "    .dataframe tbody tr th {\n",
       "        vertical-align: top;\n",
       "    }\n",
       "\n",
       "    .dataframe thead th {\n",
       "        text-align: right;\n",
       "    }\n",
       "</style>\n",
       "<table border=\"1\" class=\"dataframe\">\n",
       "  <thead>\n",
       "    <tr style=\"text-align: right;\">\n",
       "      <th></th>\n",
       "      <th>MSE</th>\n",
       "      <th>RMSE</th>\n",
       "    </tr>\n",
       "  </thead>\n",
       "  <tbody>\n",
       "    <tr>\n",
       "      <th>Ensemble Bagging</th>\n",
       "      <td>83.355521</td>\n",
       "      <td>9.129924</td>\n",
       "    </tr>\n",
       "    <tr>\n",
       "      <th>Out of Bag Evaluation</th>\n",
       "      <td>83.355521</td>\n",
       "      <td>9.129924</td>\n",
       "    </tr>\n",
       "    <tr>\n",
       "      <th>SVM Kernel = RBF</th>\n",
       "      <td>58.794502</td>\n",
       "      <td>7.667757</td>\n",
       "    </tr>\n",
       "    <tr>\n",
       "      <th>SVM Kernel = Poly</th>\n",
       "      <td>113.999131</td>\n",
       "      <td>10.677038</td>\n",
       "    </tr>\n",
       "    <tr>\n",
       "      <th>Linear SVM</th>\n",
       "      <td>102.428363</td>\n",
       "      <td>10.120690</td>\n",
       "    </tr>\n",
       "    <tr>\n",
       "      <th>Logistic Regression</th>\n",
       "      <td>105.867580</td>\n",
       "      <td>10.289197</td>\n",
       "    </tr>\n",
       "    <tr>\n",
       "      <th>Stochastic Gradient Descent Regressor</th>\n",
       "      <td>83.355521</td>\n",
       "      <td>9.129924</td>\n",
       "    </tr>\n",
       "  </tbody>\n",
       "</table>\n",
       "</div>"
      ],
      "text/plain": [
       "                                              MSE       RMSE\n",
       "Ensemble Bagging                        83.355521   9.129924\n",
       "Out of Bag Evaluation                   83.355521   9.129924\n",
       "SVM Kernel = RBF                        58.794502   7.667757\n",
       "SVM Kernel = Poly                      113.999131  10.677038\n",
       "Linear SVM                             102.428363  10.120690\n",
       "Logistic Regression                    105.867580  10.289197\n",
       "Stochastic Gradient Descent Regressor   83.355521   9.129924"
      ]
     },
     "execution_count": 192,
     "metadata": {},
     "output_type": "execute_result"
    }
   ],
   "source": [
    "df_other_models = pd.DataFrame([[bag_reg_mse, bag_reg_rmse]], columns=('MSE', 'RMSE'), index=['Ensemble Bagging'])\n",
    "\n",
    "df5 = pd.DataFrame([[ada_reg_mse, ada_reg_rmse]], columns=('MSE', 'RMSE'), index=['Out of Bag Evaluation'])\n",
    "df_other_models = df_other_models.append(df5)\n",
    "\n",
    "df6 = pd.DataFrame([[svm_rbf_mse, svm_rbf_rmse]], columns=('MSE', 'RMSE'), index=['SVM Kernel = RBF'])\n",
    "df_other_models = df_other_models.append(df6)\n",
    "\n",
    "df7 = pd.DataFrame([[poly_svm_mse, poly_svm_rmse]], columns=('MSE', 'RMSE'), index=['SVM Kernel = Poly'])\n",
    "df_other_models = df_other_models.append(df7)\n",
    "\n",
    "df8 = pd.DataFrame([[lin_svm_mse, lin_svm_rmse]], columns=('MSE', 'RMSE'), index=['Linear SVM'])\n",
    "df_other_models = df_other_models.append(df8)\n",
    "\n",
    "df9 = pd.DataFrame([[log_mse, log_rmse]], columns=('MSE', 'RMSE'), index=['Logistic Regression'])\n",
    "df_other_models = df_other_models.append(df9)\n",
    "\n",
    "df10 = pd.DataFrame([[sgd_mse, sgd_rmse]], columns=('MSE', 'RMSE'), index=['Stochastic Gradient Descent Regressor'])\n",
    "df_other_models = df_other_models.append(df10)\n",
    "\n",
    "\n",
    "\n",
    "df_other_models\n"
   ]
  },
  {
   "cell_type": "code",
   "execution_count": 191,
   "id": "b16b2c92",
   "metadata": {},
   "outputs": [
    {
     "data": {
      "text/html": [
       "<div>\n",
       "<style scoped>\n",
       "    .dataframe tbody tr th:only-of-type {\n",
       "        vertical-align: middle;\n",
       "    }\n",
       "\n",
       "    .dataframe tbody tr th {\n",
       "        vertical-align: top;\n",
       "    }\n",
       "\n",
       "    .dataframe thead th {\n",
       "        text-align: right;\n",
       "    }\n",
       "</style>\n",
       "<table border=\"1\" class=\"dataframe\">\n",
       "  <thead>\n",
       "    <tr style=\"text-align: right;\">\n",
       "      <th></th>\n",
       "      <th>MSE</th>\n",
       "      <th>RMSE</th>\n",
       "    </tr>\n",
       "  </thead>\n",
       "  <tbody>\n",
       "    <tr>\n",
       "      <th>Random Forest Regresion</th>\n",
       "      <td>16.028055</td>\n",
       "      <td>4.003505</td>\n",
       "    </tr>\n",
       "    <tr>\n",
       "      <th>Linear Regresion</th>\n",
       "      <td>70.994967</td>\n",
       "      <td>8.425851</td>\n",
       "    </tr>\n",
       "    <tr>\n",
       "      <th>Ensenble Voting Regresion</th>\n",
       "      <td>60.388375</td>\n",
       "      <td>7.770996</td>\n",
       "    </tr>\n",
       "    <tr>\n",
       "      <th>SVM Kernel = Linear</th>\n",
       "      <td>103.032122</td>\n",
       "      <td>10.150474</td>\n",
       "    </tr>\n",
       "  </tbody>\n",
       "</table>\n",
       "</div>"
      ],
      "text/plain": [
       "                                  MSE       RMSE\n",
       "Random Forest Regresion     16.028055   4.003505\n",
       "Linear Regresion            70.994967   8.425851\n",
       "Ensenble Voting Regresion   60.388375   7.770996\n",
       "SVM Kernel = Linear        103.032122  10.150474"
      ]
     },
     "execution_count": 191,
     "metadata": {},
     "output_type": "execute_result"
    }
   ],
   "source": [
    "df_table"
   ]
  },
  {
   "cell_type": "markdown",
   "id": "284557b9",
   "metadata": {},
   "source": [
    "The final four best models were Random Forest egression, Linear Regression, Ensemble approach (consisting of Linear, RF, and SVM), and SVM Kernel = Linear. \n",
    "\n",
    "As you can see from our notebook, many different models were attempted. All of these models had some degree of tuning take place, in order to find the best possible parameters. "
   ]
  },
  {
   "cell_type": "markdown",
   "id": "bd84a403",
   "metadata": {},
   "source": [
    "# Peformance on Kaggle"
   ]
  },
  {
   "cell_type": "markdown",
   "id": "b5265829",
   "metadata": {},
   "source": [
    "Our best score on Kaggle was 7.29930 (group 19). At the time of writing, we're 7th in the leaderboard.\n",
    " \n",
    "This score was from the random forest regressor model. Several models were trained and tested on the Kaggle testing set, but ultimately RF produced our best score.       \n",
    "   \n",
    "    \n"
   ]
  },
  {
   "cell_type": "code",
   "execution_count": 210,
   "id": "de22419a",
   "metadata": {},
   "outputs": [
    {
     "data": {
      "text/html": [
       "<div>\n",
       "<style scoped>\n",
       "    .dataframe tbody tr th:only-of-type {\n",
       "        vertical-align: middle;\n",
       "    }\n",
       "\n",
       "    .dataframe tbody tr th {\n",
       "        vertical-align: top;\n",
       "    }\n",
       "\n",
       "    .dataframe thead th {\n",
       "        text-align: right;\n",
       "    }\n",
       "</style>\n",
       "<table border=\"1\" class=\"dataframe\">\n",
       "  <thead>\n",
       "    <tr style=\"text-align: right;\">\n",
       "      <th></th>\n",
       "      <th>Id</th>\n",
       "      <th>Pop</th>\n",
       "    </tr>\n",
       "  </thead>\n",
       "  <tbody>\n",
       "    <tr>\n",
       "      <th>0</th>\n",
       "      <td>454</td>\n",
       "      <td>69.71</td>\n",
       "    </tr>\n",
       "    <tr>\n",
       "      <th>1</th>\n",
       "      <td>455</td>\n",
       "      <td>66.75</td>\n",
       "    </tr>\n",
       "    <tr>\n",
       "      <th>2</th>\n",
       "      <td>456</td>\n",
       "      <td>57.10</td>\n",
       "    </tr>\n",
       "    <tr>\n",
       "      <th>3</th>\n",
       "      <td>457</td>\n",
       "      <td>64.29</td>\n",
       "    </tr>\n",
       "    <tr>\n",
       "      <th>4</th>\n",
       "      <td>458</td>\n",
       "      <td>46.59</td>\n",
       "    </tr>\n",
       "    <tr>\n",
       "      <th>...</th>\n",
       "      <td>...</td>\n",
       "      <td>...</td>\n",
       "    </tr>\n",
       "    <tr>\n",
       "      <th>109</th>\n",
       "      <td>563</td>\n",
       "      <td>66.90</td>\n",
       "    </tr>\n",
       "    <tr>\n",
       "      <th>110</th>\n",
       "      <td>564</td>\n",
       "      <td>62.55</td>\n",
       "    </tr>\n",
       "    <tr>\n",
       "      <th>111</th>\n",
       "      <td>565</td>\n",
       "      <td>64.71</td>\n",
       "    </tr>\n",
       "    <tr>\n",
       "      <th>112</th>\n",
       "      <td>566</td>\n",
       "      <td>65.51</td>\n",
       "    </tr>\n",
       "    <tr>\n",
       "      <th>113</th>\n",
       "      <td>567</td>\n",
       "      <td>65.59</td>\n",
       "    </tr>\n",
       "  </tbody>\n",
       "</table>\n",
       "<p>114 rows × 2 columns</p>\n",
       "</div>"
      ],
      "text/plain": [
       "      Id    Pop\n",
       "0    454  69.71\n",
       "1    455  66.75\n",
       "2    456  57.10\n",
       "3    457  64.29\n",
       "4    458  46.59\n",
       "..   ...    ...\n",
       "109  563  66.90\n",
       "110  564  62.55\n",
       "111  565  64.71\n",
       "112  566  65.51\n",
       "113  567  65.59\n",
       "\n",
       "[114 rows x 2 columns]"
      ]
     },
     "execution_count": 210,
     "metadata": {},
     "output_type": "execute_result"
    }
   ],
   "source": [
    "best_results = pd.read_csv(\"random_forest_reg_best_results.csv\")\n",
    "best_results"
   ]
  },
  {
   "cell_type": "markdown",
   "id": "21645975",
   "metadata": {},
   "source": [
    "# Difference between training and test data"
   ]
  },
  {
   "cell_type": "markdown",
   "id": "83fd0757",
   "metadata": {},
   "source": [
    "In this notebok, we have used the initial training dataset to teach our machine learning models to perform to our criteria. From here we were able to use this training set to fine tune our models. We then applied our models to our training set (from kaggle) in order to evaluate our performance. \n",
    "\n",
    "Ultimately, the difference between the training and test data is training set is used to teach our models and the test set is used to assess the performance of each model. "
   ]
  },
  {
   "cell_type": "code",
   "execution_count": null,
   "id": "acf65437",
   "metadata": {},
   "outputs": [],
   "source": []
  }
 ],
 "metadata": {
  "kernelspec": {
   "display_name": "Python 3",
   "language": "python",
   "name": "python3"
  },
  "language_info": {
   "codemirror_mode": {
    "name": "ipython",
    "version": 3
   },
   "file_extension": ".py",
   "mimetype": "text/x-python",
   "name": "python",
   "nbconvert_exporter": "python",
   "pygments_lexer": "ipython3",
   "version": "3.8.8"
  }
 },
 "nbformat": 4,
 "nbformat_minor": 5
}
